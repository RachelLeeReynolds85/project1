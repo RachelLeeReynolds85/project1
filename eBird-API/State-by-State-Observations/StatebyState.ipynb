{
 "cells": [
  {
   "cell_type": "code",
   "execution_count": 1,
   "metadata": {},
   "outputs": [
    {
     "ename": "ModuleNotFoundError",
     "evalue": "No module named 'config'",
     "output_type": "error",
     "traceback": [
      "\u001b[0;31m---------------------------------------------------------------------------\u001b[0m",
      "\u001b[0;31mModuleNotFoundError\u001b[0m                       Traceback (most recent call last)",
      "\u001b[0;32m<ipython-input-1-da5a6144c69a>\u001b[0m in \u001b[0;36m<module>\u001b[0;34m\u001b[0m\n\u001b[1;32m      7\u001b[0m \u001b[0;32mimport\u001b[0m \u001b[0mplotly\u001b[0m\u001b[0;34m.\u001b[0m\u001b[0mgraph_objects\u001b[0m \u001b[0;32mas\u001b[0m \u001b[0mgo\u001b[0m\u001b[0;34m\u001b[0m\u001b[0;34m\u001b[0m\u001b[0m\n\u001b[1;32m      8\u001b[0m \u001b[0;32mimport\u001b[0m \u001b[0mnumpy\u001b[0m \u001b[0;32mas\u001b[0m \u001b[0mnp\u001b[0m\u001b[0;34m\u001b[0m\u001b[0;34m\u001b[0m\u001b[0m\n\u001b[0;32m----> 9\u001b[0;31m \u001b[0;32mfrom\u001b[0m \u001b[0mconfig\u001b[0m \u001b[0;32mimport\u001b[0m \u001b[0mmapbox_token\u001b[0m\u001b[0;34m\u001b[0m\u001b[0;34m\u001b[0m\u001b[0m\n\u001b[0m\u001b[1;32m     10\u001b[0m \u001b[0;32mfrom\u001b[0m \u001b[0mcalendar\u001b[0m \u001b[0;32mimport\u001b[0m \u001b[0mmonthrange\u001b[0m\u001b[0;34m\u001b[0m\u001b[0;34m\u001b[0m\u001b[0m\n\u001b[1;32m     11\u001b[0m \u001b[0;32mfrom\u001b[0m \u001b[0mconfig\u001b[0m \u001b[0;32mimport\u001b[0m \u001b[0mapi_key\u001b[0m\u001b[0;34m\u001b[0m\u001b[0;34m\u001b[0m\u001b[0m\n",
      "\u001b[0;31mModuleNotFoundError\u001b[0m: No module named 'config'"
     ]
    }
   ],
   "source": [
    "# import dependencies\n",
    "import os\n",
    "import requests\n",
    "import json\n",
    "import pandas as pd\n",
    "import plotly.express as px\n",
    "import plotly.graph_objects as go\n",
    "import numpy as np\n",
    "from config import mapbox_token\n",
    "from calendar import monthrange\n",
    "from config import api_key\n",
    "\n",
    "\n",
    "\n",
    "%reload_ext lab_black\n",
    "\n",
    "px.set_mapbox_access_token(mapbox_token)"
   ]
  },
  {
   "cell_type": "code",
   "execution_count": null,
   "metadata": {},
   "outputs": [],
   "source": [
    "# Column names of main Dataframe\n",
    "column_names = [\n",
    "    \"speciesCode\",\n",
    "    \"comName\",\n",
    "    \"sciName\",\n",
    "    \"locId\",\n",
    "    \"locName\",\n",
    "    \"obsDt\",\n",
    "    \"howMany\",\n",
    "    \"lat\",\n",
    "    \"lng\tobsValid\",\n",
    "    \"obsReviewed\",\n",
    "    \"locationPrivate\",\n",
    "    \"subId\",\n",
    "    \"State\",\n",
    "]\n",
    "\n",
    "# List of States\n",
    "list_states = [\n",
    "    \"US-AL\",\n",
    "    \"US-AK\",\n",
    "    \"US-AZ\",\n",
    "    \"US-AR\",\n",
    "    \"US-CA\",\n",
    "    \"US-CO\",\n",
    "    \"US-CT\",\n",
    "    \"US-DE\",\n",
    "    \"US-DC\",\n",
    "    \"US-FL\",\n",
    "    \"US-GA\",\n",
    "    \"US-HI\",\n",
    "    \"US-ID\",\n",
    "    \"US-IL\",\n",
    "    \"US-IN\",\n",
    "    \"US-IA\",\n",
    "    \"US-KS\",\n",
    "    \"US-KY\",\n",
    "    \"US-LA\",\n",
    "    \"US-ME\",\n",
    "    \"US-MD\",\n",
    "    \"US-MA\",\n",
    "    \"US-MI\",\n",
    "    \"US-MN\",\n",
    "    \"US-MS\",\n",
    "    \"US-MO\",\n",
    "    \"US-MT\",\n",
    "    \"US-NE\",\n",
    "    \"US-NV\",\n",
    "    \"US-NH\",\n",
    "    \"US-NJ\",\n",
    "    \"US-NM\",\n",
    "    \"US-NY\",\n",
    "    \"US-NC\",\n",
    "    \"US-ND\",\n",
    "    \"US-OH\",\n",
    "    \"US-OK\",\n",
    "    \"US-OR\",\n",
    "    \"US-PA\",\n",
    "    \"US-RI\",\n",
    "    \"US-SC\",\n",
    "    \"US-SD\",\n",
    "    \"US-TN\",\n",
    "    \"US-TX\",\n",
    "    \"US-UT\",\n",
    "    \"US-VT\",\n",
    "    \"US-VA\",\n",
    "    \"US-WA\",\n",
    "    \"US-WV\",\n",
    "    \"US-WI\",\n",
    "    \"US-WY\",\n",
    "]\n",
    "\n",
    "# Global Dataframe\n",
    "g_dataframe = pd.DataFrame(columns=column_names)\n",
    "\n",
    "# Each interation do a API call\n",
    "for state in list_states:\n",
    "    url = f\"https://api.ebird.org/v2/data/obs/{state}/recent\"\n",
    "    r = requests.get(url, params={\"key\": api_key, \"back\": 1})\n",
    "    df_obsdata = pd.DataFrame(r.json())\n",
    "\n",
    "    # Attach the State code to the data frame\n",
    "    df_obsdata[\"State\"] = state\n",
    "\n",
    "    # Append the local data to main data frame that has the state codes\n",
    "    g_dataframe = pd.concat([g_dataframe, df_obsdata])"
   ]
  },
  {
   "cell_type": "code",
   "execution_count": null,
   "metadata": {},
   "outputs": [],
   "source": [
    "g_dataframe"
   ]
  },
  {
   "cell_type": "code",
   "execution_count": null,
   "metadata": {},
   "outputs": [],
   "source": [
    "# Group by State\n",
    "g_dataframe.groupby(\"State\").sum()[\"howMany\"]\n",
    "obs_by_state = g_dataframe.groupby(\"State\").sum()[\"howMany\"]\n",
    "obs_by_state"
   ]
  },
  {
   "cell_type": "code",
   "execution_count": null,
   "metadata": {},
   "outputs": [],
   "source": [
    "state_sum = pd.DataFrame(obs_by_state)\n",
    "state_sum"
   ]
  },
  {
   "cell_type": "code",
   "execution_count": null,
   "metadata": {},
   "outputs": [],
   "source": [
    "state_sum = state_sum.reset_index()\n",
    "state_sum"
   ]
  },
  {
   "cell_type": "code",
   "execution_count": null,
   "metadata": {},
   "outputs": [],
   "source": [
    "state_sum[\"State_2D\"] = state_sum[\"State\"].str[3:]\n",
    "state_sum"
   ]
  },
  {
   "cell_type": "code",
   "execution_count": null,
   "metadata": {},
   "outputs": [],
   "source": [
    "# state_sum = pd.read_csv(\n",
    "# \"https://raw.githubusercontent.com/plotly/datasets/master/2011_us_ag_exports.csv\")\n",
    "\n",
    "fig = go.Figure(\n",
    "    data=go.Choropleth(\n",
    "        locations=state_sum[\"State_2D\"],  # Spatial coordinates\n",
    "        z=state_sum[\"howMany\"].astype(float),  # Data to be color-coded\n",
    "        locationmode=\"USA-states\",  # set of locations match entries in `locations`\n",
    "        colorscale=\"rainbow\",\n",
    "        colorbar_title=\"Observations\",\n",
    "    )\n",
    ")\n",
    "\n",
    "fig.update_layout(\n",
    "    title_text=\"US States Bird Sightings \", geo_scope=\"usa\",  # limite map scope to USA\n",
    ")\n",
    "\n",
    "fig.show()"
   ]
  },
  {
   "cell_type": "code",
   "execution_count": null,
   "metadata": {},
   "outputs": [],
   "source": []
  }
 ],
 "metadata": {
  "environment": {
   "name": "common-cpu.m54",
   "type": "gcloud",
   "uri": "gcr.io/deeplearning-platform-release/base-cpu:m54"
  },
  "kernelspec": {
   "display_name": "Python 3",
   "language": "python",
   "name": "python3"
  },
  "language_info": {
   "codemirror_mode": {
    "name": "ipython",
    "version": 3
   },
   "file_extension": ".py",
   "mimetype": "text/x-python",
   "name": "python",
   "nbconvert_exporter": "python",
   "pygments_lexer": "ipython3",
   "version": "3.7.8"
  }
 },
 "nbformat": 4,
 "nbformat_minor": 4
}
