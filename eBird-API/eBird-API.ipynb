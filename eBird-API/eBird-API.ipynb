{
 "cells": [
  {
   "cell_type": "code",
   "execution_count": 9,
   "metadata": {},
   "outputs": [],
   "source": [
    "#BEST SOLUTION EVER\n",
    "\n",
    "# import dependencies\n",
    "import os\n",
    "import requests\n",
    "import json\n",
    "import pandas as pd\n",
    "import plotly.express as px\n",
    "from config import api_key\n",
    "from config import mapbox_token\n",
    "\n",
    "%reload_ext lab_black\n",
    "\n",
    "px.set_mapbox_access_token(mapbox_token)"
   ]
  },
  {
   "cell_type": "code",
   "execution_count": 38,
   "metadata": {},
   "outputs": [],
   "source": [
    "# testing out the eBird API\n",
    "regionCode = \"US\"\n",
    "\n",
    "url = f\"https://api.ebird.org/v2/data/obs/{regionCode}/recent\"\n",
    "\n",
    "r = requests.get(url, params={\"key\": api_key, \"back\": 1})"
   ]
  },
  {
   "cell_type": "code",
   "execution_count": 39,
   "metadata": {},
   "outputs": [
    {
     "data": {
      "text/plain": [
       "'https://api.ebird.org/v2/data/obs/US/recent?key=d56mdhi9b35r&back=1'"
      ]
     },
     "execution_count": 39,
     "metadata": {},
     "output_type": "execute_result"
    }
   ],
   "source": [
    "r.url"
   ]
  },
  {
   "cell_type": "code",
   "execution_count": 40,
   "metadata": {},
   "outputs": [
    {
     "data": {
      "text/plain": [
       "200"
      ]
     },
     "execution_count": 40,
     "metadata": {},
     "output_type": "execute_result"
    }
   ],
   "source": [
    "r.status_code"
   ]
  },
  {
   "cell_type": "code",
   "execution_count": 41,
   "metadata": {},
   "outputs": [],
   "source": [
    "data = r.json()"
   ]
  },
  {
   "cell_type": "code",
   "execution_count": 42,
   "metadata": {},
   "outputs": [
    {
     "data": {
      "text/html": [
       "<div>\n",
       "<style scoped>\n",
       "    .dataframe tbody tr th:only-of-type {\n",
       "        vertical-align: middle;\n",
       "    }\n",
       "\n",
       "    .dataframe tbody tr th {\n",
       "        vertical-align: top;\n",
       "    }\n",
       "\n",
       "    .dataframe thead th {\n",
       "        text-align: right;\n",
       "    }\n",
       "</style>\n",
       "<table border=\"1\" class=\"dataframe\">\n",
       "  <thead>\n",
       "    <tr style=\"text-align: right;\">\n",
       "      <th></th>\n",
       "      <th>speciesCode</th>\n",
       "      <th>comName</th>\n",
       "      <th>sciName</th>\n",
       "      <th>locId</th>\n",
       "      <th>locName</th>\n",
       "      <th>obsDt</th>\n",
       "      <th>howMany</th>\n",
       "      <th>lat</th>\n",
       "      <th>lng</th>\n",
       "      <th>obsValid</th>\n",
       "      <th>obsReviewed</th>\n",
       "      <th>locationPrivate</th>\n",
       "      <th>subId</th>\n",
       "    </tr>\n",
       "  </thead>\n",
       "  <tbody>\n",
       "    <tr>\n",
       "      <th>0</th>\n",
       "      <td>brdowl</td>\n",
       "      <td>Barred Owl</td>\n",
       "      <td>Strix varia</td>\n",
       "      <td>L12327461</td>\n",
       "      <td>White Mountain National Forest, Glen US-NH 44....</td>\n",
       "      <td>2020-09-20 05:49</td>\n",
       "      <td>1.0</td>\n",
       "      <td>44.127050</td>\n",
       "      <td>-71.209310</td>\n",
       "      <td>True</td>\n",
       "      <td>False</td>\n",
       "      <td>True</td>\n",
       "      <td>S73815106</td>\n",
       "    </tr>\n",
       "    <tr>\n",
       "      <th>1</th>\n",
       "      <td>amerob</td>\n",
       "      <td>American Robin</td>\n",
       "      <td>Turdus migratorius</td>\n",
       "      <td>L12327460</td>\n",
       "      <td>129 Kings Hwy N, Westport US-CT 41.14735, -73....</td>\n",
       "      <td>2020-09-20 05:48</td>\n",
       "      <td>1.0</td>\n",
       "      <td>41.147350</td>\n",
       "      <td>-73.367013</td>\n",
       "      <td>True</td>\n",
       "      <td>False</td>\n",
       "      <td>True</td>\n",
       "      <td>S73815102</td>\n",
       "    </tr>\n",
       "    <tr>\n",
       "      <th>2</th>\n",
       "      <td>easowl1</td>\n",
       "      <td>Eastern Screech-Owl</td>\n",
       "      <td>Megascops asio</td>\n",
       "      <td>L12327460</td>\n",
       "      <td>129 Kings Hwy N, Westport US-CT 41.14735, -73....</td>\n",
       "      <td>2020-09-20 05:48</td>\n",
       "      <td>2.0</td>\n",
       "      <td>41.147350</td>\n",
       "      <td>-73.367013</td>\n",
       "      <td>True</td>\n",
       "      <td>False</td>\n",
       "      <td>True</td>\n",
       "      <td>S73815102</td>\n",
       "    </tr>\n",
       "    <tr>\n",
       "      <th>3</th>\n",
       "      <td>passer1</td>\n",
       "      <td>passerine sp.</td>\n",
       "      <td>Passeriformes sp.</td>\n",
       "      <td>L7682942</td>\n",
       "      <td>My house</td>\n",
       "      <td>2020-09-20 05:31</td>\n",
       "      <td>2.0</td>\n",
       "      <td>26.279226</td>\n",
       "      <td>-81.826981</td>\n",
       "      <td>True</td>\n",
       "      <td>False</td>\n",
       "      <td>True</td>\n",
       "      <td>S73814950</td>\n",
       "    </tr>\n",
       "    <tr>\n",
       "      <th>4</th>\n",
       "      <td>grnher</td>\n",
       "      <td>Green Heron</td>\n",
       "      <td>Butorides virescens</td>\n",
       "      <td>L7682942</td>\n",
       "      <td>My house</td>\n",
       "      <td>2020-09-20 05:31</td>\n",
       "      <td>2.0</td>\n",
       "      <td>26.279226</td>\n",
       "      <td>-81.826981</td>\n",
       "      <td>True</td>\n",
       "      <td>False</td>\n",
       "      <td>True</td>\n",
       "      <td>S73814950</td>\n",
       "    </tr>\n",
       "  </tbody>\n",
       "</table>\n",
       "</div>"
      ],
      "text/plain": [
       "  speciesCode              comName              sciName      locId  \\\n",
       "0      brdowl           Barred Owl          Strix varia  L12327461   \n",
       "1      amerob       American Robin   Turdus migratorius  L12327460   \n",
       "2     easowl1  Eastern Screech-Owl       Megascops asio  L12327460   \n",
       "3     passer1        passerine sp.    Passeriformes sp.   L7682942   \n",
       "4      grnher          Green Heron  Butorides virescens   L7682942   \n",
       "\n",
       "                                             locName             obsDt  \\\n",
       "0  White Mountain National Forest, Glen US-NH 44....  2020-09-20 05:49   \n",
       "1  129 Kings Hwy N, Westport US-CT 41.14735, -73....  2020-09-20 05:48   \n",
       "2  129 Kings Hwy N, Westport US-CT 41.14735, -73....  2020-09-20 05:48   \n",
       "3                                           My house  2020-09-20 05:31   \n",
       "4                                           My house  2020-09-20 05:31   \n",
       "\n",
       "   howMany        lat        lng  obsValid  obsReviewed  locationPrivate  \\\n",
       "0      1.0  44.127050 -71.209310      True        False             True   \n",
       "1      1.0  41.147350 -73.367013      True        False             True   \n",
       "2      2.0  41.147350 -73.367013      True        False             True   \n",
       "3      2.0  26.279226 -81.826981      True        False             True   \n",
       "4      2.0  26.279226 -81.826981      True        False             True   \n",
       "\n",
       "       subId  \n",
       "0  S73815106  \n",
       "1  S73815102  \n",
       "2  S73815102  \n",
       "3  S73814950  \n",
       "4  S73814950  "
      ]
     },
     "execution_count": 42,
     "metadata": {},
     "output_type": "execute_result"
    }
   ],
   "source": [
    "df = pd.DataFrame(data)\n",
    "df.head()"
   ]
  },
  {
   "cell_type": "code",
   "execution_count": 49,
   "metadata": {},
   "outputs": [],
   "source": [
    "# getting a list of sub-region codes (subnational1 for US is a list of states, subnational2 for US-TX is a list of cities)\n",
    "regionType = \"subnational2\"\n",
    "parentRegionCode = \"US-TX\"\n",
    "\n",
    "url = (\n",
    "    \"https://api.ebird.org/v2/ref/region/list/\"\n",
    "    + regionType\n",
    "    + \"/\"\n",
    "    + parentRegionCode\n",
    "    + \".json\"\n",
    ")\n",
    "\n",
    "r = requests.get(url, params={\"key\": api_key})"
   ]
  },
  {
   "cell_type": "code",
   "execution_count": 50,
   "metadata": {},
   "outputs": [
    {
     "data": {
      "text/plain": [
       "'https://api.ebird.org/v2/ref/region/list/subnational2/US-TX.json?key=d56mdhi9b35r'"
      ]
     },
     "execution_count": 50,
     "metadata": {},
     "output_type": "execute_result"
    }
   ],
   "source": [
    "r.url"
   ]
  },
  {
   "cell_type": "code",
   "execution_count": 51,
   "metadata": {},
   "outputs": [
    {
     "data": {
      "text/plain": [
       "200"
      ]
     },
     "execution_count": 51,
     "metadata": {},
     "output_type": "execute_result"
    }
   ],
   "source": [
    "r.status_code"
   ]
  },
  {
   "cell_type": "code",
   "execution_count": 52,
   "metadata": {},
   "outputs": [
    {
     "data": {
      "text/html": [
       "<div>\n",
       "<style scoped>\n",
       "    .dataframe tbody tr th:only-of-type {\n",
       "        vertical-align: middle;\n",
       "    }\n",
       "\n",
       "    .dataframe tbody tr th {\n",
       "        vertical-align: top;\n",
       "    }\n",
       "\n",
       "    .dataframe thead th {\n",
       "        text-align: right;\n",
       "    }\n",
       "</style>\n",
       "<table border=\"1\" class=\"dataframe\">\n",
       "  <thead>\n",
       "    <tr style=\"text-align: right;\">\n",
       "      <th></th>\n",
       "      <th>code</th>\n",
       "      <th>name</th>\n",
       "    </tr>\n",
       "  </thead>\n",
       "  <tbody>\n",
       "    <tr>\n",
       "      <th>0</th>\n",
       "      <td>US-TX-001</td>\n",
       "      <td>Anderson</td>\n",
       "    </tr>\n",
       "    <tr>\n",
       "      <th>1</th>\n",
       "      <td>US-TX-003</td>\n",
       "      <td>Andrews</td>\n",
       "    </tr>\n",
       "    <tr>\n",
       "      <th>2</th>\n",
       "      <td>US-TX-005</td>\n",
       "      <td>Angelina</td>\n",
       "    </tr>\n",
       "    <tr>\n",
       "      <th>3</th>\n",
       "      <td>US-TX-007</td>\n",
       "      <td>Aransas</td>\n",
       "    </tr>\n",
       "    <tr>\n",
       "      <th>4</th>\n",
       "      <td>US-TX-009</td>\n",
       "      <td>Archer</td>\n",
       "    </tr>\n",
       "    <tr>\n",
       "      <th>...</th>\n",
       "      <td>...</td>\n",
       "      <td>...</td>\n",
       "    </tr>\n",
       "    <tr>\n",
       "      <th>249</th>\n",
       "      <td>US-TX-499</td>\n",
       "      <td>Wood</td>\n",
       "    </tr>\n",
       "    <tr>\n",
       "      <th>250</th>\n",
       "      <td>US-TX-501</td>\n",
       "      <td>Yoakum</td>\n",
       "    </tr>\n",
       "    <tr>\n",
       "      <th>251</th>\n",
       "      <td>US-TX-503</td>\n",
       "      <td>Young</td>\n",
       "    </tr>\n",
       "    <tr>\n",
       "      <th>252</th>\n",
       "      <td>US-TX-505</td>\n",
       "      <td>Zapata</td>\n",
       "    </tr>\n",
       "    <tr>\n",
       "      <th>253</th>\n",
       "      <td>US-TX-507</td>\n",
       "      <td>Zavala</td>\n",
       "    </tr>\n",
       "  </tbody>\n",
       "</table>\n",
       "<p>254 rows × 2 columns</p>\n",
       "</div>"
      ],
      "text/plain": [
       "          code      name\n",
       "0    US-TX-001  Anderson\n",
       "1    US-TX-003   Andrews\n",
       "2    US-TX-005  Angelina\n",
       "3    US-TX-007   Aransas\n",
       "4    US-TX-009    Archer\n",
       "..         ...       ...\n",
       "249  US-TX-499      Wood\n",
       "250  US-TX-501    Yoakum\n",
       "251  US-TX-503     Young\n",
       "252  US-TX-505    Zapata\n",
       "253  US-TX-507    Zavala\n",
       "\n",
       "[254 rows x 2 columns]"
      ]
     },
     "execution_count": 52,
     "metadata": {},
     "output_type": "execute_result"
    }
   ],
   "source": [
    "df = pd.DataFrame(r.json())\n",
    "df"
   ]
  },
  {
   "cell_type": "code",
   "execution_count": 56,
   "metadata": {},
   "outputs": [
    {
     "data": {
      "text/plain": [
       "0    US-TX-001\n",
       "1    US-TX-003\n",
       "2    US-TX-005\n",
       "3    US-TX-007\n",
       "4    US-TX-009\n",
       "Name: code, dtype: object"
      ]
     },
     "execution_count": 56,
     "metadata": {},
     "output_type": "execute_result"
    }
   ],
   "source": [
    "# find number of species logged in different Texas cities for the last week\n",
    "\n",
    "# first make the list of Texas cities to search\n",
    "# city-level region codes for Texas are stored in df[\"code\"] \n",
    "df[\"code\"].head()"
   ]
  },
  {
   "cell_type": "code",
   "execution_count": 57,
   "metadata": {},
   "outputs": [
    {
     "data": {
      "text/plain": [
       "'US-TX-001'"
      ]
     },
     "execution_count": 57,
     "metadata": {},
     "output_type": "execute_result"
    }
   ],
   "source": [
    "# make them into a list to iterate over for later\n",
    "cities = df[\"code\"].to_list()\n",
    "\n",
    "# here's the first city in the list:\n",
    "cities[0]"
   ]
  },
  {
   "cell_type": "code",
   "execution_count": 74,
   "metadata": {},
   "outputs": [
    {
     "data": {
      "text/html": [
       "<div>\n",
       "<style scoped>\n",
       "    .dataframe tbody tr th:only-of-type {\n",
       "        vertical-align: middle;\n",
       "    }\n",
       "\n",
       "    .dataframe tbody tr th {\n",
       "        vertical-align: top;\n",
       "    }\n",
       "\n",
       "    .dataframe thead th {\n",
       "        text-align: right;\n",
       "    }\n",
       "</style>\n",
       "<table border=\"1\" class=\"dataframe\">\n",
       "  <thead>\n",
       "    <tr style=\"text-align: right;\">\n",
       "      <th></th>\n",
       "      <th>speciesCode</th>\n",
       "      <th>comName</th>\n",
       "      <th>sciName</th>\n",
       "      <th>locId</th>\n",
       "      <th>locName</th>\n",
       "      <th>obsDt</th>\n",
       "      <th>howMany</th>\n",
       "      <th>lat</th>\n",
       "      <th>lng</th>\n",
       "      <th>obsValid</th>\n",
       "      <th>obsReviewed</th>\n",
       "      <th>locationPrivate</th>\n",
       "      <th>subId</th>\n",
       "    </tr>\n",
       "  </thead>\n",
       "  <tbody>\n",
       "    <tr>\n",
       "      <th>0</th>\n",
       "      <td>grhowl</td>\n",
       "      <td>Great Horned Owl</td>\n",
       "      <td>Bubo virginianus</td>\n",
       "      <td>L1449722</td>\n",
       "      <td>Home</td>\n",
       "      <td>2020-09-19 18:34</td>\n",
       "      <td>2</td>\n",
       "      <td>28.021218</td>\n",
       "      <td>-97.105625</td>\n",
       "      <td>True</td>\n",
       "      <td>False</td>\n",
       "      <td>True</td>\n",
       "      <td>S73803618</td>\n",
       "    </tr>\n",
       "    <tr>\n",
       "      <th>1</th>\n",
       "      <td>leafly</td>\n",
       "      <td>Least Flycatcher</td>\n",
       "      <td>Empidonax minimus</td>\n",
       "      <td>L566809</td>\n",
       "      <td>Aransas Woods (CTC 047)</td>\n",
       "      <td>2020-09-19 16:04</td>\n",
       "      <td>1</td>\n",
       "      <td>27.987495</td>\n",
       "      <td>-97.109731</td>\n",
       "      <td>True</td>\n",
       "      <td>False</td>\n",
       "      <td>False</td>\n",
       "      <td>S73796866</td>\n",
       "    </tr>\n",
       "    <tr>\n",
       "      <th>2</th>\n",
       "      <td>grbher3</td>\n",
       "      <td>Great Blue Heron</td>\n",
       "      <td>Ardea herodias</td>\n",
       "      <td>L566809</td>\n",
       "      <td>Aransas Woods (CTC 047)</td>\n",
       "      <td>2020-09-19 16:04</td>\n",
       "      <td>1</td>\n",
       "      <td>27.987495</td>\n",
       "      <td>-97.109731</td>\n",
       "      <td>True</td>\n",
       "      <td>False</td>\n",
       "      <td>False</td>\n",
       "      <td>S73796866</td>\n",
       "    </tr>\n",
       "    <tr>\n",
       "      <th>3</th>\n",
       "      <td>osprey</td>\n",
       "      <td>Osprey</td>\n",
       "      <td>Pandion haliaetus</td>\n",
       "      <td>L566809</td>\n",
       "      <td>Aransas Woods (CTC 047)</td>\n",
       "      <td>2020-09-19 16:04</td>\n",
       "      <td>1</td>\n",
       "      <td>27.987495</td>\n",
       "      <td>-97.109731</td>\n",
       "      <td>True</td>\n",
       "      <td>False</td>\n",
       "      <td>False</td>\n",
       "      <td>S73796866</td>\n",
       "    </tr>\n",
       "    <tr>\n",
       "      <th>4</th>\n",
       "      <td>pibgre</td>\n",
       "      <td>Pied-billed Grebe</td>\n",
       "      <td>Podilymbus podiceps</td>\n",
       "      <td>L566809</td>\n",
       "      <td>Aransas Woods (CTC 047)</td>\n",
       "      <td>2020-09-19 15:59</td>\n",
       "      <td>1</td>\n",
       "      <td>27.987495</td>\n",
       "      <td>-97.109731</td>\n",
       "      <td>True</td>\n",
       "      <td>False</td>\n",
       "      <td>False</td>\n",
       "      <td>S73796854</td>\n",
       "    </tr>\n",
       "  </tbody>\n",
       "</table>\n",
       "</div>"
      ],
      "text/plain": [
       "  speciesCode            comName              sciName     locId  \\\n",
       "0      grhowl   Great Horned Owl     Bubo virginianus  L1449722   \n",
       "1      leafly   Least Flycatcher    Empidonax minimus   L566809   \n",
       "2     grbher3   Great Blue Heron       Ardea herodias   L566809   \n",
       "3      osprey             Osprey    Pandion haliaetus   L566809   \n",
       "4      pibgre  Pied-billed Grebe  Podilymbus podiceps   L566809   \n",
       "\n",
       "                   locName             obsDt  howMany        lat        lng  \\\n",
       "0                     Home  2020-09-19 18:34        2  28.021218 -97.105625   \n",
       "1  Aransas Woods (CTC 047)  2020-09-19 16:04        1  27.987495 -97.109731   \n",
       "2  Aransas Woods (CTC 047)  2020-09-19 16:04        1  27.987495 -97.109731   \n",
       "3  Aransas Woods (CTC 047)  2020-09-19 16:04        1  27.987495 -97.109731   \n",
       "4  Aransas Woods (CTC 047)  2020-09-19 15:59        1  27.987495 -97.109731   \n",
       "\n",
       "   obsValid  obsReviewed  locationPrivate      subId  \n",
       "0      True        False             True  S73803618  \n",
       "1      True        False            False  S73796866  \n",
       "2      True        False            False  S73796866  \n",
       "3      True        False            False  S73796866  \n",
       "4      True        False            False  S73796854  "
      ]
     },
     "execution_count": 74,
     "metadata": {},
     "output_type": "execute_result"
    }
   ],
   "source": [
    "# for a city, find the number of bird species observed in the last 7 days\n",
    "regionCode = cities[3]\n",
    "num_days = 7\n",
    "\n",
    "url = \"https://api.ebird.org/v2/data/obs/\" + regionCode + \"/recent\"\n",
    "\n",
    "df_city = pd.DataFrame(\n",
    "    requests.get(url, params={\"key\": api_key, \"back\": num_days}).json()\n",
    ")\n",
    "\n",
    "df_city.head()"
   ]
  },
  {
   "cell_type": "code",
   "execution_count": 75,
   "metadata": {},
   "outputs": [
    {
     "data": {
      "text/plain": [
       "35"
      ]
     },
     "execution_count": 75,
     "metadata": {},
     "output_type": "execute_result"
    }
   ],
   "source": [
    "# number of bird species observed is done by counting unique speciesCode\n",
    "df_city[\"speciesCode\"].nunique()"
   ]
  },
  {
   "cell_type": "code",
   "execution_count": 76,
   "metadata": {},
   "outputs": [
    {
     "data": {
      "text/plain": [
       "35"
      ]
     },
     "execution_count": 76,
     "metadata": {},
     "output_type": "execute_result"
    }
   ],
   "source": [
    "# can do this all at once for a given city:\n",
    "pd.DataFrame(requests.get(url, params={\"key\": api_key, \"back\": num_days}).json())[\n",
    "    \"speciesCode\"\n",
    "].nunique()"
   ]
  },
  {
   "cell_type": "code",
   "execution_count": 80,
   "metadata": {},
   "outputs": [],
   "source": [
    "# now iterate over all the cities in the cities list to get a count of species observed in Texas cities for the last 7 days\n",
    "num_days = 7\n",
    "\n",
    "num_observations = []\n",
    "no_observations = []\n",
    "\n",
    "for city in cities:\n",
    "    url = \"https://api.ebird.org/v2/data/obs/\" + city + \"/recent\"\n",
    "    try:\n",
    "        num_observations.append(\n",
    "            pd.DataFrame(\n",
    "                requests.get(url, params={\"key\": api_key, \"back\": num_days}).json()\n",
    "            )[\"speciesCode\"].nunique()\n",
    "        )\n",
    "    except Exception as e:\n",
    "        no_observations.append(city)\n",
    "        num_observations.append(0)"
   ]
  },
  {
   "cell_type": "code",
   "execution_count": 84,
   "metadata": {},
   "outputs": [
    {
     "data": {
      "text/html": [
       "<div>\n",
       "<style scoped>\n",
       "    .dataframe tbody tr th:only-of-type {\n",
       "        vertical-align: middle;\n",
       "    }\n",
       "\n",
       "    .dataframe tbody tr th {\n",
       "        vertical-align: top;\n",
       "    }\n",
       "\n",
       "    .dataframe thead th {\n",
       "        text-align: right;\n",
       "    }\n",
       "</style>\n",
       "<table border=\"1\" class=\"dataframe\">\n",
       "  <thead>\n",
       "    <tr style=\"text-align: right;\">\n",
       "      <th></th>\n",
       "      <th>observations</th>\n",
       "    </tr>\n",
       "  </thead>\n",
       "  <tbody>\n",
       "    <tr>\n",
       "      <th>US-TX-001</th>\n",
       "      <td>0</td>\n",
       "    </tr>\n",
       "    <tr>\n",
       "      <th>US-TX-003</th>\n",
       "      <td>9</td>\n",
       "    </tr>\n",
       "    <tr>\n",
       "      <th>US-TX-005</th>\n",
       "      <td>56</td>\n",
       "    </tr>\n",
       "    <tr>\n",
       "      <th>US-TX-007</th>\n",
       "      <td>35</td>\n",
       "    </tr>\n",
       "    <tr>\n",
       "      <th>US-TX-009</th>\n",
       "      <td>22</td>\n",
       "    </tr>\n",
       "    <tr>\n",
       "      <th>...</th>\n",
       "      <td>...</td>\n",
       "    </tr>\n",
       "    <tr>\n",
       "      <th>US-TX-499</th>\n",
       "      <td>54</td>\n",
       "    </tr>\n",
       "    <tr>\n",
       "      <th>US-TX-501</th>\n",
       "      <td>74</td>\n",
       "    </tr>\n",
       "    <tr>\n",
       "      <th>US-TX-503</th>\n",
       "      <td>16</td>\n",
       "    </tr>\n",
       "    <tr>\n",
       "      <th>US-TX-505</th>\n",
       "      <td>20</td>\n",
       "    </tr>\n",
       "    <tr>\n",
       "      <th>US-TX-507</th>\n",
       "      <td>0</td>\n",
       "    </tr>\n",
       "  </tbody>\n",
       "</table>\n",
       "<p>254 rows × 1 columns</p>\n",
       "</div>"
      ],
      "text/plain": [
       "           observations\n",
       "US-TX-001             0\n",
       "US-TX-003             9\n",
       "US-TX-005            56\n",
       "US-TX-007            35\n",
       "US-TX-009            22\n",
       "...                 ...\n",
       "US-TX-499            54\n",
       "US-TX-501            74\n",
       "US-TX-503            16\n",
       "US-TX-505            20\n",
       "US-TX-507             0\n",
       "\n",
       "[254 rows x 1 columns]"
      ]
     },
     "execution_count": 84,
     "metadata": {},
     "output_type": "execute_result"
    }
   ],
   "source": [
    "city_observations_df = pd.DataFrame(num_observations, index=cities).rename(\n",
    "    columns={0: \"observations\"}\n",
    ")\n",
    "\n",
    "city_observations_df"
   ]
  },
  {
   "cell_type": "code",
   "execution_count": 79,
   "metadata": {},
   "outputs": [
    {
     "data": {
      "text/plain": [
       "['US-TX-001',\n",
       " 'US-TX-033',\n",
       " 'US-TX-059',\n",
       " 'US-TX-063',\n",
       " 'US-TX-083',\n",
       " 'US-TX-095',\n",
       " 'US-TX-125',\n",
       " 'US-TX-133',\n",
       " 'US-TX-137',\n",
       " 'US-TX-143',\n",
       " 'US-TX-147',\n",
       " 'US-TX-153',\n",
       " 'US-TX-155',\n",
       " 'US-TX-165',\n",
       " 'US-TX-193',\n",
       " 'US-TX-227',\n",
       " 'US-TX-235',\n",
       " 'US-TX-237',\n",
       " 'US-TX-247',\n",
       " 'US-TX-249',\n",
       " 'US-TX-263',\n",
       " 'US-TX-269',\n",
       " 'US-TX-295',\n",
       " 'US-TX-335',\n",
       " 'US-TX-345',\n",
       " 'US-TX-379',\n",
       " 'US-TX-383',\n",
       " 'US-TX-393',\n",
       " 'US-TX-403',\n",
       " 'US-TX-413',\n",
       " 'US-TX-417',\n",
       " 'US-TX-429',\n",
       " 'US-TX-433',\n",
       " 'US-TX-455',\n",
       " 'US-TX-457',\n",
       " 'US-TX-459',\n",
       " 'US-TX-483',\n",
       " 'US-TX-507']"
      ]
     },
     "execution_count": 79,
     "metadata": {},
     "output_type": "execute_result"
    }
   ],
   "source": [
    "no_observations"
   ]
  },
  {
   "cell_type": "markdown",
   "metadata": {},
   "source": [
    "## MORE THOUGHTS:\n",
    "* can keep going... merge the city name back into the new dataframe\n",
    "* use request to get open weather map data for the cities (if possible going back 7 days ... may need a different weather API to see past weather data)\n",
    "* could compare number of observations to temp / weather type (sunny, windy, rainy)\n",
    "* use Google geocoding API to map cities to lat/lon and put number of sightings on map using plotly\n",
    "* make a bar chart to show which species observed most often across the state\n",
    "* probably need to actually store the results as they are requested instead of just extracting out individual pieces of info\n",
    "* eBirds also has \"notable\" observations request which returns rare birds or unusual observations - could be fun to request a list of \"notable\" sightings for Austin for the last X days\n",
    "* needs to be more robust generally, but this is the skeleton of the idea"
   ]
  },
  {
   "cell_type": "code",
   "execution_count": null,
   "metadata": {},
   "outputs": [],
   "source": []
  }
 ],
 "metadata": {
  "environment": {
   "name": "common-cpu.m54",
   "type": "gcloud",
   "uri": "gcr.io/deeplearning-platform-release/base-cpu:m54"
  },
  "kernelspec": {
   "display_name": "Python 3",
   "language": "python",
   "name": "python3"
  },
  "language_info": {
   "codemirror_mode": {
    "name": "ipython",
    "version": 3
   },
   "file_extension": ".py",
   "mimetype": "text/x-python",
   "name": "python",
   "nbconvert_exporter": "python",
   "pygments_lexer": "ipython3",
   "version": "3.7.8"
  }
 },
 "nbformat": 4,
 "nbformat_minor": 4
}
