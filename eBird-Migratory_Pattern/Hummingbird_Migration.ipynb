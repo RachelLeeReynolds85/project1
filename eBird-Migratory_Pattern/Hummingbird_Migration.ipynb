{
 "cells": [
  {
   "cell_type": "markdown",
   "metadata": {},
   "source": [
    "### **Migration Pattern of the Ruby-throated Hummingbird**"
   ]
  },
  {
   "cell_type": "code",
   "execution_count": 2,
   "metadata": {
    "jupyter": {
     "source_hidden": true
    }
   },
   "outputs": [],
   "source": [
    "# import dependencies\n",
    "import os\n",
    "import requests\n",
    "import json\n",
    "import pandas as pd\n",
    "import plotly.express as px\n",
    "from config import api_key\n",
    "from config import mapbox_token\n",
    "from config import g_key\n",
    "from calendar import monthrange\n",
    "\n",
    "%reload_ext lab_black\n",
    "\n",
    "px.set_mapbox_access_token(mapbox_token)"
   ]
  },
  {
   "cell_type": "markdown",
   "metadata": {},
   "source": [
    "**Ruby-throated hummingbirds are the only hummingbirds that breed on the eastern coast of North America. They weigh less than a slice of bread and will migrate across the Gulf of Mexico in less than a day. Hummingbirds in general are able to fly backwards and even upside down! Ruby-throated hummingbirds build tiny nests for their even tinier eggs. They may produce up to three broods in a single year!** \n",
    "\n",
    "![alt text](60395561-480px.jpg)\n",
    "\n",
    "- Name: ruby throated hummingbird (Archilochus colubris)\n",
    "- Range: Northern and Central America\n",
    "- Habitat: mostly forests and forest edges that provide enough food\n",
    "- Size: 0.1oz (2.8g) in weight; 4in (10cm) wingspan\n",
    "- Diet: nectar from tubular flowers as well as arthropods like mosquitoes and spiders\n",
    "- Predators: larger birds such as kite and kestrels, domestic cats, lizards, snakes, and nest invaders like blue jays, squirrels, and chipmunks\n",
    "- Life Cycle: females live longer - up to nine years"
   ]
  },
  {
   "cell_type": "code",
   "execution_count": 2,
   "metadata": {
    "jupyter": {
     "source_hidden": true
    }
   },
   "outputs": [],
   "source": [
    "# create function to hold columns for df\n",
    "def bird_data(data):\n",
    "    return {\n",
    "        \"Common Name\": data[\"comName\"],\n",
    "        \"Scientific Name\": data[\"sciName\"],\n",
    "        \"Location Name\": data[\"locName\"],\n",
    "        \"Latitude\": data[\"lat\"],\n",
    "        \"Longitude\": data[\"lng\"],\n",
    "        \"Date\": data[\"obsDt\"],\n",
    "        \"Observation Validity\": data[\"obsValid\"],\n",
    "    }"
   ]
  },
  {
   "cell_type": "code",
   "execution_count": 3,
   "metadata": {
    "jupyter": {
     "source_hidden": true
    }
   },
   "outputs": [
    {
     "data": {
      "text/html": [
       "<div>\n",
       "<style scoped>\n",
       "    .dataframe tbody tr th:only-of-type {\n",
       "        vertical-align: middle;\n",
       "    }\n",
       "\n",
       "    .dataframe tbody tr th {\n",
       "        vertical-align: top;\n",
       "    }\n",
       "\n",
       "    .dataframe thead th {\n",
       "        text-align: right;\n",
       "    }\n",
       "</style>\n",
       "<table border=\"1\" class=\"dataframe\">\n",
       "  <thead>\n",
       "    <tr style=\"text-align: right;\">\n",
       "      <th></th>\n",
       "      <th>Common Name</th>\n",
       "      <th>Scientific Name</th>\n",
       "      <th>Location Name</th>\n",
       "      <th>Latitude</th>\n",
       "      <th>Longitude</th>\n",
       "      <th>Date</th>\n",
       "      <th>Observation Validity</th>\n",
       "      <th>month</th>\n",
       "      <th>day</th>\n",
       "    </tr>\n",
       "  </thead>\n",
       "  <tbody>\n",
       "    <tr>\n",
       "      <th>0</th>\n",
       "      <td>Great Horned Owl</td>\n",
       "      <td>Bubo virginianus</td>\n",
       "      <td>503 Shadberry Dr</td>\n",
       "      <td>30.229906</td>\n",
       "      <td>-95.550102</td>\n",
       "      <td>2019-01-01 22:15</td>\n",
       "      <td>True</td>\n",
       "      <td>1</td>\n",
       "      <td>1</td>\n",
       "    </tr>\n",
       "    <tr>\n",
       "      <th>1</th>\n",
       "      <td>Blue-winged Teal</td>\n",
       "      <td>Spatula discors</td>\n",
       "      <td>1040 West Farm Road 71, Talco, Texas, US (33.3...</td>\n",
       "      <td>33.341312</td>\n",
       "      <td>-95.267409</td>\n",
       "      <td>2019-01-01 21:47</td>\n",
       "      <td>True</td>\n",
       "      <td>1</td>\n",
       "      <td>1</td>\n",
       "    </tr>\n",
       "    <tr>\n",
       "      <th>2</th>\n",
       "      <td>Gadwall</td>\n",
       "      <td>Mareca strepera</td>\n",
       "      <td>1040 West Farm Road 71, Talco, Texas, US (33.3...</td>\n",
       "      <td>33.341312</td>\n",
       "      <td>-95.267409</td>\n",
       "      <td>2019-01-01 21:47</td>\n",
       "      <td>True</td>\n",
       "      <td>1</td>\n",
       "      <td>1</td>\n",
       "    </tr>\n",
       "    <tr>\n",
       "      <th>3</th>\n",
       "      <td>Eurasian Collared-Dove</td>\n",
       "      <td>Streptopelia decaocto</td>\n",
       "      <td>1040 West Farm Road 71, Talco, Texas, US (33.3...</td>\n",
       "      <td>33.341312</td>\n",
       "      <td>-95.267409</td>\n",
       "      <td>2019-01-01 21:47</td>\n",
       "      <td>True</td>\n",
       "      <td>1</td>\n",
       "      <td>1</td>\n",
       "    </tr>\n",
       "    <tr>\n",
       "      <th>4</th>\n",
       "      <td>Mourning Dove</td>\n",
       "      <td>Zenaida macroura</td>\n",
       "      <td>1040 West Farm Road 71, Talco, Texas, US (33.3...</td>\n",
       "      <td>33.341312</td>\n",
       "      <td>-95.267409</td>\n",
       "      <td>2019-01-01 21:47</td>\n",
       "      <td>True</td>\n",
       "      <td>1</td>\n",
       "      <td>1</td>\n",
       "    </tr>\n",
       "    <tr>\n",
       "      <th>...</th>\n",
       "      <td>...</td>\n",
       "      <td>...</td>\n",
       "      <td>...</td>\n",
       "      <td>...</td>\n",
       "      <td>...</td>\n",
       "      <td>...</td>\n",
       "      <td>...</td>\n",
       "      <td>...</td>\n",
       "      <td>...</td>\n",
       "    </tr>\n",
       "    <tr>\n",
       "      <th>129925</th>\n",
       "      <td>Common Tern</td>\n",
       "      <td>Sterna hirundo</td>\n",
       "      <td>Bolivar Flats Shorebird Sanctuary (UTC 058)</td>\n",
       "      <td>29.371137</td>\n",
       "      <td>-94.728708</td>\n",
       "      <td>2019-12-31 07:28</td>\n",
       "      <td>True</td>\n",
       "      <td>12</td>\n",
       "      <td>31</td>\n",
       "    </tr>\n",
       "    <tr>\n",
       "      <th>129926</th>\n",
       "      <td>Black-crowned/Yellow-crowned Night-Heron</td>\n",
       "      <td>Nycticorax nycticorax/Nyctanassa violacea</td>\n",
       "      <td>Los Fresnos</td>\n",
       "      <td>26.071750</td>\n",
       "      <td>-97.476360</td>\n",
       "      <td>2019-12-31 07:08</td>\n",
       "      <td>True</td>\n",
       "      <td>12</td>\n",
       "      <td>31</td>\n",
       "    </tr>\n",
       "    <tr>\n",
       "      <th>129927</th>\n",
       "      <td>Buteo sp.</td>\n",
       "      <td>Buteo sp.</td>\n",
       "      <td>Los Fresnos</td>\n",
       "      <td>26.071750</td>\n",
       "      <td>-97.476360</td>\n",
       "      <td>2019-12-31 07:08</td>\n",
       "      <td>True</td>\n",
       "      <td>12</td>\n",
       "      <td>31</td>\n",
       "    </tr>\n",
       "    <tr>\n",
       "      <th>129928</th>\n",
       "      <td>warbler sp. (Parulidae sp.)</td>\n",
       "      <td>Parulidae sp.</td>\n",
       "      <td>Los Fresnos</td>\n",
       "      <td>26.071750</td>\n",
       "      <td>-97.476360</td>\n",
       "      <td>2019-12-31 07:08</td>\n",
       "      <td>True</td>\n",
       "      <td>12</td>\n",
       "      <td>31</td>\n",
       "    </tr>\n",
       "    <tr>\n",
       "      <th>129929</th>\n",
       "      <td>Crissal Thrasher</td>\n",
       "      <td>Toxostoma crissale</td>\n",
       "      <td>Executive &amp; Paisano</td>\n",
       "      <td>31.794157</td>\n",
       "      <td>-106.531184</td>\n",
       "      <td>2019-12-31 06:44</td>\n",
       "      <td>True</td>\n",
       "      <td>12</td>\n",
       "      <td>31</td>\n",
       "    </tr>\n",
       "  </tbody>\n",
       "</table>\n",
       "<p>129930 rows × 9 columns</p>\n",
       "</div>"
      ],
      "text/plain": [
       "                                     Common Name  \\\n",
       "0                               Great Horned Owl   \n",
       "1                               Blue-winged Teal   \n",
       "2                                        Gadwall   \n",
       "3                         Eurasian Collared-Dove   \n",
       "4                                  Mourning Dove   \n",
       "...                                          ...   \n",
       "129925                               Common Tern   \n",
       "129926  Black-crowned/Yellow-crowned Night-Heron   \n",
       "129927                                 Buteo sp.   \n",
       "129928               warbler sp. (Parulidae sp.)   \n",
       "129929                          Crissal Thrasher   \n",
       "\n",
       "                                  Scientific Name  \\\n",
       "0                                Bubo virginianus   \n",
       "1                                 Spatula discors   \n",
       "2                                 Mareca strepera   \n",
       "3                           Streptopelia decaocto   \n",
       "4                                Zenaida macroura   \n",
       "...                                           ...   \n",
       "129925                             Sterna hirundo   \n",
       "129926  Nycticorax nycticorax/Nyctanassa violacea   \n",
       "129927                                  Buteo sp.   \n",
       "129928                              Parulidae sp.   \n",
       "129929                         Toxostoma crissale   \n",
       "\n",
       "                                            Location Name   Latitude  \\\n",
       "0                                        503 Shadberry Dr  30.229906   \n",
       "1       1040 West Farm Road 71, Talco, Texas, US (33.3...  33.341312   \n",
       "2       1040 West Farm Road 71, Talco, Texas, US (33.3...  33.341312   \n",
       "3       1040 West Farm Road 71, Talco, Texas, US (33.3...  33.341312   \n",
       "4       1040 West Farm Road 71, Talco, Texas, US (33.3...  33.341312   \n",
       "...                                                   ...        ...   \n",
       "129925        Bolivar Flats Shorebird Sanctuary (UTC 058)  29.371137   \n",
       "129926                                        Los Fresnos  26.071750   \n",
       "129927                                        Los Fresnos  26.071750   \n",
       "129928                                        Los Fresnos  26.071750   \n",
       "129929                                Executive & Paisano  31.794157   \n",
       "\n",
       "         Longitude              Date  Observation Validity  month  day  \n",
       "0       -95.550102  2019-01-01 22:15                  True      1    1  \n",
       "1       -95.267409  2019-01-01 21:47                  True      1    1  \n",
       "2       -95.267409  2019-01-01 21:47                  True      1    1  \n",
       "3       -95.267409  2019-01-01 21:47                  True      1    1  \n",
       "4       -95.267409  2019-01-01 21:47                  True      1    1  \n",
       "...            ...               ...                   ...    ...  ...  \n",
       "129925  -94.728708  2019-12-31 07:28                  True     12   31  \n",
       "129926  -97.476360  2019-12-31 07:08                  True     12   31  \n",
       "129927  -97.476360  2019-12-31 07:08                  True     12   31  \n",
       "129928  -97.476360  2019-12-31 07:08                  True     12   31  \n",
       "129929 -106.531184  2019-12-31 06:44                  True     12   31  \n",
       "\n",
       "[129930 rows x 9 columns]"
      ]
     },
     "execution_count": 3,
     "metadata": {},
     "output_type": "execute_result"
    }
   ],
   "source": [
    "month_results = []\n",
    "day_results = []\n",
    "month = []\n",
    "day = []\n",
    "all_data = []\n",
    "\n",
    "record = 1\n",
    "\n",
    "\n",
    "for month in range(1, 13):\n",
    "    for day in range(1, monthrange(2019, month)[1] + 1):\n",
    "        url = f\"https://api.ebird.org/v2/data/obs/US-TX/historic/2019/{month}/{day}\"\n",
    "        response = requests.get(url, params={\"key\": api_key})\n",
    "        data = response.json()\n",
    "\n",
    "        for bird in data:\n",
    "\n",
    "            results = bird_data(bird)\n",
    "            results[\"month\"] = month\n",
    "            results[\"day\"] = day\n",
    "            all_data.append(results)\n",
    "\n",
    "df = pd.DataFrame(all_data)\n",
    "df"
   ]
  },
  {
   "cell_type": "code",
   "execution_count": null,
   "metadata": {},
   "outputs": [],
   "source": [
    "pd.to_csv(\"Birds in Texas 2019.csv\")"
   ]
  },
  {
   "cell_type": "code",
   "execution_count": 7,
   "metadata": {
    "collapsed": true,
    "jupyter": {
     "outputs_hidden": true,
     "source_hidden": true
    }
   },
   "outputs": [
    {
     "data": {
      "text/html": [
       "<div>\n",
       "<style scoped>\n",
       "    .dataframe tbody tr th:only-of-type {\n",
       "        vertical-align: middle;\n",
       "    }\n",
       "\n",
       "    .dataframe tbody tr th {\n",
       "        vertical-align: top;\n",
       "    }\n",
       "\n",
       "    .dataframe thead th {\n",
       "        text-align: right;\n",
       "    }\n",
       "</style>\n",
       "<table border=\"1\" class=\"dataframe\">\n",
       "  <thead>\n",
       "    <tr style=\"text-align: right;\">\n",
       "      <th></th>\n",
       "      <th>Unnamed: 0</th>\n",
       "      <th>Common Name</th>\n",
       "      <th>Scientific Name</th>\n",
       "      <th>Location Name</th>\n",
       "      <th>Latitude</th>\n",
       "      <th>Longitude</th>\n",
       "      <th>Date</th>\n",
       "      <th>Observation Validity</th>\n",
       "      <th>month</th>\n",
       "      <th>day</th>\n",
       "    </tr>\n",
       "  </thead>\n",
       "  <tbody>\n",
       "    <tr>\n",
       "      <th>305</th>\n",
       "      <td>305</td>\n",
       "      <td>Ruby-throated Hummingbird</td>\n",
       "      <td>Archilochus colubris</td>\n",
       "      <td>Estero Llano Grande SP WBC (LTC 054)</td>\n",
       "      <td>26.125870</td>\n",
       "      <td>-97.957272</td>\n",
       "      <td>2019-01-01 14:00</td>\n",
       "      <td>True</td>\n",
       "      <td>1</td>\n",
       "      <td>1</td>\n",
       "    </tr>\n",
       "    <tr>\n",
       "      <th>706</th>\n",
       "      <td>706</td>\n",
       "      <td>Ruby-throated Hummingbird</td>\n",
       "      <td>Archilochus colubris</td>\n",
       "      <td>Orwig Home</td>\n",
       "      <td>29.766149</td>\n",
       "      <td>-95.568746</td>\n",
       "      <td>2019-01-02 09:00</td>\n",
       "      <td>True</td>\n",
       "      <td>1</td>\n",
       "      <td>2</td>\n",
       "    </tr>\n",
       "    <tr>\n",
       "      <th>967</th>\n",
       "      <td>967</td>\n",
       "      <td>Ruby-throated Hummingbird</td>\n",
       "      <td>Archilochus colubris</td>\n",
       "      <td>Boggy Bayou Nature Park</td>\n",
       "      <td>28.456368</td>\n",
       "      <td>-96.411582</td>\n",
       "      <td>2019-01-03 15:51</td>\n",
       "      <td>True</td>\n",
       "      <td>1</td>\n",
       "      <td>3</td>\n",
       "    </tr>\n",
       "    <tr>\n",
       "      <th>1328</th>\n",
       "      <td>1328</td>\n",
       "      <td>Ruby-throated Hummingbird</td>\n",
       "      <td>Archilochus colubris</td>\n",
       "      <td>Bentsen-Rio Grande Val. SP--HQ Buildings area</td>\n",
       "      <td>26.185605</td>\n",
       "      <td>-98.379940</td>\n",
       "      <td>2019-01-04 15:42</td>\n",
       "      <td>True</td>\n",
       "      <td>1</td>\n",
       "      <td>4</td>\n",
       "    </tr>\n",
       "    <tr>\n",
       "      <th>1780</th>\n",
       "      <td>1780</td>\n",
       "      <td>Ruby-throated Hummingbird</td>\n",
       "      <td>Archilochus colubris</td>\n",
       "      <td>Estero Llano Grande SP WBC (LTC 054)</td>\n",
       "      <td>26.125870</td>\n",
       "      <td>-97.957272</td>\n",
       "      <td>2019-01-05 11:19</td>\n",
       "      <td>True</td>\n",
       "      <td>1</td>\n",
       "      <td>5</td>\n",
       "    </tr>\n",
       "    <tr>\n",
       "      <th>...</th>\n",
       "      <td>...</td>\n",
       "      <td>...</td>\n",
       "      <td>...</td>\n",
       "      <td>...</td>\n",
       "      <td>...</td>\n",
       "      <td>...</td>\n",
       "      <td>...</td>\n",
       "      <td>...</td>\n",
       "      <td>...</td>\n",
       "      <td>...</td>\n",
       "    </tr>\n",
       "    <tr>\n",
       "      <th>128246</th>\n",
       "      <td>128246</td>\n",
       "      <td>Ruby-throated Hummingbird</td>\n",
       "      <td>Archilochus colubris</td>\n",
       "      <td>US-TX-Pasadena-4515 Olive Green Ct</td>\n",
       "      <td>29.612330</td>\n",
       "      <td>-95.112571</td>\n",
       "      <td>2019-12-27 16:40</td>\n",
       "      <td>True</td>\n",
       "      <td>12</td>\n",
       "      <td>27</td>\n",
       "    </tr>\n",
       "    <tr>\n",
       "      <th>128712</th>\n",
       "      <td>128712</td>\n",
       "      <td>Ruby-throated Hummingbird</td>\n",
       "      <td>Archilochus colubris</td>\n",
       "      <td>Estero Llano Grande SP WBC (LTC 054)</td>\n",
       "      <td>26.125870</td>\n",
       "      <td>-97.957272</td>\n",
       "      <td>2019-12-28 14:43</td>\n",
       "      <td>True</td>\n",
       "      <td>12</td>\n",
       "      <td>28</td>\n",
       "    </tr>\n",
       "    <tr>\n",
       "      <th>128847</th>\n",
       "      <td>128847</td>\n",
       "      <td>Ruby-throated Hummingbird</td>\n",
       "      <td>Archilochus colubris</td>\n",
       "      <td>100–198 Daisy St, Weslaco US-TX (26.1498,-97.9...</td>\n",
       "      <td>26.149772</td>\n",
       "      <td>-97.959743</td>\n",
       "      <td>2019-12-29 19:07</td>\n",
       "      <td>True</td>\n",
       "      <td>12</td>\n",
       "      <td>29</td>\n",
       "    </tr>\n",
       "    <tr>\n",
       "      <th>129211</th>\n",
       "      <td>129211</td>\n",
       "      <td>Ruby-throated Hummingbird</td>\n",
       "      <td>Archilochus colubris</td>\n",
       "      <td>100–198 Daisy St, Weslaco US-TX (26.1498,-97.9...</td>\n",
       "      <td>26.149772</td>\n",
       "      <td>-97.959743</td>\n",
       "      <td>2019-12-30 18:04</td>\n",
       "      <td>True</td>\n",
       "      <td>12</td>\n",
       "      <td>30</td>\n",
       "    </tr>\n",
       "    <tr>\n",
       "      <th>129675</th>\n",
       "      <td>129675</td>\n",
       "      <td>Ruby-throated Hummingbird</td>\n",
       "      <td>Archilochus colubris</td>\n",
       "      <td>100–198 Daisy St, Weslaco US-TX (26.1498,-97.9...</td>\n",
       "      <td>26.149772</td>\n",
       "      <td>-97.959743</td>\n",
       "      <td>2019-12-31 16:59</td>\n",
       "      <td>True</td>\n",
       "      <td>12</td>\n",
       "      <td>31</td>\n",
       "    </tr>\n",
       "  </tbody>\n",
       "</table>\n",
       "<p>364 rows × 10 columns</p>\n",
       "</div>"
      ],
      "text/plain": [
       "        Unnamed: 0                Common Name       Scientific Name  \\\n",
       "305            305  Ruby-throated Hummingbird  Archilochus colubris   \n",
       "706            706  Ruby-throated Hummingbird  Archilochus colubris   \n",
       "967            967  Ruby-throated Hummingbird  Archilochus colubris   \n",
       "1328          1328  Ruby-throated Hummingbird  Archilochus colubris   \n",
       "1780          1780  Ruby-throated Hummingbird  Archilochus colubris   \n",
       "...            ...                        ...                   ...   \n",
       "128246      128246  Ruby-throated Hummingbird  Archilochus colubris   \n",
       "128712      128712  Ruby-throated Hummingbird  Archilochus colubris   \n",
       "128847      128847  Ruby-throated Hummingbird  Archilochus colubris   \n",
       "129211      129211  Ruby-throated Hummingbird  Archilochus colubris   \n",
       "129675      129675  Ruby-throated Hummingbird  Archilochus colubris   \n",
       "\n",
       "                                            Location Name   Latitude  \\\n",
       "305                  Estero Llano Grande SP WBC (LTC 054)  26.125870   \n",
       "706                                            Orwig Home  29.766149   \n",
       "967                               Boggy Bayou Nature Park  28.456368   \n",
       "1328        Bentsen-Rio Grande Val. SP--HQ Buildings area  26.185605   \n",
       "1780                 Estero Llano Grande SP WBC (LTC 054)  26.125870   \n",
       "...                                                   ...        ...   \n",
       "128246                 US-TX-Pasadena-4515 Olive Green Ct  29.612330   \n",
       "128712               Estero Llano Grande SP WBC (LTC 054)  26.125870   \n",
       "128847  100–198 Daisy St, Weslaco US-TX (26.1498,-97.9...  26.149772   \n",
       "129211  100–198 Daisy St, Weslaco US-TX (26.1498,-97.9...  26.149772   \n",
       "129675  100–198 Daisy St, Weslaco US-TX (26.1498,-97.9...  26.149772   \n",
       "\n",
       "        Longitude              Date  Observation Validity  month  day  \n",
       "305    -97.957272  2019-01-01 14:00                  True      1    1  \n",
       "706    -95.568746  2019-01-02 09:00                  True      1    2  \n",
       "967    -96.411582  2019-01-03 15:51                  True      1    3  \n",
       "1328   -98.379940  2019-01-04 15:42                  True      1    4  \n",
       "1780   -97.957272  2019-01-05 11:19                  True      1    5  \n",
       "...           ...               ...                   ...    ...  ...  \n",
       "128246 -95.112571  2019-12-27 16:40                  True     12   27  \n",
       "128712 -97.957272  2019-12-28 14:43                  True     12   28  \n",
       "128847 -97.959743  2019-12-29 19:07                  True     12   29  \n",
       "129211 -97.959743  2019-12-30 18:04                  True     12   30  \n",
       "129675 -97.959743  2019-12-31 16:59                  True     12   31  \n",
       "\n",
       "[364 rows x 10 columns]"
      ]
     },
     "execution_count": 7,
     "metadata": {},
     "output_type": "execute_result"
    }
   ],
   "source": [
    "data_birds = pd.DataFrame(pd.read_csv(\"Birds in Texas 2019.csv\"))\n",
    "data_birds.loc[data_birds[\"Common Name\"] == \"Ruby-throated Hummingbird\"]"
   ]
  },
  {
   "cell_type": "code",
   "execution_count": 8,
   "metadata": {
    "collapsed": true,
    "jupyter": {
     "outputs_hidden": true
    }
   },
   "outputs": [
    {
     "data": {
      "text/html": [
       "<div>\n",
       "<style scoped>\n",
       "    .dataframe tbody tr th:only-of-type {\n",
       "        vertical-align: middle;\n",
       "    }\n",
       "\n",
       "    .dataframe tbody tr th {\n",
       "        vertical-align: top;\n",
       "    }\n",
       "\n",
       "    .dataframe thead th {\n",
       "        text-align: right;\n",
       "    }\n",
       "</style>\n",
       "<table border=\"1\" class=\"dataframe\">\n",
       "  <thead>\n",
       "    <tr style=\"text-align: right;\">\n",
       "      <th></th>\n",
       "      <th>Unnamed: 0</th>\n",
       "      <th>Common Name</th>\n",
       "      <th>Scientific Name</th>\n",
       "      <th>Location Name</th>\n",
       "      <th>Latitude</th>\n",
       "      <th>Longitude</th>\n",
       "      <th>Date</th>\n",
       "      <th>Observation Validity</th>\n",
       "      <th>month</th>\n",
       "      <th>day</th>\n",
       "    </tr>\n",
       "  </thead>\n",
       "  <tbody>\n",
       "    <tr>\n",
       "      <th>305</th>\n",
       "      <td>305</td>\n",
       "      <td>Ruby-throated Hummingbird</td>\n",
       "      <td>Archilochus colubris</td>\n",
       "      <td>Estero Llano Grande SP WBC (LTC 054)</td>\n",
       "      <td>26.125870</td>\n",
       "      <td>-97.957272</td>\n",
       "      <td>2019-01-01 14:00</td>\n",
       "      <td>True</td>\n",
       "      <td>1</td>\n",
       "      <td>1</td>\n",
       "    </tr>\n",
       "    <tr>\n",
       "      <th>706</th>\n",
       "      <td>706</td>\n",
       "      <td>Ruby-throated Hummingbird</td>\n",
       "      <td>Archilochus colubris</td>\n",
       "      <td>Orwig Home</td>\n",
       "      <td>29.766149</td>\n",
       "      <td>-95.568746</td>\n",
       "      <td>2019-01-02 09:00</td>\n",
       "      <td>True</td>\n",
       "      <td>1</td>\n",
       "      <td>2</td>\n",
       "    </tr>\n",
       "    <tr>\n",
       "      <th>967</th>\n",
       "      <td>967</td>\n",
       "      <td>Ruby-throated Hummingbird</td>\n",
       "      <td>Archilochus colubris</td>\n",
       "      <td>Boggy Bayou Nature Park</td>\n",
       "      <td>28.456368</td>\n",
       "      <td>-96.411582</td>\n",
       "      <td>2019-01-03 15:51</td>\n",
       "      <td>True</td>\n",
       "      <td>1</td>\n",
       "      <td>3</td>\n",
       "    </tr>\n",
       "    <tr>\n",
       "      <th>1328</th>\n",
       "      <td>1328</td>\n",
       "      <td>Ruby-throated Hummingbird</td>\n",
       "      <td>Archilochus colubris</td>\n",
       "      <td>Bentsen-Rio Grande Val. SP--HQ Buildings area</td>\n",
       "      <td>26.185605</td>\n",
       "      <td>-98.379940</td>\n",
       "      <td>2019-01-04 15:42</td>\n",
       "      <td>True</td>\n",
       "      <td>1</td>\n",
       "      <td>4</td>\n",
       "    </tr>\n",
       "    <tr>\n",
       "      <th>1780</th>\n",
       "      <td>1780</td>\n",
       "      <td>Ruby-throated Hummingbird</td>\n",
       "      <td>Archilochus colubris</td>\n",
       "      <td>Estero Llano Grande SP WBC (LTC 054)</td>\n",
       "      <td>26.125870</td>\n",
       "      <td>-97.957272</td>\n",
       "      <td>2019-01-05 11:19</td>\n",
       "      <td>True</td>\n",
       "      <td>1</td>\n",
       "      <td>5</td>\n",
       "    </tr>\n",
       "    <tr>\n",
       "      <th>...</th>\n",
       "      <td>...</td>\n",
       "      <td>...</td>\n",
       "      <td>...</td>\n",
       "      <td>...</td>\n",
       "      <td>...</td>\n",
       "      <td>...</td>\n",
       "      <td>...</td>\n",
       "      <td>...</td>\n",
       "      <td>...</td>\n",
       "      <td>...</td>\n",
       "    </tr>\n",
       "    <tr>\n",
       "      <th>128246</th>\n",
       "      <td>128246</td>\n",
       "      <td>Ruby-throated Hummingbird</td>\n",
       "      <td>Archilochus colubris</td>\n",
       "      <td>US-TX-Pasadena-4515 Olive Green Ct</td>\n",
       "      <td>29.612330</td>\n",
       "      <td>-95.112571</td>\n",
       "      <td>2019-12-27 16:40</td>\n",
       "      <td>True</td>\n",
       "      <td>12</td>\n",
       "      <td>27</td>\n",
       "    </tr>\n",
       "    <tr>\n",
       "      <th>128712</th>\n",
       "      <td>128712</td>\n",
       "      <td>Ruby-throated Hummingbird</td>\n",
       "      <td>Archilochus colubris</td>\n",
       "      <td>Estero Llano Grande SP WBC (LTC 054)</td>\n",
       "      <td>26.125870</td>\n",
       "      <td>-97.957272</td>\n",
       "      <td>2019-12-28 14:43</td>\n",
       "      <td>True</td>\n",
       "      <td>12</td>\n",
       "      <td>28</td>\n",
       "    </tr>\n",
       "    <tr>\n",
       "      <th>128847</th>\n",
       "      <td>128847</td>\n",
       "      <td>Ruby-throated Hummingbird</td>\n",
       "      <td>Archilochus colubris</td>\n",
       "      <td>100–198 Daisy St, Weslaco US-TX (26.1498,-97.9...</td>\n",
       "      <td>26.149772</td>\n",
       "      <td>-97.959743</td>\n",
       "      <td>2019-12-29 19:07</td>\n",
       "      <td>True</td>\n",
       "      <td>12</td>\n",
       "      <td>29</td>\n",
       "    </tr>\n",
       "    <tr>\n",
       "      <th>129211</th>\n",
       "      <td>129211</td>\n",
       "      <td>Ruby-throated Hummingbird</td>\n",
       "      <td>Archilochus colubris</td>\n",
       "      <td>100–198 Daisy St, Weslaco US-TX (26.1498,-97.9...</td>\n",
       "      <td>26.149772</td>\n",
       "      <td>-97.959743</td>\n",
       "      <td>2019-12-30 18:04</td>\n",
       "      <td>True</td>\n",
       "      <td>12</td>\n",
       "      <td>30</td>\n",
       "    </tr>\n",
       "    <tr>\n",
       "      <th>129675</th>\n",
       "      <td>129675</td>\n",
       "      <td>Ruby-throated Hummingbird</td>\n",
       "      <td>Archilochus colubris</td>\n",
       "      <td>100–198 Daisy St, Weslaco US-TX (26.1498,-97.9...</td>\n",
       "      <td>26.149772</td>\n",
       "      <td>-97.959743</td>\n",
       "      <td>2019-12-31 16:59</td>\n",
       "      <td>True</td>\n",
       "      <td>12</td>\n",
       "      <td>31</td>\n",
       "    </tr>\n",
       "  </tbody>\n",
       "</table>\n",
       "<p>364 rows × 10 columns</p>\n",
       "</div>"
      ],
      "text/plain": [
       "        Unnamed: 0                Common Name       Scientific Name  \\\n",
       "305            305  Ruby-throated Hummingbird  Archilochus colubris   \n",
       "706            706  Ruby-throated Hummingbird  Archilochus colubris   \n",
       "967            967  Ruby-throated Hummingbird  Archilochus colubris   \n",
       "1328          1328  Ruby-throated Hummingbird  Archilochus colubris   \n",
       "1780          1780  Ruby-throated Hummingbird  Archilochus colubris   \n",
       "...            ...                        ...                   ...   \n",
       "128246      128246  Ruby-throated Hummingbird  Archilochus colubris   \n",
       "128712      128712  Ruby-throated Hummingbird  Archilochus colubris   \n",
       "128847      128847  Ruby-throated Hummingbird  Archilochus colubris   \n",
       "129211      129211  Ruby-throated Hummingbird  Archilochus colubris   \n",
       "129675      129675  Ruby-throated Hummingbird  Archilochus colubris   \n",
       "\n",
       "                                            Location Name   Latitude  \\\n",
       "305                  Estero Llano Grande SP WBC (LTC 054)  26.125870   \n",
       "706                                            Orwig Home  29.766149   \n",
       "967                               Boggy Bayou Nature Park  28.456368   \n",
       "1328        Bentsen-Rio Grande Val. SP--HQ Buildings area  26.185605   \n",
       "1780                 Estero Llano Grande SP WBC (LTC 054)  26.125870   \n",
       "...                                                   ...        ...   \n",
       "128246                 US-TX-Pasadena-4515 Olive Green Ct  29.612330   \n",
       "128712               Estero Llano Grande SP WBC (LTC 054)  26.125870   \n",
       "128847  100–198 Daisy St, Weslaco US-TX (26.1498,-97.9...  26.149772   \n",
       "129211  100–198 Daisy St, Weslaco US-TX (26.1498,-97.9...  26.149772   \n",
       "129675  100–198 Daisy St, Weslaco US-TX (26.1498,-97.9...  26.149772   \n",
       "\n",
       "        Longitude              Date  Observation Validity  month  day  \n",
       "305    -97.957272  2019-01-01 14:00                  True      1    1  \n",
       "706    -95.568746  2019-01-02 09:00                  True      1    2  \n",
       "967    -96.411582  2019-01-03 15:51                  True      1    3  \n",
       "1328   -98.379940  2019-01-04 15:42                  True      1    4  \n",
       "1780   -97.957272  2019-01-05 11:19                  True      1    5  \n",
       "...           ...               ...                   ...    ...  ...  \n",
       "128246 -95.112571  2019-12-27 16:40                  True     12   27  \n",
       "128712 -97.957272  2019-12-28 14:43                  True     12   28  \n",
       "128847 -97.959743  2019-12-29 19:07                  True     12   29  \n",
       "129211 -97.959743  2019-12-30 18:04                  True     12   30  \n",
       "129675 -97.959743  2019-12-31 16:59                  True     12   31  \n",
       "\n",
       "[364 rows x 10 columns]"
      ]
     },
     "execution_count": 8,
     "metadata": {},
     "output_type": "execute_result"
    }
   ],
   "source": [
    "# pulling the hummingbird from df\n",
    "humming_bird = data_birds.loc[data_birds[\"Scientific Name\"] == \"Archilochus colubris\"]\n",
    "humming_bird"
   ]
  },
  {
   "cell_type": "code",
   "execution_count": 9,
   "metadata": {},
   "outputs": [],
   "source": [
    "# reset the index\n",
    "humming_bird_df = (\n",
    "    pd.DataFrame(humming_bird).reset_index(drop=True).drop(columns=\"Unnamed: 0\")\n",
    ")"
   ]
  },
  {
   "cell_type": "code",
   "execution_count": 7,
   "metadata": {
    "jupyter": {
     "source_hidden": true
    }
   },
   "outputs": [],
   "source": [
    "humming_bird_df.to_csv(\"Hummingbird in Texas 2019.csv\")"
   ]
  },
  {
   "cell_type": "code",
   "execution_count": 10,
   "metadata": {
    "jupyter": {
     "source_hidden": true
    }
   },
   "outputs": [],
   "source": [
    "# Spring (March through May) 3-5\n",
    "# Summer (June through August) 6-8\n",
    "# Fall (September through December) 9-12\n",
    "# Winter (January through February) 1-2\n",
    "\n",
    "humming_bird_df[\"Season\"] = pd.cut(\n",
    "    humming_bird_df[\"month\"],\n",
    "    bins=[0, 3, 6, 9, 13],\n",
    "    labels=[\"Winter\", \"Spring\", \"Summer\", \"Fall\"],\n",
    "    right=False,\n",
    ")"
   ]
  },
  {
   "cell_type": "code",
   "execution_count": 24,
   "metadata": {
    "collapsed": true,
    "jupyter": {
     "outputs_hidden": true,
     "source_hidden": true
    }
   },
   "outputs": [
    {
     "data": {
      "text/html": [
       "<div>\n",
       "<style scoped>\n",
       "    .dataframe tbody tr th:only-of-type {\n",
       "        vertical-align: middle;\n",
       "    }\n",
       "\n",
       "    .dataframe tbody tr th {\n",
       "        vertical-align: top;\n",
       "    }\n",
       "\n",
       "    .dataframe thead th {\n",
       "        text-align: right;\n",
       "    }\n",
       "</style>\n",
       "<table border=\"1\" class=\"dataframe\">\n",
       "  <thead>\n",
       "    <tr style=\"text-align: right;\">\n",
       "      <th></th>\n",
       "      <th>Common Name</th>\n",
       "      <th>Scientific Name</th>\n",
       "      <th>Location Name</th>\n",
       "      <th>Latitude</th>\n",
       "      <th>Longitude</th>\n",
       "      <th>Date</th>\n",
       "      <th>Observation Validity</th>\n",
       "      <th>month</th>\n",
       "      <th>day</th>\n",
       "      <th>Season</th>\n",
       "    </tr>\n",
       "  </thead>\n",
       "  <tbody>\n",
       "    <tr>\n",
       "      <th>0</th>\n",
       "      <td>Ruby-throated Hummingbird</td>\n",
       "      <td>Archilochus colubris</td>\n",
       "      <td>Estero Llano Grande SP WBC (LTC 054)</td>\n",
       "      <td>26.125870</td>\n",
       "      <td>-97.957272</td>\n",
       "      <td>2019-01-01 14:00</td>\n",
       "      <td>True</td>\n",
       "      <td>1</td>\n",
       "      <td>1</td>\n",
       "      <td>Winter</td>\n",
       "    </tr>\n",
       "    <tr>\n",
       "      <th>1</th>\n",
       "      <td>Ruby-throated Hummingbird</td>\n",
       "      <td>Archilochus colubris</td>\n",
       "      <td>Orwig Home</td>\n",
       "      <td>29.766149</td>\n",
       "      <td>-95.568746</td>\n",
       "      <td>2019-01-02 09:00</td>\n",
       "      <td>True</td>\n",
       "      <td>1</td>\n",
       "      <td>2</td>\n",
       "      <td>Winter</td>\n",
       "    </tr>\n",
       "    <tr>\n",
       "      <th>2</th>\n",
       "      <td>Ruby-throated Hummingbird</td>\n",
       "      <td>Archilochus colubris</td>\n",
       "      <td>Boggy Bayou Nature Park</td>\n",
       "      <td>28.456368</td>\n",
       "      <td>-96.411582</td>\n",
       "      <td>2019-01-03 15:51</td>\n",
       "      <td>True</td>\n",
       "      <td>1</td>\n",
       "      <td>3</td>\n",
       "      <td>Winter</td>\n",
       "    </tr>\n",
       "    <tr>\n",
       "      <th>3</th>\n",
       "      <td>Ruby-throated Hummingbird</td>\n",
       "      <td>Archilochus colubris</td>\n",
       "      <td>Bentsen-Rio Grande Val. SP--HQ Buildings area</td>\n",
       "      <td>26.185605</td>\n",
       "      <td>-98.379940</td>\n",
       "      <td>2019-01-04 15:42</td>\n",
       "      <td>True</td>\n",
       "      <td>1</td>\n",
       "      <td>4</td>\n",
       "      <td>Winter</td>\n",
       "    </tr>\n",
       "    <tr>\n",
       "      <th>4</th>\n",
       "      <td>Ruby-throated Hummingbird</td>\n",
       "      <td>Archilochus colubris</td>\n",
       "      <td>Estero Llano Grande SP WBC (LTC 054)</td>\n",
       "      <td>26.125870</td>\n",
       "      <td>-97.957272</td>\n",
       "      <td>2019-01-05 11:19</td>\n",
       "      <td>True</td>\n",
       "      <td>1</td>\n",
       "      <td>5</td>\n",
       "      <td>Winter</td>\n",
       "    </tr>\n",
       "    <tr>\n",
       "      <th>...</th>\n",
       "      <td>...</td>\n",
       "      <td>...</td>\n",
       "      <td>...</td>\n",
       "      <td>...</td>\n",
       "      <td>...</td>\n",
       "      <td>...</td>\n",
       "      <td>...</td>\n",
       "      <td>...</td>\n",
       "      <td>...</td>\n",
       "      <td>...</td>\n",
       "    </tr>\n",
       "    <tr>\n",
       "      <th>359</th>\n",
       "      <td>Ruby-throated Hummingbird</td>\n",
       "      <td>Archilochus colubris</td>\n",
       "      <td>US-TX-Pasadena-4515 Olive Green Ct</td>\n",
       "      <td>29.612330</td>\n",
       "      <td>-95.112571</td>\n",
       "      <td>2019-12-27 16:40</td>\n",
       "      <td>True</td>\n",
       "      <td>12</td>\n",
       "      <td>27</td>\n",
       "      <td>Fall</td>\n",
       "    </tr>\n",
       "    <tr>\n",
       "      <th>360</th>\n",
       "      <td>Ruby-throated Hummingbird</td>\n",
       "      <td>Archilochus colubris</td>\n",
       "      <td>Estero Llano Grande SP WBC (LTC 054)</td>\n",
       "      <td>26.125870</td>\n",
       "      <td>-97.957272</td>\n",
       "      <td>2019-12-28 14:43</td>\n",
       "      <td>True</td>\n",
       "      <td>12</td>\n",
       "      <td>28</td>\n",
       "      <td>Fall</td>\n",
       "    </tr>\n",
       "    <tr>\n",
       "      <th>361</th>\n",
       "      <td>Ruby-throated Hummingbird</td>\n",
       "      <td>Archilochus colubris</td>\n",
       "      <td>100–198 Daisy St, Weslaco US-TX (26.1498,-97.9...</td>\n",
       "      <td>26.149772</td>\n",
       "      <td>-97.959743</td>\n",
       "      <td>2019-12-29 19:07</td>\n",
       "      <td>True</td>\n",
       "      <td>12</td>\n",
       "      <td>29</td>\n",
       "      <td>Fall</td>\n",
       "    </tr>\n",
       "    <tr>\n",
       "      <th>362</th>\n",
       "      <td>Ruby-throated Hummingbird</td>\n",
       "      <td>Archilochus colubris</td>\n",
       "      <td>100–198 Daisy St, Weslaco US-TX (26.1498,-97.9...</td>\n",
       "      <td>26.149772</td>\n",
       "      <td>-97.959743</td>\n",
       "      <td>2019-12-30 18:04</td>\n",
       "      <td>True</td>\n",
       "      <td>12</td>\n",
       "      <td>30</td>\n",
       "      <td>Fall</td>\n",
       "    </tr>\n",
       "    <tr>\n",
       "      <th>363</th>\n",
       "      <td>Ruby-throated Hummingbird</td>\n",
       "      <td>Archilochus colubris</td>\n",
       "      <td>100–198 Daisy St, Weslaco US-TX (26.1498,-97.9...</td>\n",
       "      <td>26.149772</td>\n",
       "      <td>-97.959743</td>\n",
       "      <td>2019-12-31 16:59</td>\n",
       "      <td>True</td>\n",
       "      <td>12</td>\n",
       "      <td>31</td>\n",
       "      <td>Fall</td>\n",
       "    </tr>\n",
       "  </tbody>\n",
       "</table>\n",
       "<p>364 rows × 10 columns</p>\n",
       "</div>"
      ],
      "text/plain": [
       "                   Common Name       Scientific Name  \\\n",
       "0    Ruby-throated Hummingbird  Archilochus colubris   \n",
       "1    Ruby-throated Hummingbird  Archilochus colubris   \n",
       "2    Ruby-throated Hummingbird  Archilochus colubris   \n",
       "3    Ruby-throated Hummingbird  Archilochus colubris   \n",
       "4    Ruby-throated Hummingbird  Archilochus colubris   \n",
       "..                         ...                   ...   \n",
       "359  Ruby-throated Hummingbird  Archilochus colubris   \n",
       "360  Ruby-throated Hummingbird  Archilochus colubris   \n",
       "361  Ruby-throated Hummingbird  Archilochus colubris   \n",
       "362  Ruby-throated Hummingbird  Archilochus colubris   \n",
       "363  Ruby-throated Hummingbird  Archilochus colubris   \n",
       "\n",
       "                                         Location Name   Latitude  Longitude  \\\n",
       "0                 Estero Llano Grande SP WBC (LTC 054)  26.125870 -97.957272   \n",
       "1                                           Orwig Home  29.766149 -95.568746   \n",
       "2                              Boggy Bayou Nature Park  28.456368 -96.411582   \n",
       "3        Bentsen-Rio Grande Val. SP--HQ Buildings area  26.185605 -98.379940   \n",
       "4                 Estero Llano Grande SP WBC (LTC 054)  26.125870 -97.957272   \n",
       "..                                                 ...        ...        ...   \n",
       "359                 US-TX-Pasadena-4515 Olive Green Ct  29.612330 -95.112571   \n",
       "360               Estero Llano Grande SP WBC (LTC 054)  26.125870 -97.957272   \n",
       "361  100–198 Daisy St, Weslaco US-TX (26.1498,-97.9...  26.149772 -97.959743   \n",
       "362  100–198 Daisy St, Weslaco US-TX (26.1498,-97.9...  26.149772 -97.959743   \n",
       "363  100–198 Daisy St, Weslaco US-TX (26.1498,-97.9...  26.149772 -97.959743   \n",
       "\n",
       "                 Date  Observation Validity  month  day  Season  \n",
       "0    2019-01-01 14:00                  True      1    1  Winter  \n",
       "1    2019-01-02 09:00                  True      1    2  Winter  \n",
       "2    2019-01-03 15:51                  True      1    3  Winter  \n",
       "3    2019-01-04 15:42                  True      1    4  Winter  \n",
       "4    2019-01-05 11:19                  True      1    5  Winter  \n",
       "..                ...                   ...    ...  ...     ...  \n",
       "359  2019-12-27 16:40                  True     12   27    Fall  \n",
       "360  2019-12-28 14:43                  True     12   28    Fall  \n",
       "361  2019-12-29 19:07                  True     12   29    Fall  \n",
       "362  2019-12-30 18:04                  True     12   30    Fall  \n",
       "363  2019-12-31 16:59                  True     12   31    Fall  \n",
       "\n",
       "[364 rows x 10 columns]"
      ]
     },
     "execution_count": 24,
     "metadata": {},
     "output_type": "execute_result"
    }
   ],
   "source": []
  },
  {
   "cell_type": "code",
   "execution_count": 11,
   "metadata": {
    "jupyter": {
     "source_hidden": true
    }
   },
   "outputs": [
    {
     "data": {
      "text/html": [
       "<div>\n",
       "<style scoped>\n",
       "    .dataframe tbody tr th:only-of-type {\n",
       "        vertical-align: middle;\n",
       "    }\n",
       "\n",
       "    .dataframe tbody tr th {\n",
       "        vertical-align: top;\n",
       "    }\n",
       "\n",
       "    .dataframe thead th {\n",
       "        text-align: right;\n",
       "    }\n",
       "</style>\n",
       "<table border=\"1\" class=\"dataframe\">\n",
       "  <thead>\n",
       "    <tr style=\"text-align: right;\">\n",
       "      <th></th>\n",
       "      <th>Common Name</th>\n",
       "      <th>Scientific Name</th>\n",
       "      <th>Location Name</th>\n",
       "      <th>Latitude</th>\n",
       "      <th>Longitude</th>\n",
       "      <th>Date</th>\n",
       "      <th>Observation Validity</th>\n",
       "      <th>month</th>\n",
       "      <th>day</th>\n",
       "      <th>Season</th>\n",
       "    </tr>\n",
       "  </thead>\n",
       "  <tbody>\n",
       "    <tr>\n",
       "      <th>0</th>\n",
       "      <td>Ruby-throated Hummingbird</td>\n",
       "      <td>Archilochus colubris</td>\n",
       "      <td>Estero Llano Grande SP WBC (LTC 054)</td>\n",
       "      <td>26.125870</td>\n",
       "      <td>-97.957272</td>\n",
       "      <td>2019-01-01 14:00</td>\n",
       "      <td>True</td>\n",
       "      <td>January</td>\n",
       "      <td>1</td>\n",
       "      <td>Winter</td>\n",
       "    </tr>\n",
       "    <tr>\n",
       "      <th>1</th>\n",
       "      <td>Ruby-throated Hummingbird</td>\n",
       "      <td>Archilochus colubris</td>\n",
       "      <td>Orwig Home</td>\n",
       "      <td>29.766149</td>\n",
       "      <td>-95.568746</td>\n",
       "      <td>2019-01-02 09:00</td>\n",
       "      <td>True</td>\n",
       "      <td>January</td>\n",
       "      <td>2</td>\n",
       "      <td>Winter</td>\n",
       "    </tr>\n",
       "    <tr>\n",
       "      <th>2</th>\n",
       "      <td>Ruby-throated Hummingbird</td>\n",
       "      <td>Archilochus colubris</td>\n",
       "      <td>Boggy Bayou Nature Park</td>\n",
       "      <td>28.456368</td>\n",
       "      <td>-96.411582</td>\n",
       "      <td>2019-01-03 15:51</td>\n",
       "      <td>True</td>\n",
       "      <td>January</td>\n",
       "      <td>3</td>\n",
       "      <td>Winter</td>\n",
       "    </tr>\n",
       "    <tr>\n",
       "      <th>3</th>\n",
       "      <td>Ruby-throated Hummingbird</td>\n",
       "      <td>Archilochus colubris</td>\n",
       "      <td>Bentsen-Rio Grande Val. SP--HQ Buildings area</td>\n",
       "      <td>26.185605</td>\n",
       "      <td>-98.379940</td>\n",
       "      <td>2019-01-04 15:42</td>\n",
       "      <td>True</td>\n",
       "      <td>January</td>\n",
       "      <td>4</td>\n",
       "      <td>Winter</td>\n",
       "    </tr>\n",
       "    <tr>\n",
       "      <th>4</th>\n",
       "      <td>Ruby-throated Hummingbird</td>\n",
       "      <td>Archilochus colubris</td>\n",
       "      <td>Estero Llano Grande SP WBC (LTC 054)</td>\n",
       "      <td>26.125870</td>\n",
       "      <td>-97.957272</td>\n",
       "      <td>2019-01-05 11:19</td>\n",
       "      <td>True</td>\n",
       "      <td>January</td>\n",
       "      <td>5</td>\n",
       "      <td>Winter</td>\n",
       "    </tr>\n",
       "    <tr>\n",
       "      <th>...</th>\n",
       "      <td>...</td>\n",
       "      <td>...</td>\n",
       "      <td>...</td>\n",
       "      <td>...</td>\n",
       "      <td>...</td>\n",
       "      <td>...</td>\n",
       "      <td>...</td>\n",
       "      <td>...</td>\n",
       "      <td>...</td>\n",
       "      <td>...</td>\n",
       "    </tr>\n",
       "    <tr>\n",
       "      <th>359</th>\n",
       "      <td>Ruby-throated Hummingbird</td>\n",
       "      <td>Archilochus colubris</td>\n",
       "      <td>US-TX-Pasadena-4515 Olive Green Ct</td>\n",
       "      <td>29.612330</td>\n",
       "      <td>-95.112571</td>\n",
       "      <td>2019-12-27 16:40</td>\n",
       "      <td>True</td>\n",
       "      <td>December</td>\n",
       "      <td>27</td>\n",
       "      <td>Fall</td>\n",
       "    </tr>\n",
       "    <tr>\n",
       "      <th>360</th>\n",
       "      <td>Ruby-throated Hummingbird</td>\n",
       "      <td>Archilochus colubris</td>\n",
       "      <td>Estero Llano Grande SP WBC (LTC 054)</td>\n",
       "      <td>26.125870</td>\n",
       "      <td>-97.957272</td>\n",
       "      <td>2019-12-28 14:43</td>\n",
       "      <td>True</td>\n",
       "      <td>December</td>\n",
       "      <td>28</td>\n",
       "      <td>Fall</td>\n",
       "    </tr>\n",
       "    <tr>\n",
       "      <th>361</th>\n",
       "      <td>Ruby-throated Hummingbird</td>\n",
       "      <td>Archilochus colubris</td>\n",
       "      <td>100–198 Daisy St, Weslaco US-TX (26.1498,-97.9...</td>\n",
       "      <td>26.149772</td>\n",
       "      <td>-97.959743</td>\n",
       "      <td>2019-12-29 19:07</td>\n",
       "      <td>True</td>\n",
       "      <td>December</td>\n",
       "      <td>29</td>\n",
       "      <td>Fall</td>\n",
       "    </tr>\n",
       "    <tr>\n",
       "      <th>362</th>\n",
       "      <td>Ruby-throated Hummingbird</td>\n",
       "      <td>Archilochus colubris</td>\n",
       "      <td>100–198 Daisy St, Weslaco US-TX (26.1498,-97.9...</td>\n",
       "      <td>26.149772</td>\n",
       "      <td>-97.959743</td>\n",
       "      <td>2019-12-30 18:04</td>\n",
       "      <td>True</td>\n",
       "      <td>December</td>\n",
       "      <td>30</td>\n",
       "      <td>Fall</td>\n",
       "    </tr>\n",
       "    <tr>\n",
       "      <th>363</th>\n",
       "      <td>Ruby-throated Hummingbird</td>\n",
       "      <td>Archilochus colubris</td>\n",
       "      <td>100–198 Daisy St, Weslaco US-TX (26.1498,-97.9...</td>\n",
       "      <td>26.149772</td>\n",
       "      <td>-97.959743</td>\n",
       "      <td>2019-12-31 16:59</td>\n",
       "      <td>True</td>\n",
       "      <td>December</td>\n",
       "      <td>31</td>\n",
       "      <td>Fall</td>\n",
       "    </tr>\n",
       "  </tbody>\n",
       "</table>\n",
       "<p>364 rows × 10 columns</p>\n",
       "</div>"
      ],
      "text/plain": [
       "                   Common Name       Scientific Name  \\\n",
       "0    Ruby-throated Hummingbird  Archilochus colubris   \n",
       "1    Ruby-throated Hummingbird  Archilochus colubris   \n",
       "2    Ruby-throated Hummingbird  Archilochus colubris   \n",
       "3    Ruby-throated Hummingbird  Archilochus colubris   \n",
       "4    Ruby-throated Hummingbird  Archilochus colubris   \n",
       "..                         ...                   ...   \n",
       "359  Ruby-throated Hummingbird  Archilochus colubris   \n",
       "360  Ruby-throated Hummingbird  Archilochus colubris   \n",
       "361  Ruby-throated Hummingbird  Archilochus colubris   \n",
       "362  Ruby-throated Hummingbird  Archilochus colubris   \n",
       "363  Ruby-throated Hummingbird  Archilochus colubris   \n",
       "\n",
       "                                         Location Name   Latitude  Longitude  \\\n",
       "0                 Estero Llano Grande SP WBC (LTC 054)  26.125870 -97.957272   \n",
       "1                                           Orwig Home  29.766149 -95.568746   \n",
       "2                              Boggy Bayou Nature Park  28.456368 -96.411582   \n",
       "3        Bentsen-Rio Grande Val. SP--HQ Buildings area  26.185605 -98.379940   \n",
       "4                 Estero Llano Grande SP WBC (LTC 054)  26.125870 -97.957272   \n",
       "..                                                 ...        ...        ...   \n",
       "359                 US-TX-Pasadena-4515 Olive Green Ct  29.612330 -95.112571   \n",
       "360               Estero Llano Grande SP WBC (LTC 054)  26.125870 -97.957272   \n",
       "361  100–198 Daisy St, Weslaco US-TX (26.1498,-97.9...  26.149772 -97.959743   \n",
       "362  100–198 Daisy St, Weslaco US-TX (26.1498,-97.9...  26.149772 -97.959743   \n",
       "363  100–198 Daisy St, Weslaco US-TX (26.1498,-97.9...  26.149772 -97.959743   \n",
       "\n",
       "                 Date  Observation Validity     month  day  Season  \n",
       "0    2019-01-01 14:00                  True   January    1  Winter  \n",
       "1    2019-01-02 09:00                  True   January    2  Winter  \n",
       "2    2019-01-03 15:51                  True   January    3  Winter  \n",
       "3    2019-01-04 15:42                  True   January    4  Winter  \n",
       "4    2019-01-05 11:19                  True   January    5  Winter  \n",
       "..                ...                   ...       ...  ...     ...  \n",
       "359  2019-12-27 16:40                  True  December   27    Fall  \n",
       "360  2019-12-28 14:43                  True  December   28    Fall  \n",
       "361  2019-12-29 19:07                  True  December   29    Fall  \n",
       "362  2019-12-30 18:04                  True  December   30    Fall  \n",
       "363  2019-12-31 16:59                  True  December   31    Fall  \n",
       "\n",
       "[364 rows x 10 columns]"
      ]
     },
     "execution_count": 11,
     "metadata": {},
     "output_type": "execute_result"
    }
   ],
   "source": [
    "humming_bird_df[\"month\"] = humming_bird_df[\"month\"].replace({1: \"January\"})\n",
    "humming_bird_df[\"month\"] = humming_bird_df[\"month\"].replace({2: \"February\"})\n",
    "humming_bird_df[\"month\"] = humming_bird_df[\"month\"].replace({3: \"March\"})\n",
    "humming_bird_df[\"month\"] = humming_bird_df[\"month\"].replace({4: \"April\"})\n",
    "humming_bird_df[\"month\"] = humming_bird_df[\"month\"].replace({5: \"May\"})\n",
    "humming_bird_df[\"month\"] = humming_bird_df[\"month\"].replace({6: \"June\"})\n",
    "humming_bird_df[\"month\"] = humming_bird_df[\"month\"].replace({7: \"July\"})\n",
    "humming_bird_df[\"month\"] = humming_bird_df[\"month\"].replace({8: \"August\"})\n",
    "humming_bird_df[\"month\"] = humming_bird_df[\"month\"].replace({9: \"September\"})\n",
    "humming_bird_df[\"month\"] = humming_bird_df[\"month\"].replace({10: \"October\"})\n",
    "humming_bird_df[\"month\"] = humming_bird_df[\"month\"].replace({11: \"November\"})\n",
    "humming_bird_df[\"month\"] = humming_bird_df[\"month\"].replace({12: \"December\"})\n",
    "\n",
    "\n",
    "humming_bird_df"
   ]
  },
  {
   "cell_type": "code",
   "execution_count": 11,
   "metadata": {
    "jupyter": {
     "source_hidden": true
    }
   },
   "outputs": [],
   "source": [
    "humming_bird_df.to_csv(\"Hummingbird in Texas 2019 by Month.csv\")"
   ]
  },
  {
   "cell_type": "markdown",
   "metadata": {},
   "source": [
    "## During the cold winter months, Ruby-throated Hummingbirds spend their time in Central America and southern Mexico. Then, as the weather begins to turn warm, they will start to make their northern trip up to the United States. This can be a grueling journey, as many of them choose to fly over the Gulf of Mexico. This flight alone can take 18-22 hours of non-stop flight before reaching land on the other side of the gulf! They have the capability to fly over 2000 kilometers (1243 miles) non-stop."
   ]
  },
  {
   "cell_type": "code",
   "execution_count": 22,
   "metadata": {
    "jupyter": {
     "source_hidden": true
    }
   },
   "outputs": [
    {
     "data": {
      "application/vnd.plotly.v1+json": {
       "config": {
        "plotlyServerURL": "https://plot.ly"
       },
       "data": [
        {
         "hovertemplate": "<b>%{hovertext}</b><br><br>Season=Fall<br>month=December<br>Latitude=%{lat}<br>Longitude=%{lon}<extra></extra>",
         "hovertext": [
          "Packery Channel Park (CTC 064)",
          "119 West Sheeps-Head Street, South Padre Island, Texas, US (26.099, -97.168)",
          "78596, Weslaco US-TX (26.1251,-97.9559)",
          "Beaumont, North End, home",
          "Clear Creek Village",
          "Estero Llano Grande SP WBC (LTC 054)",
          "Estero Llano Grande SP WBC (LTC 054)",
          "Estero Llano Grande SP WBC (LTC 054)",
          "Clear Creek Village",
          "1411 Magnolia Bend W, Baytown US-TX (29.8043,-94.8357)",
          "Estero Llano Grande SP WBC (LTC 054)",
          "Jones yard, Progreso Lakes",
          "Bentsen-Rio Grande Val. SP WBC (Mission) (LTC 069)",
          "US-TX-Pasadena-4515 Olive Green Ct",
          "US-TX-Pasadena-4515 Olive Green Ct",
          "Selkirk Island area ",
          "2578–2586 Bentsen State Park Rd 43, Mission US-TX (26.1863,-98.3794)",
          "Estero Llano Grande SP WBC (LTC 054)",
          "Casa Santa Ana B&B",
          "US-TX-Pasadena-4515 Olive Green Ct",
          "Estero Llano Grande SP WBC (LTC 054)",
          "Estero Llano Grande SP WBC (LTC 054)",
          "Henricks Backyard",
          "Estero Llano Grande SP WBC (LTC 054)",
          "US-TX-Pasadena-4515 Olive Green Ct",
          "Laguna Vista Nature Trail",
          "US-TX-Pasadena-4515 Olive Green Ct",
          "Estero Llano Grande SP WBC (LTC 054)",
          "100–198 Daisy St, Weslaco US-TX (26.1498,-97.9597)",
          "100–198 Daisy St, Weslaco US-TX (26.1498,-97.9597)",
          "100–198 Daisy St, Weslaco US-TX (26.1498,-97.9597)"
         ],
         "lat": [
          27.626499600000006,
          26.0987595,
          26.125087,
          30.101845899999997,
          29.5050386,
          26.1258695,
          26.1258695,
          26.1258695,
          29.5050386,
          29.804307,
          26.1258695,
          26.0631898,
          26.1838822,
          29.61233,
          29.61233,
          28.767997700000002,
          26.186251000000002,
          26.1258695,
          26.082362699999997,
          29.61233,
          26.1258695,
          26.1258695,
          29.531278600000004,
          26.1258695,
          29.61233,
          26.1009755,
          29.61233,
          26.1258695,
          26.149772,
          26.149772,
          26.149772
         ],
         "legendgroup": "Fall",
         "lon": [
          -97.22043690000001,
          -97.16778599999999,
          -97.955863,
          -94.11274909999999,
          -95.1222247,
          -97.95727190000001,
          -97.95727190000001,
          -97.95727190000001,
          -95.1222247,
          -94.83568100000001,
          -97.95727190000001,
          -97.9658912,
          -98.3796179,
          -95.112571,
          -95.112571,
          -96.0005522,
          -98.379359,
          -97.95727190000001,
          -98.12891450000001,
          -95.112571,
          -97.95727190000001,
          -97.95727190000001,
          -95.1957932,
          -97.95727190000001,
          -95.112571,
          -97.2987504,
          -95.112571,
          -97.95727190000001,
          -97.959743,
          -97.959743,
          -97.959743
         ],
         "marker": {
          "color": "#ab63fa",
          "size": [
           27.626499600000006,
           26.0987595,
           26.125087,
           30.101845899999997,
           29.5050386,
           26.1258695,
           26.1258695,
           26.1258695,
           29.5050386,
           29.804307,
           26.1258695,
           26.0631898,
           26.1838822,
           29.61233,
           29.61233,
           28.767997700000002,
           26.186251000000002,
           26.1258695,
           26.082362699999997,
           29.61233,
           26.1258695,
           26.1258695,
           29.531278600000004,
           26.1258695,
           29.61233,
           26.1009755,
           29.61233,
           26.1258695,
           26.149772,
           26.149772,
           26.149772
          ],
          "sizemode": "area",
          "sizeref": 0.34383577000000004
         },
         "mode": "markers",
         "name": "Fall",
         "showlegend": true,
         "subplot": "mapbox",
         "type": "scattermapbox"
        }
       ],
       "frames": [
        {
         "data": [
          {
           "hovertemplate": "<b>%{hovertext}</b><br><br>Season=Winter<br>month=January<br>Latitude=%{lat}<br>Longitude=%{lon}<extra></extra>",
           "hovertext": [
            "Estero Llano Grande SP WBC (LTC 054)",
            "Orwig Home",
            "Boggy Bayou Nature Park",
            "Bentsen-Rio Grande Val. SP--HQ Buildings area",
            "Estero Llano Grande SP WBC (LTC 054)",
            "Estero Llano Grande SP WBC (LTC 054)",
            "My Yard",
            "Estero Llano Grande SP WBC (LTC 054)",
            "Estero Llano Grande SP WBC (LTC 054)",
            "US-TX-Dickinson-Cedar Drive",
            "Orwig Home",
            "Estero Llano Grande SP WBC (LTC 054)",
            "Orwig Home",
            "Lake Jackson--108 Any Way St",
            "Goose Island SP (CTC 048)",
            "Estero Llano Grande SP WBC (LTC 054)",
            "Estero Llano Grande SP WBC (LTC 054)",
            "Estero Llano Grande SP WBC (LTC 054)",
            "Estero Llano Grande SP--Tropical Zone",
            "Estero Llano Grande SP WBC (LTC 054)",
            "Bentsen-Rio Grande Val. SP WBC (Mission) (LTC 069)",
            "Goose Island SP--Campground area",
            "Estero Llano Grande SP--Tropical Zone",
            "Goose Island SP--Campground area",
            "Bentsen-Rio Grande Val. SP--HQ Buildings area",
            "Bentsen-Rio Grande Val. SP WBC (Mission) (LTC 069)",
            "Bentsen-Rio Grande Val. SP--HQ Buildings area",
            "Estero Llano Grande SP WBC (LTC 054)",
            "Estero Llano Grande SP WBC (LTC 054)",
            "The Inn At Chachalaca Bend, Los Fresnos, Texas, US (26.087, -97.441)",
            "Home Lake James Edinburg"
           ],
           "lat": [
            26.1258695,
            29.766149199999997,
            28.4563683,
            26.185605499999998,
            26.1258695,
            26.1258695,
            27.768763500000002,
            26.1258695,
            26.1258695,
            29.461652,
            29.766149199999997,
            26.1258695,
            29.766149199999997,
            29.050792200000004,
            28.13255,
            26.1258695,
            26.1258695,
            26.1258695,
            26.124385999999998,
            26.1258695,
            26.1838822,
            28.137621000000003,
            26.124385999999998,
            28.137621000000003,
            26.185605499999998,
            26.1838822,
            26.185605499999998,
            26.1258695,
            26.1258695,
            26.0872009,
            26.2814494
           ],
           "legendgroup": "Winter",
           "lon": [
            -97.95727190000001,
            -95.56874599999999,
            -96.4115819,
            -98.37993979999999,
            -97.95727190000001,
            -97.95727190000001,
            -97.3954983,
            -97.95727190000001,
            -97.95727190000001,
            -95.064423,
            -95.56874599999999,
            -97.95727190000001,
            -95.56874599999999,
            -95.4531814,
            -96.985052,
            -97.95727190000001,
            -97.95727190000001,
            -97.95727190000001,
            -97.95856479999999,
            -97.95727190000001,
            -98.3796179,
            -96.98890859999999,
            -97.95856479999999,
            -96.98890859999999,
            -98.37993979999999,
            -98.3796179,
            -98.37993979999999,
            -97.95727190000001,
            -97.95727190000001,
            -97.44110570000001,
            -98.2018798
           ],
           "marker": {
            "color": "#636efa",
            "size": [
             26.1258695,
             29.766149199999997,
             28.4563683,
             26.185605499999998,
             26.1258695,
             26.1258695,
             27.768763500000002,
             26.1258695,
             26.1258695,
             29.461652,
             29.766149199999997,
             26.1258695,
             29.766149199999997,
             29.050792200000004,
             28.13255,
             26.1258695,
             26.1258695,
             26.1258695,
             26.124385999999998,
             26.1258695,
             26.1838822,
             28.137621000000003,
             26.124385999999998,
             28.137621000000003,
             26.185605499999998,
             26.1838822,
             26.185605499999998,
             26.1258695,
             26.1258695,
             26.0872009,
             26.2814494
            ],
            "sizemode": "area",
            "sizeref": 0.34383577000000004
           },
           "mode": "markers",
           "name": "Winter",
           "showlegend": true,
           "subplot": "mapbox",
           "type": "scattermapbox"
          }
         ],
         "name": "January"
        },
        {
         "data": [
          {
           "hovertemplate": "<b>%{hovertext}</b><br><br>Season=Winter<br>month=February<br>Latitude=%{lat}<br>Longitude=%{lon}<extra></extra>",
           "hovertext": [
            "Estero Llano Grande SP WBC (LTC 054)",
            "Brazoria Co., Brian and Jennifer Kolthammer",
            "Estero Llano Grande SP WBC (LTC 054)",
            "Goose Island SP",
            "Laguna Vista Nature Trail",
            "Laguna Vista Nature Trail",
            "Home Lake James Edinburg",
            "Quinta Mazatlan WBC (LTC 063)",
            "Estero Llano Grande SP WBC (LTC 054)",
            "Estero Llano Grande SP--Tropical Zone",
            "Quinta Mazatlan WBC (LTC 063)",
            "Laguna Vista Nature Trail",
            "Estero Llano Grande SP WBC (LTC 054)",
            "Estero Llano Grande SP WBC (LTC 054)",
            "Goose Island SP (CTC 048)",
            "337 Stephens Loop, Lake City, Texas, US (28.085, -97.883)",
            "LiveOakLa",
            "11818 Bayhurst Dr, Bunker Hill Village US-TX (29.7619,-95.5306)",
            "Quinta Mazatlan WBC (LTC 063)",
            "Bentsen-Rio Grande Val. SP WBC (Mission) (LTC 069)",
            "Bentsen-Rio Grande Val. SP--HQ Buildings area",
            "Saintsgirl",
            "Bentsen-Rio Grande Val. SP WBC (Mission) (LTC 069)",
            "Goose Island SP (CTC 048)",
            "Bentsen-Rio Grande Val. SP WBC (Mission) (LTC 069)",
            "Saintsgirl",
            "Laguna Vista Nature Trail"
           ],
           "lat": [
            26.1258695,
            29.0598026,
            26.1258695,
            28.128155,
            26.1009755,
            26.1009755,
            26.2814494,
            26.176479999999998,
            26.1258695,
            26.124385999999998,
            26.176479999999998,
            26.1009755,
            26.1258695,
            26.1258695,
            28.13255,
            28.084635600000002,
            29.0458712,
            29.761896999999998,
            26.176479999999998,
            26.1838822,
            26.185605499999998,
            25.9375635,
            26.1838822,
            28.1312394,
            26.1838822,
            25.9375635,
            26.1009755
           ],
           "legendgroup": "Winter",
           "lon": [
            -97.95727190000001,
            -95.4653642,
            -97.95727190000001,
            -96.990557,
            -97.2987504,
            -97.2987504,
            -98.2018798,
            -98.22940940000001,
            -97.95727190000001,
            -97.95856479999999,
            -98.22940940000001,
            -97.2987504,
            -97.95727190000001,
            -97.95727190000001,
            -96.985052,
            -97.8825777,
            -95.4340611,
            -95.530567,
            -98.22940940000001,
            -98.3796179,
            -98.37993979999999,
            -97.5161371,
            -98.3796179,
            -96.98413509999999,
            -98.3796179,
            -97.5161371,
            -97.2987504
           ],
           "marker": {
            "color": "#636efa",
            "size": [
             26.1258695,
             29.0598026,
             26.1258695,
             28.128155,
             26.1009755,
             26.1009755,
             26.2814494,
             26.176479999999998,
             26.1258695,
             26.124385999999998,
             26.176479999999998,
             26.1009755,
             26.1258695,
             26.1258695,
             28.13255,
             28.084635600000002,
             29.0458712,
             29.761896999999998,
             26.176479999999998,
             26.1838822,
             26.185605499999998,
             25.9375635,
             26.1838822,
             28.1312394,
             26.1838822,
             25.9375635,
             26.1009755
            ],
            "sizemode": "area",
            "sizeref": 0.34383577000000004
           },
           "mode": "markers",
           "name": "Winter",
           "showlegend": true,
           "subplot": "mapbox",
           "type": "scattermapbox"
          }
         ],
         "name": "February"
        },
        {
         "data": [
          {
           "hovertemplate": "<b>%{hovertext}</b><br><br>Season=Spring<br>month=March<br>Latitude=%{lat}<br>Longitude=%{lon}<extra></extra>",
           "hovertext": [
            "Fulton--Linda S. Castro Nature Sanctuary",
            "Bentsen-Rio Grande Val. SP--HQ Buildings area",
            "Bentsen-Rio Grande Val. SP--HQ Buildings area",
            "Zitkovic house",
            "South Padre Is.--Birding and Nature Center",
            "South Padre Is.--WBC/Conv. Center/Laguna Madre Trail (LTC 035)",
            "Goose Island SP--Campground area",
            "Goose Island SP--Campground area",
            "King Ranch Visitor Center",
            "Bentsen-Rio Grande Val. SP--HQ Buildings area",
            "Estero Llano Grande SP WBC (LTC 054)",
            "Estero Llano Grande SP WBC (LTC 054)",
            "N Damron St Tuleta Texas",
            "Katy Prairie--Hebert rd.--W. of Pattison Rd.",
            "Fulton--Henderson Habitat",
            "Goose Island SP (CTC 048)",
            "Home",
            "Saintsgirl",
            "Casa Santa Ana B&B",
            "Galveston--Lafitte's Cove (UTC 068)",
            "Goose Island SP (CTC 048)",
            "212 S Lee St, Alvin US-TX (29.4221,-95.2489)",
            "Glenbrook Valley - Sims Bayou, Houston",
            "McAllen--E.Houston Ave. Red-crowned Parrot roost",
            "16258 Stoltje Drive, Conroe, Texas, US (30.292, -95.32)",
            "Junker Home:  \n4923 Clover Lane, Pearland, Texas, US (29.549, -95.34)",
            "South Padre Is.--WBC/Conv. Center/Laguna Madre Trail (LTC 035)",
            "503 Shadberry Dr",
            "1--Horizontal Heavens: Blanco/Comal County",
            "Home",
            "Galveston--Lafitte's Cove (UTC 068)"
           ],
           "lat": [
            28.0740695,
            26.185605499999998,
            26.185605499999998,
            31.343255300000003,
            26.137485899999998,
            26.140091199999997,
            28.137621000000003,
            28.137621000000003,
            27.519937300000002,
            26.185605499999998,
            26.1258695,
            26.1258695,
            28.572951899999996,
            29.932176199999997,
            28.0570929,
            28.13255,
            32.497437,
            25.9375635,
            26.082362699999997,
            29.2169006,
            28.13255,
            29.422140999999996,
            29.677775099999998,
            26.195214399999998,
            30.2924374,
            29.549428999999996,
            26.140091199999997,
            30.2299065,
            29.9445229,
            32.497437,
            29.2169006
           ],
           "legendgroup": "Spring",
           "lon": [
            -97.0416845,
            -98.37993979999999,
            -98.37993979999999,
            -93.8551184,
            -97.1735573,
            -97.1748233,
            -96.98890859999999,
            -96.98890859999999,
            -97.8960156,
            -98.37993979999999,
            -97.95727190000001,
            -97.95727190000001,
            -97.7944136,
            -95.914979,
            -97.0440656,
            -96.985052,
            -95.424573,
            -97.5161371,
            -98.12891450000001,
            -94.93490159999999,
            -96.985052,
            -95.24885400000001,
            -95.2810818,
            -98.2214856,
            -95.320284,
            -95.3401683,
            -97.1748233,
            -95.550102,
            -98.407588,
            -95.424573,
            -94.93490159999999
           ],
           "marker": {
            "color": "#EF553B",
            "size": [
             28.0740695,
             26.185605499999998,
             26.185605499999998,
             31.343255300000003,
             26.137485899999998,
             26.140091199999997,
             28.137621000000003,
             28.137621000000003,
             27.519937300000002,
             26.185605499999998,
             26.1258695,
             26.1258695,
             28.572951899999996,
             29.932176199999997,
             28.0570929,
             28.13255,
             32.497437,
             25.9375635,
             26.082362699999997,
             29.2169006,
             28.13255,
             29.422140999999996,
             29.677775099999998,
             26.195214399999998,
             30.2924374,
             29.549428999999996,
             26.140091199999997,
             30.2299065,
             29.9445229,
             32.497437,
             29.2169006
            ],
            "sizemode": "area",
            "sizeref": 0.34383577000000004
           },
           "mode": "markers",
           "name": "Spring",
           "showlegend": true,
           "subplot": "mapbox",
           "type": "scattermapbox"
          }
         ],
         "name": "March"
        },
        {
         "data": [
          {
           "hovertemplate": "<b>%{hovertext}</b><br><br>Season=Spring<br>month=April<br>Latitude=%{lat}<br>Longitude=%{lon}<extra></extra>",
           "hovertext": [
            "Austin--Chez Ross (2017-2019) (private)",
            "4596 Kurtz Rd, Sealy US-TX (29.7979,-96.1390)",
            "Oliveira Park, Brownsville",
            "Goose Island SP (CTC 048)",
            "4571 S US Highway 36, Milano US-TX (30.6569,-96.8160)",
            "Sherwood neighborhood",
            "Anahuac NWR--Skillern Tract (E.Bay)(UTC 050)",
            "Painted Bunting Ranchito (private)",
            "Quintana Neotropical Bird Sanctuary (UTC 121)",
            "N Damron St Tuleta Texas",
            "North Creek Loop, Comfort, TX",
            "Galveston--Lafitte's Cove (UTC 068)",
            "Sabine Woods (UTC 026)",
            "3412 Binnacle Way, Galveston, Texas, US (29.219, -94.934)",
            "Home in Bullard",
            "US-Texas-Denton-518 Northridge Street - 33.241x-97.139",
            "Pedernales Falls State Park, Cypress Mill US-TX (30.3101,-98.2477)",
            "11608 Colmar Street, Dallas, Texas, US (32.852, -96.697)",
            "16910 Hamilton Pool Rd, Dripping Springs US-TX (30.2924,-98.0278)",
            "Clear Creek Village",
            "Anahuac NWR--Shoveler Pond Loop",
            "South Padre Is.--WBC/Conv. Center/Laguna Madre Trail (LTC 035)",
            "Junker Home:  \n4923 Clover Lane, Pearland, Texas, US (29.549, -95.34)",
            "Private Residence, Oak Ridge Dr, Marble Falls US-TX (30.5940,-98.2562)",
            "16258 Stoltje Drive, Conroe, Texas, US (30.292, -95.32)",
            "Lake Travis",
            "Bamberger Ranch Preserve (Selah)",
            "25 N4020 Rd, Boswell, OK 74727",
            "4041 Wisteria Trl, Midlothian US-TX (32.5319,-96.9409)",
            "9311 Dancove Drive, San Antonio, Texas, US (29.523, -98.675)"
           ],
           "lat": [
            30.366685999999998,
            29.797945000000002,
            25.937428399999998,
            28.13255,
            30.656858000000003,
            31.3245417,
            29.6643945,
            30.217526,
            28.933622600000003,
            28.572951899999996,
            29.984551,
            29.2169006,
            29.698407300000003,
            29.2188983,
            32.038109000000006,
            33.241348699999996,
            30.310090000000002,
            32.852000800000006,
            30.292434000000004,
            29.5050386,
            29.609993,
            26.140091199999997,
            29.549428999999996,
            30.593954999999998,
            30.2924374,
            30.4365005,
            30.193,
            33.665479600000005,
            32.531884000000005,
            29.522686699999998
           ],
           "legendgroup": "Spring",
           "lon": [
            -97.64873659999999,
            -96.139039,
            -97.52159,
            -96.985052,
            -96.81598699999999,
            -94.7369136,
            -94.4222546,
            -97.415436,
            -95.30872459999999,
            -97.7944136,
            -98.908509,
            -94.93490159999999,
            -93.94817950000001,
            -94.93440890000001,
            -95.30169000000001,
            -97.139472,
            -98.247737,
            -96.6967145,
            -98.027843,
            -95.1222247,
            -94.551912,
            -97.1748233,
            -95.3401683,
            -98.256159,
            -95.320284,
            -97.93699649999999,
            -98.464,
            -95.4188634,
            -96.940927,
            -98.67499699999999
           ],
           "marker": {
            "color": "#EF553B",
            "size": [
             30.366685999999998,
             29.797945000000002,
             25.937428399999998,
             28.13255,
             30.656858000000003,
             31.3245417,
             29.6643945,
             30.217526,
             28.933622600000003,
             28.572951899999996,
             29.984551,
             29.2169006,
             29.698407300000003,
             29.2188983,
             32.038109000000006,
             33.241348699999996,
             30.310090000000002,
             32.852000800000006,
             30.292434000000004,
             29.5050386,
             29.609993,
             26.140091199999997,
             29.549428999999996,
             30.593954999999998,
             30.2924374,
             30.4365005,
             30.193,
             33.665479600000005,
             32.531884000000005,
             29.522686699999998
            ],
            "sizemode": "area",
            "sizeref": 0.34383577000000004
           },
           "mode": "markers",
           "name": "Spring",
           "showlegend": true,
           "subplot": "mapbox",
           "type": "scattermapbox"
          }
         ],
         "name": "April"
        },
        {
         "data": [
          {
           "hovertemplate": "<b>%{hovertext}</b><br><br>Season=Spring<br>month=May<br>Latitude=%{lat}<br>Longitude=%{lon}<extra></extra>",
           "hovertext": [
            "Birdfeeder And Woods Sassafras Lane, Silsbee, Texas, US (30.413, -94.22)",
            "Univ. of Texas, San Antonio",
            "South Padre Is.--WBC/Conv. Center/Laguna Madre Trail (LTC 035)",
            "Plano Outdoor Learning Ctr./Woodruff Pk N.",
            "Birdfeeder And Woods Sassafras Lane, Silsbee, Texas, US (30.413, -94.22)",
            "Beaumont, North End, home",
            "Personal location",
            "Heart of the Hills Fisheries Ctr. (Sign in at office)(HOTW 069)",
            "141 Private Road 4023, Gilmer US-TX (32.7386,-94.9824)",
            "Caillouet home in Frisco, Tx",
            "Clear Creek Village",
            "Katy Prairie--Jack Road",
            "Whitehouse Cemetery, (town of) Whitehouse",
            "People 75169, Wills Point US-TX (32.8520,-95.9942)",
            "Jefe House",
            "Concordia University Texas, Austin US-TX (30.4197,-97.8383)",
            "412 Muckleroy St, Nacogdoches US-TX (31.5917,-94.6343)",
            "520 Sarah Anne Street, Nacogdoches, Texas, US (31.639, -94.648)",
            "Haw Branch Estate",
            "3650 CR 437 Cherokee, TX",
            "426 Cody Ln, Nacogdoches US-TX (31.5566,-94.6908)",
            "Home",
            "412 Muckleroy St, Nacogdoches US-TX (31.5917,-94.6343)",
            "Providence Subdivision",
            "6214 Mondean St, San Antonio US-TX (29.5355,-98.6087)",
            "Riverpark Nature Trails (Sugar Land)",
            "Brazos Co. House, Texas",
            " Terracewood yard",
            "Gattis School Rd pond/fields",
            "23758 Squirrel Rd, New Ulm, TX 78950\n",
            "Ahlgren Yard (Private Neighborhood)"
           ],
           "lat": [
            30.413378299999998,
            29.5843599,
            26.140091199999997,
            33.036488899999995,
            30.413378299999998,
            30.101845899999997,
            25.941046399999998,
            30.1574845,
            32.738607,
            33.1396893,
            29.5050386,
            29.9671297,
            32.2216852,
            32.852025,
            26.2183205,
            30.419665000000002,
            31.591711,
            31.639064500000003,
            33.3294526,
            30.9627136,
            31.556579,
            29.993332000000002,
            31.591711,
            29.682,
            29.535546000000004,
            29.5772196,
            30.5921424,
            31.6371967,
            30.4973631,
            29.8987465,
            30.095508000000002
           ],
           "legendgroup": "Spring",
           "lon": [
            -94.21957809999999,
            -98.615199,
            -97.1748233,
            -96.6640522,
            -94.21957809999999,
            -94.11274909999999,
            -97.4947894,
            -99.34810999999999,
            -94.982446,
            -96.9186831,
            -95.1222247,
            -95.81897740000001,
            -95.2136657,
            -95.99418299999999,
            -97.6850381,
            -97.838321,
            -94.63427800000001,
            -94.6482095,
            -96.69492240000001,
            -98.6809022,
            -94.690822,
            -95.6265,
            -94.63427800000001,
            -95.64399999999999,
            -98.608708,
            -95.67773220000001,
            -96.4047503,
            -94.6277493,
            -97.59517220000001,
            -96.4632075,
            -95.715047
           ],
           "marker": {
            "color": "#EF553B",
            "size": [
             30.413378299999998,
             29.5843599,
             26.140091199999997,
             33.036488899999995,
             30.413378299999998,
             30.101845899999997,
             25.941046399999998,
             30.1574845,
             32.738607,
             33.1396893,
             29.5050386,
             29.9671297,
             32.2216852,
             32.852025,
             26.2183205,
             30.419665000000002,
             31.591711,
             31.639064500000003,
             33.3294526,
             30.9627136,
             31.556579,
             29.993332000000002,
             31.591711,
             29.682,
             29.535546000000004,
             29.5772196,
             30.5921424,
             31.6371967,
             30.4973631,
             29.8987465,
             30.095508000000002
            ],
            "sizemode": "area",
            "sizeref": 0.34383577000000004
           },
           "mode": "markers",
           "name": "Spring",
           "showlegend": true,
           "subplot": "mapbox",
           "type": "scattermapbox"
          }
         ],
         "name": "May"
        },
        {
         "data": [
          {
           "hovertemplate": "<b>%{hovertext}</b><br><br>Season=Summer<br>month=June<br>Latitude=%{lat}<br>Longitude=%{lon}<extra></extra>",
           "hovertext": [
            "residence",
            "426 Cody Ln, Nacogdoches US-TX (31.5566,-94.6908)",
            "(30.519, -95.591)",
            "426 Cody Ln, Nacogdoches US-TX (31.5566,-94.6908)",
            "W.G. Jones State Forest (UTC 036)",
            "McKinney",
            "Roland Farm, Collin",
            "4213 Crestfield Dr, Richardson US-TX (33.0046,-96.6472)",
            "Poi Dog Farm",
            "16258 Stoltje Drive, Conroe, Texas, US (30.292, -95.32)",
            "4706 Misty Ranch Drive, Spring, Texas, US (30.081, -95.367)",
            "Yard",
            "US-TX-Pasadena-4515 Olive Green Ct",
            "424 Margaret Drive, Marshall, Texas, US (32.574, -94.434)",
            "Clear Creek Village",
            "78070, Spring Branch US-TX (29.8872,-98.4331)",
            "Riverpark Nature Trails (Sugar Land)",
            "503 Shadberry Dr",
            "stakeout Mexican Violetear, RR 1051 nr. Reagan Wells (2019)",
            "Sam and Judy's Haven",
            "Home",
            "Home, Warren, TX",
            "Caillouet home in Frisco, Tx",
            "Clear Creek Village",
            "Clear Creek Village",
            "17522 County Road 221, Buffalo, Texas, US (31.513, -95.941)",
            "11705 Hornsby Street",
            "Home",
            "Clear Creek Village",
            "Lake Pflugerville"
           ],
           "lat": [
            30.7741955,
            31.556579,
            30.5187033,
            31.556579,
            30.235563,
            33.1976204,
            33.2781711,
            33.004575,
            32.82262,
            30.2924374,
            30.081106800000004,
            32.4734858,
            29.61233,
            32.574414600000004,
            29.5050386,
            29.887195000000002,
            29.5772196,
            30.2299065,
            29.512874,
            33.504585399999996,
            32.5319446,
            30.582505100000002,
            33.1396893,
            29.5050386,
            29.5050386,
            31.513170799999997,
            30.3853843,
            32.5319446,
            29.5050386,
            30.436908000000003
           ],
           "legendgroup": "Summer",
           "lon": [
            -96.3004017,
            -94.690822,
            -95.59096629999999,
            -94.690822,
            -95.4852676,
            -96.6152725,
            -96.64923909999999,
            -96.647243,
            -96.15535,
            -95.320284,
            -95.3669404,
            -97.4121152,
            -95.112571,
            -94.4340975,
            -95.1222247,
            -98.43313,
            -95.67773220000001,
            -95.550102,
            -99.8111926,
            -94.5831616,
            -97.29627159999998,
            -94.3820402,
            -96.9186831,
            -95.1222247,
            -95.1222247,
            -95.9413635,
            -97.680881,
            -97.29627159999998,
            -95.1222247,
            -97.5692797
           ],
           "marker": {
            "color": "#00cc96",
            "size": [
             30.7741955,
             31.556579,
             30.5187033,
             31.556579,
             30.235563,
             33.1976204,
             33.2781711,
             33.004575,
             32.82262,
             30.2924374,
             30.081106800000004,
             32.4734858,
             29.61233,
             32.574414600000004,
             29.5050386,
             29.887195000000002,
             29.5772196,
             30.2299065,
             29.512874,
             33.504585399999996,
             32.5319446,
             30.582505100000002,
             33.1396893,
             29.5050386,
             29.5050386,
             31.513170799999997,
             30.3853843,
             32.5319446,
             29.5050386,
             30.436908000000003
            ],
            "sizemode": "area",
            "sizeref": 0.34383577000000004
           },
           "mode": "markers",
           "name": "Summer",
           "showlegend": true,
           "subplot": "mapbox",
           "type": "scattermapbox"
          }
         ],
         "name": "June"
        },
        {
         "data": [
          {
           "hovertemplate": "<b>%{hovertext}</b><br><br>Season=Summer<br>month=July<br>Latitude=%{lat}<br>Longitude=%{lon}<extra></extra>",
           "hovertext": [
            "17423 W. Blooming Rose Ct.",
            "Canon Yeomans Trl",
            "Clear Creek Village",
            "County Road 971",
            "US-TX-Pasadena-4515 Olive Green Ct",
            "Monaghen Property",
            "Ward-Rutledge Farm (Cavanaugh Ranch, private)",
            "Laurie's Bird Country Cafe",
            "17423 W. Blooming Rose Ct.",
            "Sherwood neighborhood",
            "Langsbury Dr",
            "Dogwood Canyon Audubon Ctr",
            "Mckinney Roughs Park (HOTE 034)",
            "Home: 8324 Londonderry Ln, Dallas US-TX (32.7985,-96.6965)",
            "78070, Spring Branch US-TX (29.8872,-98.4331)",
            "Cibolo Nature Ctr. (HOTE 078)",
            "US-TX-Pasadena-4515 Olive Green Ct",
            "Peckerwood Garden (Limited Access)",
            "Abby’s house, Sherman US-TX",
            "17423 W. Blooming Rose Ct.",
            "Sherwood neighborhood",
            "BellaVita Neighborhood (access limited)",
            "Austin--Chez Ross (2017-2019) (private)",
            "120 Trails End",
            "Sherwood neighborhood",
            "Sherwood neighborhood",
            "Yard",
            "Yard",
            "Langsbury Dr",
            "Sherwood neighborhood",
            "22111 Shady Heath Ln, Katy US-TX (29.7076,-95.7639)"
           ],
           "lat": [
            30.005118,
            30.156819,
            29.5050386,
            33.318382,
            29.61233,
            33.0252809,
            31.865526199999998,
            33.72225,
            30.005118,
            31.3245417,
            29.829078000000003,
            32.6134962,
            30.1365541,
            32.798519,
            29.887195000000002,
            29.7812891,
            29.61233,
            30.056038399999995,
            33.616252,
            30.005118,
            31.3245417,
            29.5614783,
            30.366685999999998,
            32.2479457,
            31.3245417,
            31.3245417,
            32.4734858,
            32.4734858,
            29.829078000000003,
            31.3245417,
            29.7076
           ],
           "legendgroup": "Summer",
           "lon": [
            -95.6898288,
            -97.829092,
            -95.1222247,
            -96.628764,
            -95.112571,
            -96.267322,
            -96.7702255,
            -96.64319499999999,
            -95.6898288,
            -94.7369136,
            -95.683289,
            -96.9711471,
            -97.45941640000001,
            -96.696478,
            -98.43313,
            -98.7096262,
            -95.112571,
            -96.03836059999999,
            -96.674848,
            -95.6898288,
            -94.7369136,
            -95.22873179999999,
            -97.64873659999999,
            -96.099098,
            -94.7369136,
            -94.7369136,
            -97.4121152,
            -97.4121152,
            -95.683289,
            -94.7369136,
            -95.763944
           ],
           "marker": {
            "color": "#00cc96",
            "size": [
             30.005118,
             30.156819,
             29.5050386,
             33.318382,
             29.61233,
             33.0252809,
             31.865526199999998,
             33.72225,
             30.005118,
             31.3245417,
             29.829078000000003,
             32.6134962,
             30.1365541,
             32.798519,
             29.887195000000002,
             29.7812891,
             29.61233,
             30.056038399999995,
             33.616252,
             30.005118,
             31.3245417,
             29.5614783,
             30.366685999999998,
             32.2479457,
             31.3245417,
             31.3245417,
             32.4734858,
             32.4734858,
             29.829078000000003,
             31.3245417,
             29.7076
            ],
            "sizemode": "area",
            "sizeref": 0.34383577000000004
           },
           "mode": "markers",
           "name": "Summer",
           "showlegend": true,
           "subplot": "mapbox",
           "type": "scattermapbox"
          }
         ],
         "name": "July"
        },
        {
         "data": [
          {
           "hovertemplate": "<b>%{hovertext}</b><br><br>Season=Summer<br>month=August<br>Latitude=%{lat}<br>Longitude=%{lon}<extra></extra>",
           "hovertext": [
            "Grapevine Lake--Oak Grove Pk",
            "Peckerwood Garden (Limited Access)",
            "Laurie's Bird Country Cafe",
            "Home, Austin US-TX (30.1797,-97.8040)",
            "Bee Creek Park / Anderson Arboretum",
            "TX-COL-Greensboro/Alma Area",
            "DS Backyard",
            "My yard McKinney, TX",
            "DS Backyard",
            "Caillouet home in Frisco, Tx",
            "Providence Subdivision",
            "Saintsgirl",
            "Providence Subdivision",
            "Major House",
            "Providence Subdivision",
            "Monaghen Property",
            "801 Green Street, Rio Vista, Texas, US (32.225, -97.368)",
            "1--Horizontal Heavens: Blanco/Comal County",
            "1--Horizontal Heavens: Blanco/Comal County",
            "New Territory, Fort Bend Co, TX",
            "Tour 18",
            "My house in Brackettville",
            "7103–7149 County Road Z, Kress US-TX (34.3836,-101.7594)",
            "Villa Villekulla (Jeremy & Nathan's House)",
            "Sandstone Area",
            "Purvis Farms",
            "269 Hallmark Path, San Antonio, Texas, US Private Area",
            "My house in Brackettville",
            "New Territory, Fort Bend Co, TX",
            "269 Hallmark Path, San Antonio, Texas, US Private Area",
            "100-198 Parkglen Drive, San Antonio, Texas, US (29.502, -98.513)"
           ],
           "lat": [
            32.96604310000001,
            30.056038399999995,
            33.72225,
            30.179713,
            30.601929700000003,
            33.0894562,
            32.88341,
            33.195331,
            32.88341,
            33.1396893,
            29.682,
            25.9375635,
            29.682,
            30.6738788,
            29.682,
            33.0252809,
            32.2254223,
            29.9445229,
            29.9445229,
            29.591445899999997,
            33.04762,
            29.319527700000002,
            34.383577,
            31.550646,
            32.2631911,
            29.8364968,
            29.1840124,
            29.319527700000002,
            29.591445899999997,
            29.1840124,
            29.5022167
           ],
           "legendgroup": "Summer",
           "lon": [
            -97.09360600000001,
            -96.03836059999999,
            -96.64319499999999,
            -97.803965,
            -96.3061845,
            -96.70921329999999,
            -97.275125,
            -96.69930500000001,
            -97.275125,
            -96.9186831,
            -95.64399999999999,
            -97.5161371,
            -95.64399999999999,
            -96.3262682,
            -95.64399999999999,
            -96.267322,
            -97.3679873,
            -98.407588,
            -98.407588,
            -95.6654692,
            -97.164588,
            -100.4116973,
            -101.759371,
            -97.201001,
            -99.798527,
            -97.7613692,
            -98.5040419,
            -100.4116973,
            -95.6654692,
            -98.5040419,
            -98.5133678
           ],
           "marker": {
            "color": "#00cc96",
            "size": [
             32.96604310000001,
             30.056038399999995,
             33.72225,
             30.179713,
             30.601929700000003,
             33.0894562,
             32.88341,
             33.195331,
             32.88341,
             33.1396893,
             29.682,
             25.9375635,
             29.682,
             30.6738788,
             29.682,
             33.0252809,
             32.2254223,
             29.9445229,
             29.9445229,
             29.591445899999997,
             33.04762,
             29.319527700000002,
             34.383577,
             31.550646,
             32.2631911,
             29.8364968,
             29.1840124,
             29.319527700000002,
             29.591445899999997,
             29.1840124,
             29.5022167
            ],
            "sizemode": "area",
            "sizeref": 0.34383577000000004
           },
           "mode": "markers",
           "name": "Summer",
           "showlegend": true,
           "subplot": "mapbox",
           "type": "scattermapbox"
          }
         ],
         "name": "August"
        },
        {
         "data": [
          {
           "hovertemplate": "<b>%{hovertext}</b><br><br>Season=Fall<br>month=September<br>Latitude=%{lat}<br>Longitude=%{lon}<extra></extra>",
           "hovertext": [
            "Sherwood neighborhood",
            "269 Hallmark Path, San Antonio, Texas, US Private Area",
            "Home",
            "Brazos Co. House, Texas",
            "1111 Waller Co_My Farm",
            "Edith L. Moore Nature Sanctuary (UTC 094)",
            "218 Sandpiper Drive, Portland, Texas, US (27.882, -97.305)",
            "17423 W. Blooming Rose Ct.",
            "Our Backyard",
            "377 Highland Dr, Harper US-TX (30.2287,-99.1999)",
            "Creekside Estates, League City US-TX (29.4976,-95.1452)",
            "22111 Shady Heath Ln, Katy US-TX (29.7076,-95.7639)",
            "Meadow Green Subdivision",
            "North Creek Loop, Comfort, TX",
            "Caillouet home in Frisco, Tx",
            "269 Hallmark Path, San Antonio, Texas, US Private Area",
            "Sherwood neighborhood",
            "22111 Shady Heath Ln, Katy US-TX (29.7076,-95.7639)",
            "Yard - Northwest Hills",
            "US-Texas-Kennedale-713 Woodlea Lane - 32.653x-97.229 - Apr 30, 2017 5:51 PM",
            "110 Royal Oaks Dr, Rockport US-TX (28.0514,-97.0508)",
            "Caddo Lake SP (PPW-E 089)",
            "269 Hallmark Path, San Antonio, Texas, US (29.185, -98.504)",
            "210 West Zenith Avenue, Temple, Texas, US (31.122, -97.334)",
            "Hazel Bazemore Park Hawkwatch Platform",
            "235 S Keswick Ct, Sugar Land US-TX (29.6101,-95.5975)",
            "US-TX-Houston-12800 Briar Forest Dr - 29.7572x-95.6148",
            "My house in Brackettville",
            "17423 W. Blooming Rose Ct.",
            "Clear Creek Village"
           ],
           "lat": [
            31.3245417,
            29.1840124,
            29.585062,
            30.5921424,
            29.983293100000004,
            29.771794500000002,
            27.882257899999995,
            30.005118,
            29.5387498,
            30.228659999999998,
            29.497588,
            29.7076,
            29.761388899999996,
            29.984551,
            33.1396893,
            29.1840124,
            31.3245417,
            29.7076,
            30.359211900000002,
            32.6525663,
            28.051432000000002,
            32.6924823,
            29.184577700000002,
            31.1221402,
            27.866055100000004,
            29.610055,
            29.75716,
            29.319527700000002,
            30.005118,
            29.5050386
           ],
           "legendgroup": "Fall",
           "lon": [
            -94.7369136,
            -98.5040419,
            -98.26095,
            -96.4047503,
            -96.0048522,
            -95.5695572,
            -97.3050741,
            -95.6898288,
            -95.1757018,
            -99.19985799999999,
            -95.145198,
            -95.763944,
            -95.7701062,
            -98.908509,
            -96.9186831,
            -98.5040419,
            -94.7369136,
            -95.763944,
            -97.7832556,
            -97.22918320000001,
            -97.05076600000001,
            -94.1768217,
            -98.5044581,
            -97.33449250000001,
            -97.6427346,
            -95.597527,
            -95.61485,
            -100.4116973,
            -95.6898288,
            -95.1222247
           ],
           "marker": {
            "color": "#ab63fa",
            "size": [
             31.3245417,
             29.1840124,
             29.585062,
             30.5921424,
             29.983293100000004,
             29.771794500000002,
             27.882257899999995,
             30.005118,
             29.5387498,
             30.228659999999998,
             29.497588,
             29.7076,
             29.761388899999996,
             29.984551,
             33.1396893,
             29.1840124,
             31.3245417,
             29.7076,
             30.359211900000002,
             32.6525663,
             28.051432000000002,
             32.6924823,
             29.184577700000002,
             31.1221402,
             27.866055100000004,
             29.610055,
             29.75716,
             29.319527700000002,
             30.005118,
             29.5050386
            ],
            "sizemode": "area",
            "sizeref": 0.34383577000000004
           },
           "mode": "markers",
           "name": "Fall",
           "showlegend": true,
           "subplot": "mapbox",
           "type": "scattermapbox"
          }
         ],
         "name": "September"
        },
        {
         "data": [
          {
           "hovertemplate": "<b>%{hovertext}</b><br><br>Season=Fall<br>month=October<br>Latitude=%{lat}<br>Longitude=%{lon}<extra></extra>",
           "hovertext": [
            "Canyon Lake--Dam & Nature Trl below dam (HOTE 073)",
            "Robyn",
            "Sherwood neighborhood",
            "Sherwood neighborhood",
            "7314 Ravenswood Rd, Granbury US-TX (32.3838,-97.6473)",
            "9800 North Taylor Road, McAllen, Texas, US (26.298, -98.262)",
            "South Llano River State Park, Junction US-TX (30.4465,-99.7980)",
            "Commons Ford Ranch Metro Park",
            "Oakwell Farms (Sherborne Wood)",
            "17423 W. Blooming Rose Ct.",
            "Hazel Bazemore Park (CTC 078)",
            "Our Backyard",
            "Our Backyard",
            "Quintana Neotropical Bird Sanctuary (UTC 121)",
            "US-TX-Houston-12800 Briar Forest Dr - 29.7572x-95.6148",
            "Habitat 715",
            "Missouri City US-TX (29.5865,-95.5756)",
            "515 Gilchrist Ave, College Station US-TX (30.6240,-96.3198)",
            "Olds Creek Bird Sanctuary",
            "Beaumont, North End, home",
            "Lake Waxahachie western cove (Yard)",
            "Windsor Park",
            "Backyard",
            "DDD Olds Creek Dr",
            "Greenwood Forest Subdivision",
            "New Territory, Fort Bend Co, TX",
            "Habitat 715",
            "my back yard",
            "Edinburg Scenic Wetlands WBC (LTC 061)",
            "Residence",
            "Ortego Home (private)"
           ],
           "lat": [
            29.869340500000003,
            27.688933000000002,
            31.3245417,
            31.3245417,
            32.383841,
            26.297903299999998,
            30.446485,
            30.3373826,
            29.5073885,
            30.005118,
            27.8669646,
            29.5387498,
            29.5387498,
            28.933622600000003,
            29.75716,
            32.362962100000004,
            29.58652,
            30.623996999999996,
            30.621146799999998,
            30.101845899999997,
            32.339782,
            33.4708958,
            30.308463500000002,
            30.618894,
            30.0798262,
            29.591445899999997,
            32.362962100000004,
            25.9587545,
            26.2905822,
            29.9871597,
            28.734173100000003
           ],
           "legendgroup": "Fall",
           "lon": [
            -98.1964445,
            -97.348499,
            -94.7369136,
            -94.7369136,
            -97.647283,
            -98.2624814,
            -99.79796999999999,
            -97.89307590000001,
            -98.4237783,
            -95.6898288,
            -97.6418281,
            -95.1757018,
            -95.1757018,
            -95.30872459999999,
            -95.61485,
            -94.8729944,
            -95.575564,
            -96.319806,
            -103.9823824,
            -94.11274909999999,
            -96.8435686,
            -101.95623499999999,
            -97.98522120000001,
            -103.982375,
            -99.2208572,
            -95.6654692,
            -94.8729944,
            -97.5762002,
            -98.13519090000001,
            -94.01883959999999,
            -97.13716509999999
           ],
           "marker": {
            "color": "#ab63fa",
            "size": [
             29.869340500000003,
             27.688933000000002,
             31.3245417,
             31.3245417,
             32.383841,
             26.297903299999998,
             30.446485,
             30.3373826,
             29.5073885,
             30.005118,
             27.8669646,
             29.5387498,
             29.5387498,
             28.933622600000003,
             29.75716,
             32.362962100000004,
             29.58652,
             30.623996999999996,
             30.621146799999998,
             30.101845899999997,
             32.339782,
             33.4708958,
             30.308463500000002,
             30.618894,
             30.0798262,
             29.591445899999997,
             32.362962100000004,
             25.9587545,
             26.2905822,
             29.9871597,
             28.734173100000003
            ],
            "sizemode": "area",
            "sizeref": 0.34383577000000004
           },
           "mode": "markers",
           "name": "Fall",
           "showlegend": true,
           "subplot": "mapbox",
           "type": "scattermapbox"
          }
         ],
         "name": "October"
        },
        {
         "data": [
          {
           "hovertemplate": "<b>%{hovertext}</b><br><br>Season=Fall<br>month=November<br>Latitude=%{lat}<br>Longitude=%{lon}<extra></extra>",
           "hovertext": [
            "Residence",
            "Valley land fund migration bird sanctuary",
            "Riverpark Nature Trails (Sugar Land)",
            "Creekside Estates, League City US-TX (29.4976,-95.1452)",
            "Knolle Farm Ranch",
            "Creekside Estates, League City US-TX (29.4976,-95.1452)",
            "South Padre Is.--WBC/Conv. Center/Laguna Madre Trail (LTC 035)",
            "South Padre Is.--WBC/Conv. Center/Laguna Madre Trail (LTC 035)",
            "Hugh Ramsey Park (Harlingen Arroyo Colorado) WBC (LTC 026)",
            "Estero Llano Grande SP--Tropical Zone",
            "Estero Llano Grande SP--Tropical Zone",
            "Greenwood Forest Subdivision",
            "Greenwood Forest Subdivision",
            "Estero Llano Grande SP WBC (LTC 054)",
            "South Padre Is.--Birding and Nature Center",
            "South Padre Is.--WBC/Conv. Center/Laguna Madre Trail (LTC 035)",
            "Quintana Neotropical Bird Sanctuary (UTC 121)",
            "South Padre Is.--WBC/Conv. Center/Laguna Madre Trail (LTC 035)",
            "Riverpark Nature Trails (Sugar Land)",
            "Edinburg Scenic Wetlands WBC (LTC 061)",
            "Estero Llano Grande SP WBC (LTC 054)",
            "Jones yard, Progreso Lakes",
            "107 St Mary St, Bay City US-TX (28.6880,-95.9726)",
            "Hugh Ramsey Park (Harlingen Arroyo Colorado) WBC (LTC 026)",
            "Willow Waterhole Greenspace",
            "Quinta Mazatlan WBC (LTC 063)",
            "US-TX-Pasadena-4515 Olive Green Ct",
            "South Padre Is.--Valley Land Fund lots (LTC 036)",
            "Estero Llano Grande SP WBC (LTC 054)",
            "US-TX-Pasadena-4515 Olive Green Ct"
           ],
           "lat": [
            29.9871597,
            26.13622,
            29.5772196,
            29.497588,
            27.975509999999996,
            29.497588,
            26.140091199999997,
            26.140091199999997,
            26.1857402,
            26.124385999999998,
            26.124385999999998,
            30.0798262,
            30.0798262,
            26.1258695,
            26.137485899999998,
            26.140091199999997,
            28.933622600000003,
            26.140091199999997,
            29.5772196,
            26.2905822,
            26.1258695,
            26.0631898,
            28.688012,
            26.1857402,
            29.650204300000002,
            26.176479999999998,
            29.61233,
            26.0987595,
            26.1258695,
            29.61233
           ],
           "legendgroup": "Fall",
           "lon": [
            -94.01883959999999,
            -97.168739,
            -95.67773220000001,
            -95.145198,
            -97.822608,
            -95.145198,
            -97.1748233,
            -97.1748233,
            -97.6641657,
            -97.95856479999999,
            -97.95856479999999,
            -99.2208572,
            -99.2208572,
            -97.95727190000001,
            -97.1735573,
            -97.1748233,
            -95.30872459999999,
            -97.1748233,
            -95.67773220000001,
            -98.13519090000001,
            -97.95727190000001,
            -97.9658912,
            -95.97256,
            -97.6641657,
            -95.4725647,
            -98.22940940000001,
            -95.112571,
            -97.1674004,
            -97.95727190000001,
            -95.112571
           ],
           "marker": {
            "color": "#ab63fa",
            "size": [
             29.9871597,
             26.13622,
             29.5772196,
             29.497588,
             27.975509999999996,
             29.497588,
             26.140091199999997,
             26.140091199999997,
             26.1857402,
             26.124385999999998,
             26.124385999999998,
             30.0798262,
             30.0798262,
             26.1258695,
             26.137485899999998,
             26.140091199999997,
             28.933622600000003,
             26.140091199999997,
             29.5772196,
             26.2905822,
             26.1258695,
             26.0631898,
             28.688012,
             26.1857402,
             29.650204300000002,
             26.176479999999998,
             29.61233,
             26.0987595,
             26.1258695,
             29.61233
            ],
            "sizemode": "area",
            "sizeref": 0.34383577000000004
           },
           "mode": "markers",
           "name": "Fall",
           "showlegend": true,
           "subplot": "mapbox",
           "type": "scattermapbox"
          }
         ],
         "name": "November"
        },
        {
         "data": [
          {
           "hovertemplate": "<b>%{hovertext}</b><br><br>Season=Fall<br>month=December<br>Latitude=%{lat}<br>Longitude=%{lon}<extra></extra>",
           "hovertext": [
            "Packery Channel Park (CTC 064)",
            "119 West Sheeps-Head Street, South Padre Island, Texas, US (26.099, -97.168)",
            "78596, Weslaco US-TX (26.1251,-97.9559)",
            "Beaumont, North End, home",
            "Clear Creek Village",
            "Estero Llano Grande SP WBC (LTC 054)",
            "Estero Llano Grande SP WBC (LTC 054)",
            "Estero Llano Grande SP WBC (LTC 054)",
            "Clear Creek Village",
            "1411 Magnolia Bend W, Baytown US-TX (29.8043,-94.8357)",
            "Estero Llano Grande SP WBC (LTC 054)",
            "Jones yard, Progreso Lakes",
            "Bentsen-Rio Grande Val. SP WBC (Mission) (LTC 069)",
            "US-TX-Pasadena-4515 Olive Green Ct",
            "US-TX-Pasadena-4515 Olive Green Ct",
            "Selkirk Island area ",
            "2578–2586 Bentsen State Park Rd 43, Mission US-TX (26.1863,-98.3794)",
            "Estero Llano Grande SP WBC (LTC 054)",
            "Casa Santa Ana B&B",
            "US-TX-Pasadena-4515 Olive Green Ct",
            "Estero Llano Grande SP WBC (LTC 054)",
            "Estero Llano Grande SP WBC (LTC 054)",
            "Henricks Backyard",
            "Estero Llano Grande SP WBC (LTC 054)",
            "US-TX-Pasadena-4515 Olive Green Ct",
            "Laguna Vista Nature Trail",
            "US-TX-Pasadena-4515 Olive Green Ct",
            "Estero Llano Grande SP WBC (LTC 054)",
            "100–198 Daisy St, Weslaco US-TX (26.1498,-97.9597)",
            "100–198 Daisy St, Weslaco US-TX (26.1498,-97.9597)",
            "100–198 Daisy St, Weslaco US-TX (26.1498,-97.9597)"
           ],
           "lat": [
            27.626499600000006,
            26.0987595,
            26.125087,
            30.101845899999997,
            29.5050386,
            26.1258695,
            26.1258695,
            26.1258695,
            29.5050386,
            29.804307,
            26.1258695,
            26.0631898,
            26.1838822,
            29.61233,
            29.61233,
            28.767997700000002,
            26.186251000000002,
            26.1258695,
            26.082362699999997,
            29.61233,
            26.1258695,
            26.1258695,
            29.531278600000004,
            26.1258695,
            29.61233,
            26.1009755,
            29.61233,
            26.1258695,
            26.149772,
            26.149772,
            26.149772
           ],
           "legendgroup": "Fall",
           "lon": [
            -97.22043690000001,
            -97.16778599999999,
            -97.955863,
            -94.11274909999999,
            -95.1222247,
            -97.95727190000001,
            -97.95727190000001,
            -97.95727190000001,
            -95.1222247,
            -94.83568100000001,
            -97.95727190000001,
            -97.9658912,
            -98.3796179,
            -95.112571,
            -95.112571,
            -96.0005522,
            -98.379359,
            -97.95727190000001,
            -98.12891450000001,
            -95.112571,
            -97.95727190000001,
            -97.95727190000001,
            -95.1957932,
            -97.95727190000001,
            -95.112571,
            -97.2987504,
            -95.112571,
            -97.95727190000001,
            -97.959743,
            -97.959743,
            -97.959743
           ],
           "marker": {
            "color": "#ab63fa",
            "size": [
             27.626499600000006,
             26.0987595,
             26.125087,
             30.101845899999997,
             29.5050386,
             26.1258695,
             26.1258695,
             26.1258695,
             29.5050386,
             29.804307,
             26.1258695,
             26.0631898,
             26.1838822,
             29.61233,
             29.61233,
             28.767997700000002,
             26.186251000000002,
             26.1258695,
             26.082362699999997,
             29.61233,
             26.1258695,
             26.1258695,
             29.531278600000004,
             26.1258695,
             29.61233,
             26.1009755,
             29.61233,
             26.1258695,
             26.149772,
             26.149772,
             26.149772
            ],
            "sizemode": "area",
            "sizeref": 0.34383577000000004
           },
           "mode": "markers",
           "name": "Fall",
           "showlegend": true,
           "subplot": "mapbox",
           "type": "scattermapbox"
          }
         ],
         "name": "December"
        }
       ],
       "layout": {
        "autosize": true,
        "legend": {
         "itemsizing": "constant",
         "title": {
          "text": "Season"
         },
         "tracegroupgap": 0
        },
        "mapbox": {
         "accesstoken": "pk.eyJ1IjoibXNpZXJyYS0wOSIsImEiOiJja2Y5dzA0d2wwazRkMnRtaGNreWRvYmFoIn0._7abYQMatrTN-U0yzepQtQ",
         "bearing": 0,
         "center": {
          "lat": 31.38926689975088,
          "lon": -99.98945882327922
         },
         "domain": {
          "x": [
           0,
           1
          ],
          "y": [
           0,
           1
          ]
         },
         "pitch": 0,
         "style": "stamen-terrain",
         "zoom": 4.778759154439903
        },
        "sliders": [
         {
          "active": 11,
          "currentvalue": {
           "prefix": "month="
          },
          "len": 0.9,
          "pad": {
           "b": 10,
           "t": 60
          },
          "steps": [
           {
            "args": [
             [
              "January"
             ],
             {
              "frame": {
               "duration": 0,
               "redraw": true
              },
              "fromcurrent": true,
              "mode": "immediate",
              "transition": {
               "duration": 0,
               "easing": "linear"
              }
             }
            ],
            "label": "January",
            "method": "animate"
           },
           {
            "args": [
             [
              "February"
             ],
             {
              "frame": {
               "duration": 0,
               "redraw": true
              },
              "fromcurrent": true,
              "mode": "immediate",
              "transition": {
               "duration": 0,
               "easing": "linear"
              }
             }
            ],
            "label": "February",
            "method": "animate"
           },
           {
            "args": [
             [
              "March"
             ],
             {
              "frame": {
               "duration": 0,
               "redraw": true
              },
              "fromcurrent": true,
              "mode": "immediate",
              "transition": {
               "duration": 0,
               "easing": "linear"
              }
             }
            ],
            "label": "March",
            "method": "animate"
           },
           {
            "args": [
             [
              "April"
             ],
             {
              "frame": {
               "duration": 0,
               "redraw": true
              },
              "fromcurrent": true,
              "mode": "immediate",
              "transition": {
               "duration": 0,
               "easing": "linear"
              }
             }
            ],
            "label": "April",
            "method": "animate"
           },
           {
            "args": [
             [
              "May"
             ],
             {
              "frame": {
               "duration": 0,
               "redraw": true
              },
              "fromcurrent": true,
              "mode": "immediate",
              "transition": {
               "duration": 0,
               "easing": "linear"
              }
             }
            ],
            "label": "May",
            "method": "animate"
           },
           {
            "args": [
             [
              "June"
             ],
             {
              "frame": {
               "duration": 0,
               "redraw": true
              },
              "fromcurrent": true,
              "mode": "immediate",
              "transition": {
               "duration": 0,
               "easing": "linear"
              }
             }
            ],
            "label": "June",
            "method": "animate"
           },
           {
            "args": [
             [
              "July"
             ],
             {
              "frame": {
               "duration": 0,
               "redraw": true
              },
              "fromcurrent": true,
              "mode": "immediate",
              "transition": {
               "duration": 0,
               "easing": "linear"
              }
             }
            ],
            "label": "July",
            "method": "animate"
           },
           {
            "args": [
             [
              "August"
             ],
             {
              "frame": {
               "duration": 0,
               "redraw": true
              },
              "fromcurrent": true,
              "mode": "immediate",
              "transition": {
               "duration": 0,
               "easing": "linear"
              }
             }
            ],
            "label": "August",
            "method": "animate"
           },
           {
            "args": [
             [
              "September"
             ],
             {
              "frame": {
               "duration": 0,
               "redraw": true
              },
              "fromcurrent": true,
              "mode": "immediate",
              "transition": {
               "duration": 0,
               "easing": "linear"
              }
             }
            ],
            "label": "September",
            "method": "animate"
           },
           {
            "args": [
             [
              "October"
             ],
             {
              "frame": {
               "duration": 0,
               "redraw": true
              },
              "fromcurrent": true,
              "mode": "immediate",
              "transition": {
               "duration": 0,
               "easing": "linear"
              }
             }
            ],
            "label": "October",
            "method": "animate"
           },
           {
            "args": [
             [
              "November"
             ],
             {
              "frame": {
               "duration": 0,
               "redraw": true
              },
              "fromcurrent": true,
              "mode": "immediate",
              "transition": {
               "duration": 0,
               "easing": "linear"
              }
             }
            ],
            "label": "November",
            "method": "animate"
           },
           {
            "args": [
             [
              "December"
             ],
             {
              "frame": {
               "duration": 0,
               "redraw": true
              },
              "fromcurrent": true,
              "mode": "immediate",
              "transition": {
               "duration": 0,
               "easing": "linear"
              }
             }
            ],
            "label": "December",
            "method": "animate"
           }
          ],
          "x": 0.1,
          "xanchor": "left",
          "y": 0,
          "yanchor": "top"
         }
        ],
        "template": {
         "data": {
          "bar": [
           {
            "error_x": {
             "color": "#2a3f5f"
            },
            "error_y": {
             "color": "#2a3f5f"
            },
            "marker": {
             "line": {
              "color": "#E5ECF6",
              "width": 0.5
             }
            },
            "type": "bar"
           }
          ],
          "barpolar": [
           {
            "marker": {
             "line": {
              "color": "#E5ECF6",
              "width": 0.5
             }
            },
            "type": "barpolar"
           }
          ],
          "carpet": [
           {
            "aaxis": {
             "endlinecolor": "#2a3f5f",
             "gridcolor": "white",
             "linecolor": "white",
             "minorgridcolor": "white",
             "startlinecolor": "#2a3f5f"
            },
            "baxis": {
             "endlinecolor": "#2a3f5f",
             "gridcolor": "white",
             "linecolor": "white",
             "minorgridcolor": "white",
             "startlinecolor": "#2a3f5f"
            },
            "type": "carpet"
           }
          ],
          "choropleth": [
           {
            "colorbar": {
             "outlinewidth": 0,
             "ticks": ""
            },
            "type": "choropleth"
           }
          ],
          "contour": [
           {
            "colorbar": {
             "outlinewidth": 0,
             "ticks": ""
            },
            "colorscale": [
             [
              0,
              "#0d0887"
             ],
             [
              0.1111111111111111,
              "#46039f"
             ],
             [
              0.2222222222222222,
              "#7201a8"
             ],
             [
              0.3333333333333333,
              "#9c179e"
             ],
             [
              0.4444444444444444,
              "#bd3786"
             ],
             [
              0.5555555555555556,
              "#d8576b"
             ],
             [
              0.6666666666666666,
              "#ed7953"
             ],
             [
              0.7777777777777778,
              "#fb9f3a"
             ],
             [
              0.8888888888888888,
              "#fdca26"
             ],
             [
              1,
              "#f0f921"
             ]
            ],
            "type": "contour"
           }
          ],
          "contourcarpet": [
           {
            "colorbar": {
             "outlinewidth": 0,
             "ticks": ""
            },
            "type": "contourcarpet"
           }
          ],
          "heatmap": [
           {
            "colorbar": {
             "outlinewidth": 0,
             "ticks": ""
            },
            "colorscale": [
             [
              0,
              "#0d0887"
             ],
             [
              0.1111111111111111,
              "#46039f"
             ],
             [
              0.2222222222222222,
              "#7201a8"
             ],
             [
              0.3333333333333333,
              "#9c179e"
             ],
             [
              0.4444444444444444,
              "#bd3786"
             ],
             [
              0.5555555555555556,
              "#d8576b"
             ],
             [
              0.6666666666666666,
              "#ed7953"
             ],
             [
              0.7777777777777778,
              "#fb9f3a"
             ],
             [
              0.8888888888888888,
              "#fdca26"
             ],
             [
              1,
              "#f0f921"
             ]
            ],
            "type": "heatmap"
           }
          ],
          "heatmapgl": [
           {
            "colorbar": {
             "outlinewidth": 0,
             "ticks": ""
            },
            "colorscale": [
             [
              0,
              "#0d0887"
             ],
             [
              0.1111111111111111,
              "#46039f"
             ],
             [
              0.2222222222222222,
              "#7201a8"
             ],
             [
              0.3333333333333333,
              "#9c179e"
             ],
             [
              0.4444444444444444,
              "#bd3786"
             ],
             [
              0.5555555555555556,
              "#d8576b"
             ],
             [
              0.6666666666666666,
              "#ed7953"
             ],
             [
              0.7777777777777778,
              "#fb9f3a"
             ],
             [
              0.8888888888888888,
              "#fdca26"
             ],
             [
              1,
              "#f0f921"
             ]
            ],
            "type": "heatmapgl"
           }
          ],
          "histogram": [
           {
            "marker": {
             "colorbar": {
              "outlinewidth": 0,
              "ticks": ""
             }
            },
            "type": "histogram"
           }
          ],
          "histogram2d": [
           {
            "colorbar": {
             "outlinewidth": 0,
             "ticks": ""
            },
            "colorscale": [
             [
              0,
              "#0d0887"
             ],
             [
              0.1111111111111111,
              "#46039f"
             ],
             [
              0.2222222222222222,
              "#7201a8"
             ],
             [
              0.3333333333333333,
              "#9c179e"
             ],
             [
              0.4444444444444444,
              "#bd3786"
             ],
             [
              0.5555555555555556,
              "#d8576b"
             ],
             [
              0.6666666666666666,
              "#ed7953"
             ],
             [
              0.7777777777777778,
              "#fb9f3a"
             ],
             [
              0.8888888888888888,
              "#fdca26"
             ],
             [
              1,
              "#f0f921"
             ]
            ],
            "type": "histogram2d"
           }
          ],
          "histogram2dcontour": [
           {
            "colorbar": {
             "outlinewidth": 0,
             "ticks": ""
            },
            "colorscale": [
             [
              0,
              "#0d0887"
             ],
             [
              0.1111111111111111,
              "#46039f"
             ],
             [
              0.2222222222222222,
              "#7201a8"
             ],
             [
              0.3333333333333333,
              "#9c179e"
             ],
             [
              0.4444444444444444,
              "#bd3786"
             ],
             [
              0.5555555555555556,
              "#d8576b"
             ],
             [
              0.6666666666666666,
              "#ed7953"
             ],
             [
              0.7777777777777778,
              "#fb9f3a"
             ],
             [
              0.8888888888888888,
              "#fdca26"
             ],
             [
              1,
              "#f0f921"
             ]
            ],
            "type": "histogram2dcontour"
           }
          ],
          "mesh3d": [
           {
            "colorbar": {
             "outlinewidth": 0,
             "ticks": ""
            },
            "type": "mesh3d"
           }
          ],
          "parcoords": [
           {
            "line": {
             "colorbar": {
              "outlinewidth": 0,
              "ticks": ""
             }
            },
            "type": "parcoords"
           }
          ],
          "pie": [
           {
            "automargin": true,
            "type": "pie"
           }
          ],
          "scatter": [
           {
            "marker": {
             "colorbar": {
              "outlinewidth": 0,
              "ticks": ""
             }
            },
            "type": "scatter"
           }
          ],
          "scatter3d": [
           {
            "line": {
             "colorbar": {
              "outlinewidth": 0,
              "ticks": ""
             }
            },
            "marker": {
             "colorbar": {
              "outlinewidth": 0,
              "ticks": ""
             }
            },
            "type": "scatter3d"
           }
          ],
          "scattercarpet": [
           {
            "marker": {
             "colorbar": {
              "outlinewidth": 0,
              "ticks": ""
             }
            },
            "type": "scattercarpet"
           }
          ],
          "scattergeo": [
           {
            "marker": {
             "colorbar": {
              "outlinewidth": 0,
              "ticks": ""
             }
            },
            "type": "scattergeo"
           }
          ],
          "scattergl": [
           {
            "marker": {
             "colorbar": {
              "outlinewidth": 0,
              "ticks": ""
             }
            },
            "type": "scattergl"
           }
          ],
          "scattermapbox": [
           {
            "marker": {
             "colorbar": {
              "outlinewidth": 0,
              "ticks": ""
             }
            },
            "type": "scattermapbox"
           }
          ],
          "scatterpolar": [
           {
            "marker": {
             "colorbar": {
              "outlinewidth": 0,
              "ticks": ""
             }
            },
            "type": "scatterpolar"
           }
          ],
          "scatterpolargl": [
           {
            "marker": {
             "colorbar": {
              "outlinewidth": 0,
              "ticks": ""
             }
            },
            "type": "scatterpolargl"
           }
          ],
          "scatterternary": [
           {
            "marker": {
             "colorbar": {
              "outlinewidth": 0,
              "ticks": ""
             }
            },
            "type": "scatterternary"
           }
          ],
          "surface": [
           {
            "colorbar": {
             "outlinewidth": 0,
             "ticks": ""
            },
            "colorscale": [
             [
              0,
              "#0d0887"
             ],
             [
              0.1111111111111111,
              "#46039f"
             ],
             [
              0.2222222222222222,
              "#7201a8"
             ],
             [
              0.3333333333333333,
              "#9c179e"
             ],
             [
              0.4444444444444444,
              "#bd3786"
             ],
             [
              0.5555555555555556,
              "#d8576b"
             ],
             [
              0.6666666666666666,
              "#ed7953"
             ],
             [
              0.7777777777777778,
              "#fb9f3a"
             ],
             [
              0.8888888888888888,
              "#fdca26"
             ],
             [
              1,
              "#f0f921"
             ]
            ],
            "type": "surface"
           }
          ],
          "table": [
           {
            "cells": {
             "fill": {
              "color": "#EBF0F8"
             },
             "line": {
              "color": "white"
             }
            },
            "header": {
             "fill": {
              "color": "#C8D4E3"
             },
             "line": {
              "color": "white"
             }
            },
            "type": "table"
           }
          ]
         },
         "layout": {
          "annotationdefaults": {
           "arrowcolor": "#2a3f5f",
           "arrowhead": 0,
           "arrowwidth": 1
          },
          "coloraxis": {
           "colorbar": {
            "outlinewidth": 0,
            "ticks": ""
           }
          },
          "colorscale": {
           "diverging": [
            [
             0,
             "#8e0152"
            ],
            [
             0.1,
             "#c51b7d"
            ],
            [
             0.2,
             "#de77ae"
            ],
            [
             0.3,
             "#f1b6da"
            ],
            [
             0.4,
             "#fde0ef"
            ],
            [
             0.5,
             "#f7f7f7"
            ],
            [
             0.6,
             "#e6f5d0"
            ],
            [
             0.7,
             "#b8e186"
            ],
            [
             0.8,
             "#7fbc41"
            ],
            [
             0.9,
             "#4d9221"
            ],
            [
             1,
             "#276419"
            ]
           ],
           "sequential": [
            [
             0,
             "#0d0887"
            ],
            [
             0.1111111111111111,
             "#46039f"
            ],
            [
             0.2222222222222222,
             "#7201a8"
            ],
            [
             0.3333333333333333,
             "#9c179e"
            ],
            [
             0.4444444444444444,
             "#bd3786"
            ],
            [
             0.5555555555555556,
             "#d8576b"
            ],
            [
             0.6666666666666666,
             "#ed7953"
            ],
            [
             0.7777777777777778,
             "#fb9f3a"
            ],
            [
             0.8888888888888888,
             "#fdca26"
            ],
            [
             1,
             "#f0f921"
            ]
           ],
           "sequentialminus": [
            [
             0,
             "#0d0887"
            ],
            [
             0.1111111111111111,
             "#46039f"
            ],
            [
             0.2222222222222222,
             "#7201a8"
            ],
            [
             0.3333333333333333,
             "#9c179e"
            ],
            [
             0.4444444444444444,
             "#bd3786"
            ],
            [
             0.5555555555555556,
             "#d8576b"
            ],
            [
             0.6666666666666666,
             "#ed7953"
            ],
            [
             0.7777777777777778,
             "#fb9f3a"
            ],
            [
             0.8888888888888888,
             "#fdca26"
            ],
            [
             1,
             "#f0f921"
            ]
           ]
          },
          "colorway": [
           "#636efa",
           "#EF553B",
           "#00cc96",
           "#ab63fa",
           "#FFA15A",
           "#19d3f3",
           "#FF6692",
           "#B6E880",
           "#FF97FF",
           "#FECB52"
          ],
          "font": {
           "color": "#2a3f5f"
          },
          "geo": {
           "bgcolor": "white",
           "lakecolor": "white",
           "landcolor": "#E5ECF6",
           "showlakes": true,
           "showland": true,
           "subunitcolor": "white"
          },
          "hoverlabel": {
           "align": "left"
          },
          "hovermode": "closest",
          "mapbox": {
           "style": "light"
          },
          "paper_bgcolor": "white",
          "plot_bgcolor": "#E5ECF6",
          "polar": {
           "angularaxis": {
            "gridcolor": "white",
            "linecolor": "white",
            "ticks": ""
           },
           "bgcolor": "#E5ECF6",
           "radialaxis": {
            "gridcolor": "white",
            "linecolor": "white",
            "ticks": ""
           }
          },
          "scene": {
           "xaxis": {
            "backgroundcolor": "#E5ECF6",
            "gridcolor": "white",
            "gridwidth": 2,
            "linecolor": "white",
            "showbackground": true,
            "ticks": "",
            "zerolinecolor": "white"
           },
           "yaxis": {
            "backgroundcolor": "#E5ECF6",
            "gridcolor": "white",
            "gridwidth": 2,
            "linecolor": "white",
            "showbackground": true,
            "ticks": "",
            "zerolinecolor": "white"
           },
           "zaxis": {
            "backgroundcolor": "#E5ECF6",
            "gridcolor": "white",
            "gridwidth": 2,
            "linecolor": "white",
            "showbackground": true,
            "ticks": "",
            "zerolinecolor": "white"
           }
          },
          "shapedefaults": {
           "line": {
            "color": "#2a3f5f"
           }
          },
          "ternary": {
           "aaxis": {
            "gridcolor": "white",
            "linecolor": "white",
            "ticks": ""
           },
           "baxis": {
            "gridcolor": "white",
            "linecolor": "white",
            "ticks": ""
           },
           "bgcolor": "#E5ECF6",
           "caxis": {
            "gridcolor": "white",
            "linecolor": "white",
            "ticks": ""
           }
          },
          "title": {
           "x": 0.05
          },
          "xaxis": {
           "automargin": true,
           "gridcolor": "white",
           "linecolor": "white",
           "ticks": "",
           "title": {
            "standoff": 15
           },
           "zerolinecolor": "white",
           "zerolinewidth": 2
          },
          "yaxis": {
           "automargin": true,
           "gridcolor": "white",
           "linecolor": "white",
           "ticks": "",
           "title": {
            "standoff": 15
           },
           "zerolinecolor": "white",
           "zerolinewidth": 2
          }
         }
        },
        "title": {
         "text": "Ruby-throated Hummingbirds Observed in Texas in 2019 by Month"
        },
        "updatemenus": [
         {
          "active": 0,
          "buttons": [
           {
            "args": [
             null,
             {
              "frame": {
               "duration": 500,
               "redraw": true
              },
              "fromcurrent": true,
              "mode": "immediate",
              "transition": {
               "duration": 500,
               "easing": "linear"
              }
             }
            ],
            "label": "&#9654;",
            "method": "animate"
           },
           {
            "args": [
             [
              null
             ],
             {
              "frame": {
               "duration": 0,
               "redraw": true
              },
              "fromcurrent": true,
              "mode": "immediate",
              "transition": {
               "duration": 0,
               "easing": "linear"
              }
             }
            ],
            "label": "&#9724;",
            "method": "animate"
           }
          ],
          "direction": "left",
          "pad": {
           "r": 10,
           "t": 70
          },
          "showactive": false,
          "type": "buttons",
          "x": 0.1,
          "xanchor": "right",
          "y": 0,
          "yanchor": "top"
         }
        ]
       }
      },
      "image/png": "[encoded data removed]",
      "text/html": [
       "<div>                            <div id=\"439fcc13-090f-483b-ad57-38830bb91753\" class=\"plotly-graph-div\" style=\"height:750px; width:100%;\"></div>            <script type=\"text/javascript\">                require([\"plotly\"], function(Plotly) {                    window.PLOTLYENV=window.PLOTLYENV || {};                                    if (document.getElementById(\"439fcc13-090f-483b-ad57-38830bb91753\")) {                    Plotly.newPlot(                        \"439fcc13-090f-483b-ad57-38830bb91753\",                        [{\"hovertemplate\": \"<b>%{hovertext}</b><br><br>Season=Winter<br>month=January<br>Latitude=%{lat}<br>Longitude=%{lon}<extra></extra>\", \"hovertext\": [\"Estero Llano Grande SP WBC (LTC 054)\", \"Orwig Home\", \"Boggy Bayou Nature Park\", \"Bentsen-Rio Grande Val. SP--HQ Buildings area\", \"Estero Llano Grande SP WBC (LTC 054)\", \"Estero Llano Grande SP WBC (LTC 054)\", \"My Yard\", \"Estero Llano Grande SP WBC (LTC 054)\", \"Estero Llano Grande SP WBC (LTC 054)\", \"US-TX-Dickinson-Cedar Drive\", \"Orwig Home\", \"Estero Llano Grande SP WBC (LTC 054)\", \"Orwig Home\", \"Lake Jackson--108 Any Way St\", \"Goose Island SP (CTC 048)\", \"Estero Llano Grande SP WBC (LTC 054)\", \"Estero Llano Grande SP WBC (LTC 054)\", \"Estero Llano Grande SP WBC (LTC 054)\", \"Estero Llano Grande SP--Tropical Zone\", \"Estero Llano Grande SP WBC (LTC 054)\", \"Bentsen-Rio Grande Val. SP WBC (Mission) (LTC 069)\", \"Goose Island SP--Campground area\", \"Estero Llano Grande SP--Tropical Zone\", \"Goose Island SP--Campground area\", \"Bentsen-Rio Grande Val. SP--HQ Buildings area\", \"Bentsen-Rio Grande Val. SP WBC (Mission) (LTC 069)\", \"Bentsen-Rio Grande Val. SP--HQ Buildings area\", \"Estero Llano Grande SP WBC (LTC 054)\", \"Estero Llano Grande SP WBC (LTC 054)\", \"The Inn At Chachalaca Bend, Los Fresnos, Texas, US (26.087, -97.441)\", \"Home Lake James Edinburg\"], \"lat\": [26.1258695, 29.766149199999997, 28.4563683, 26.185605499999998, 26.1258695, 26.1258695, 27.768763500000002, 26.1258695, 26.1258695, 29.461652, 29.766149199999997, 26.1258695, 29.766149199999997, 29.050792200000004, 28.13255, 26.1258695, 26.1258695, 26.1258695, 26.124385999999998, 26.1258695, 26.1838822, 28.137621000000003, 26.124385999999998, 28.137621000000003, 26.185605499999998, 26.1838822, 26.185605499999998, 26.1258695, 26.1258695, 26.0872009, 26.2814494], \"legendgroup\": \"Winter\", \"lon\": [-97.95727190000001, -95.56874599999999, -96.4115819, -98.37993979999999, -97.95727190000001, -97.95727190000001, -97.3954983, -97.95727190000001, -97.95727190000001, -95.064423, -95.56874599999999, -97.95727190000001, -95.56874599999999, -95.4531814, -96.985052, -97.95727190000001, -97.95727190000001, -97.95727190000001, -97.95856479999999, -97.95727190000001, -98.3796179, -96.98890859999999, -97.95856479999999, -96.98890859999999, -98.37993979999999, -98.3796179, -98.37993979999999, -97.95727190000001, -97.95727190000001, -97.44110570000001, -98.2018798], \"marker\": {\"color\": \"#636efa\", \"size\": [26.1258695, 29.766149199999997, 28.4563683, 26.185605499999998, 26.1258695, 26.1258695, 27.768763500000002, 26.1258695, 26.1258695, 29.461652, 29.766149199999997, 26.1258695, 29.766149199999997, 29.050792200000004, 28.13255, 26.1258695, 26.1258695, 26.1258695, 26.124385999999998, 26.1258695, 26.1838822, 28.137621000000003, 26.124385999999998, 28.137621000000003, 26.185605499999998, 26.1838822, 26.185605499999998, 26.1258695, 26.1258695, 26.0872009, 26.2814494], \"sizemode\": \"area\", \"sizeref\": 0.34383577000000004}, \"mode\": \"markers\", \"name\": \"Winter\", \"showlegend\": true, \"subplot\": \"mapbox\", \"type\": \"scattermapbox\"}],                        {\"height\": 750, \"legend\": {\"itemsizing\": \"constant\", \"title\": {\"text\": \"Season\"}, \"tracegroupgap\": 0}, \"mapbox\": {\"accesstoken\": \"pk.eyJ1IjoibXNpZXJyYS0wOSIsImEiOiJja2Y5dzA0d2wwazRkMnRtaGNreWRvYmFoIn0._7abYQMatrTN-U0yzepQtQ\", \"center\": {\"lat\": 29.246905694230783, \"lon\": -96.82647286813186}, \"domain\": {\"x\": [0.0, 1.0], \"y\": [0.0, 1.0]}, \"style\": \"stamen-terrain\", \"zoom\": 4.5}, \"sliders\": [{\"active\": 0, \"currentvalue\": {\"prefix\": \"month=\"}, \"len\": 0.9, \"pad\": {\"b\": 10, \"t\": 60}, \"steps\": [{\"args\": [[\"January\"], {\"frame\": {\"duration\": 0, \"redraw\": true}, \"fromcurrent\": true, \"mode\": \"immediate\", \"transition\": {\"duration\": 0, \"easing\": \"linear\"}}], \"label\": \"January\", \"method\": \"animate\"}, {\"args\": [[\"February\"], {\"frame\": {\"duration\": 0, \"redraw\": true}, \"fromcurrent\": true, \"mode\": \"immediate\", \"transition\": {\"duration\": 0, \"easing\": \"linear\"}}], \"label\": \"February\", \"method\": \"animate\"}, {\"args\": [[\"March\"], {\"frame\": {\"duration\": 0, \"redraw\": true}, \"fromcurrent\": true, \"mode\": \"immediate\", \"transition\": {\"duration\": 0, \"easing\": \"linear\"}}], \"label\": \"March\", \"method\": \"animate\"}, {\"args\": [[\"April\"], {\"frame\": {\"duration\": 0, \"redraw\": true}, \"fromcurrent\": true, \"mode\": \"immediate\", \"transition\": {\"duration\": 0, \"easing\": \"linear\"}}], \"label\": \"April\", \"method\": \"animate\"}, {\"args\": [[\"May\"], {\"frame\": {\"duration\": 0, \"redraw\": true}, \"fromcurrent\": true, \"mode\": \"immediate\", \"transition\": {\"duration\": 0, \"easing\": \"linear\"}}], \"label\": \"May\", \"method\": \"animate\"}, {\"args\": [[\"June\"], {\"frame\": {\"duration\": 0, \"redraw\": true}, \"fromcurrent\": true, \"mode\": \"immediate\", \"transition\": {\"duration\": 0, \"easing\": \"linear\"}}], \"label\": \"June\", \"method\": \"animate\"}, {\"args\": [[\"July\"], {\"frame\": {\"duration\": 0, \"redraw\": true}, \"fromcurrent\": true, \"mode\": \"immediate\", \"transition\": {\"duration\": 0, \"easing\": \"linear\"}}], \"label\": \"July\", \"method\": \"animate\"}, {\"args\": [[\"August\"], {\"frame\": {\"duration\": 0, \"redraw\": true}, \"fromcurrent\": true, \"mode\": \"immediate\", \"transition\": {\"duration\": 0, \"easing\": \"linear\"}}], \"label\": \"August\", \"method\": \"animate\"}, {\"args\": [[\"September\"], {\"frame\": {\"duration\": 0, \"redraw\": true}, \"fromcurrent\": true, \"mode\": \"immediate\", \"transition\": {\"duration\": 0, \"easing\": \"linear\"}}], \"label\": \"September\", \"method\": \"animate\"}, {\"args\": [[\"October\"], {\"frame\": {\"duration\": 0, \"redraw\": true}, \"fromcurrent\": true, \"mode\": \"immediate\", \"transition\": {\"duration\": 0, \"easing\": \"linear\"}}], \"label\": \"October\", \"method\": \"animate\"}, {\"args\": [[\"November\"], {\"frame\": {\"duration\": 0, \"redraw\": true}, \"fromcurrent\": true, \"mode\": \"immediate\", \"transition\": {\"duration\": 0, \"easing\": \"linear\"}}], \"label\": \"November\", \"method\": \"animate\"}, {\"args\": [[\"December\"], {\"frame\": {\"duration\": 0, \"redraw\": true}, \"fromcurrent\": true, \"mode\": \"immediate\", \"transition\": {\"duration\": 0, \"easing\": \"linear\"}}], \"label\": \"December\", \"method\": \"animate\"}], \"x\": 0.1, \"xanchor\": \"left\", \"y\": 0, \"yanchor\": \"top\"}], \"template\": {\"data\": {\"bar\": [{\"error_x\": {\"color\": \"#2a3f5f\"}, \"error_y\": {\"color\": \"#2a3f5f\"}, \"marker\": {\"line\": {\"color\": \"#E5ECF6\", \"width\": 0.5}}, \"type\": \"bar\"}], \"barpolar\": [{\"marker\": {\"line\": {\"color\": \"#E5ECF6\", \"width\": 0.5}}, \"type\": \"barpolar\"}], \"carpet\": [{\"aaxis\": {\"endlinecolor\": \"#2a3f5f\", \"gridcolor\": \"white\", \"linecolor\": \"white\", \"minorgridcolor\": \"white\", \"startlinecolor\": \"#2a3f5f\"}, \"baxis\": {\"endlinecolor\": \"#2a3f5f\", \"gridcolor\": \"white\", \"linecolor\": \"white\", \"minorgridcolor\": \"white\", \"startlinecolor\": \"#2a3f5f\"}, \"type\": \"carpet\"}], \"choropleth\": [{\"colorbar\": {\"outlinewidth\": 0, \"ticks\": \"\"}, \"type\": \"choropleth\"}], \"contour\": [{\"colorbar\": {\"outlinewidth\": 0, \"ticks\": \"\"}, \"colorscale\": [[0.0, \"#0d0887\"], [0.1111111111111111, \"#46039f\"], [0.2222222222222222, \"#7201a8\"], [0.3333333333333333, \"#9c179e\"], [0.4444444444444444, \"#bd3786\"], [0.5555555555555556, \"#d8576b\"], [0.6666666666666666, \"#ed7953\"], [0.7777777777777778, \"#fb9f3a\"], [0.8888888888888888, \"#fdca26\"], [1.0, \"#f0f921\"]], \"type\": \"contour\"}], \"contourcarpet\": [{\"colorbar\": {\"outlinewidth\": 0, \"ticks\": \"\"}, \"type\": \"contourcarpet\"}], \"heatmap\": [{\"colorbar\": {\"outlinewidth\": 0, \"ticks\": \"\"}, \"colorscale\": [[0.0, \"#0d0887\"], [0.1111111111111111, \"#46039f\"], [0.2222222222222222, \"#7201a8\"], [0.3333333333333333, \"#9c179e\"], [0.4444444444444444, \"#bd3786\"], [0.5555555555555556, \"#d8576b\"], [0.6666666666666666, \"#ed7953\"], [0.7777777777777778, \"#fb9f3a\"], [0.8888888888888888, \"#fdca26\"], [1.0, \"#f0f921\"]], \"type\": \"heatmap\"}], \"heatmapgl\": [{\"colorbar\": {\"outlinewidth\": 0, \"ticks\": \"\"}, \"colorscale\": [[0.0, \"#0d0887\"], [0.1111111111111111, \"#46039f\"], [0.2222222222222222, \"#7201a8\"], [0.3333333333333333, \"#9c179e\"], [0.4444444444444444, \"#bd3786\"], [0.5555555555555556, \"#d8576b\"], [0.6666666666666666, \"#ed7953\"], [0.7777777777777778, \"#fb9f3a\"], [0.8888888888888888, \"#fdca26\"], [1.0, \"#f0f921\"]], \"type\": \"heatmapgl\"}], \"histogram\": [{\"marker\": {\"colorbar\": {\"outlinewidth\": 0, \"ticks\": \"\"}}, \"type\": \"histogram\"}], \"histogram2d\": [{\"colorbar\": {\"outlinewidth\": 0, \"ticks\": \"\"}, \"colorscale\": [[0.0, \"#0d0887\"], [0.1111111111111111, \"#46039f\"], [0.2222222222222222, \"#7201a8\"], [0.3333333333333333, \"#9c179e\"], [0.4444444444444444, \"#bd3786\"], [0.5555555555555556, \"#d8576b\"], [0.6666666666666666, \"#ed7953\"], [0.7777777777777778, \"#fb9f3a\"], [0.8888888888888888, \"#fdca26\"], [1.0, \"#f0f921\"]], \"type\": \"histogram2d\"}], \"histogram2dcontour\": [{\"colorbar\": {\"outlinewidth\": 0, \"ticks\": \"\"}, \"colorscale\": [[0.0, \"#0d0887\"], [0.1111111111111111, \"#46039f\"], [0.2222222222222222, \"#7201a8\"], [0.3333333333333333, \"#9c179e\"], [0.4444444444444444, \"#bd3786\"], [0.5555555555555556, \"#d8576b\"], [0.6666666666666666, \"#ed7953\"], [0.7777777777777778, \"#fb9f3a\"], [0.8888888888888888, \"#fdca26\"], [1.0, \"#f0f921\"]], \"type\": \"histogram2dcontour\"}], \"mesh3d\": [{\"colorbar\": {\"outlinewidth\": 0, \"ticks\": \"\"}, \"type\": \"mesh3d\"}], \"parcoords\": [{\"line\": {\"colorbar\": {\"outlinewidth\": 0, \"ticks\": \"\"}}, \"type\": \"parcoords\"}], \"pie\": [{\"automargin\": true, \"type\": \"pie\"}], \"scatter\": [{\"marker\": {\"colorbar\": {\"outlinewidth\": 0, \"ticks\": \"\"}}, \"type\": \"scatter\"}], \"scatter3d\": [{\"line\": {\"colorbar\": {\"outlinewidth\": 0, \"ticks\": \"\"}}, \"marker\": {\"colorbar\": {\"outlinewidth\": 0, \"ticks\": \"\"}}, \"type\": \"scatter3d\"}], \"scattercarpet\": [{\"marker\": {\"colorbar\": {\"outlinewidth\": 0, \"ticks\": \"\"}}, \"type\": \"scattercarpet\"}], \"scattergeo\": [{\"marker\": {\"colorbar\": {\"outlinewidth\": 0, \"ticks\": \"\"}}, \"type\": \"scattergeo\"}], \"scattergl\": [{\"marker\": {\"colorbar\": {\"outlinewidth\": 0, \"ticks\": \"\"}}, \"type\": \"scattergl\"}], \"scattermapbox\": [{\"marker\": {\"colorbar\": {\"outlinewidth\": 0, \"ticks\": \"\"}}, \"type\": \"scattermapbox\"}], \"scatterpolar\": [{\"marker\": {\"colorbar\": {\"outlinewidth\": 0, \"ticks\": \"\"}}, \"type\": \"scatterpolar\"}], \"scatterpolargl\": [{\"marker\": {\"colorbar\": {\"outlinewidth\": 0, \"ticks\": \"\"}}, \"type\": \"scatterpolargl\"}], \"scatterternary\": [{\"marker\": {\"colorbar\": {\"outlinewidth\": 0, \"ticks\": \"\"}}, \"type\": \"scatterternary\"}], \"surface\": [{\"colorbar\": {\"outlinewidth\": 0, \"ticks\": \"\"}, \"colorscale\": [[0.0, \"#0d0887\"], [0.1111111111111111, \"#46039f\"], [0.2222222222222222, \"#7201a8\"], [0.3333333333333333, \"#9c179e\"], [0.4444444444444444, \"#bd3786\"], [0.5555555555555556, \"#d8576b\"], [0.6666666666666666, \"#ed7953\"], [0.7777777777777778, \"#fb9f3a\"], [0.8888888888888888, \"#fdca26\"], [1.0, \"#f0f921\"]], \"type\": \"surface\"}], \"table\": [{\"cells\": {\"fill\": {\"color\": \"#EBF0F8\"}, \"line\": {\"color\": \"white\"}}, \"header\": {\"fill\": {\"color\": \"#C8D4E3\"}, \"line\": {\"color\": \"white\"}}, \"type\": \"table\"}]}, \"layout\": {\"annotationdefaults\": {\"arrowcolor\": \"#2a3f5f\", \"arrowhead\": 0, \"arrowwidth\": 1}, \"coloraxis\": {\"colorbar\": {\"outlinewidth\": 0, \"ticks\": \"\"}}, \"colorscale\": {\"diverging\": [[0, \"#8e0152\"], [0.1, \"#c51b7d\"], [0.2, \"#de77ae\"], [0.3, \"#f1b6da\"], [0.4, \"#fde0ef\"], [0.5, \"#f7f7f7\"], [0.6, \"#e6f5d0\"], [0.7, \"#b8e186\"], [0.8, \"#7fbc41\"], [0.9, \"#4d9221\"], [1, \"#276419\"]], \"sequential\": [[0.0, \"#0d0887\"], [0.1111111111111111, \"#46039f\"], [0.2222222222222222, \"#7201a8\"], [0.3333333333333333, \"#9c179e\"], [0.4444444444444444, \"#bd3786\"], [0.5555555555555556, \"#d8576b\"], [0.6666666666666666, \"#ed7953\"], [0.7777777777777778, \"#fb9f3a\"], [0.8888888888888888, \"#fdca26\"], [1.0, \"#f0f921\"]], \"sequentialminus\": [[0.0, \"#0d0887\"], [0.1111111111111111, \"#46039f\"], [0.2222222222222222, \"#7201a8\"], [0.3333333333333333, \"#9c179e\"], [0.4444444444444444, \"#bd3786\"], [0.5555555555555556, \"#d8576b\"], [0.6666666666666666, \"#ed7953\"], [0.7777777777777778, \"#fb9f3a\"], [0.8888888888888888, \"#fdca26\"], [1.0, \"#f0f921\"]]}, \"colorway\": [\"#636efa\", \"#EF553B\", \"#00cc96\", \"#ab63fa\", \"#FFA15A\", \"#19d3f3\", \"#FF6692\", \"#B6E880\", \"#FF97FF\", \"#FECB52\"], \"font\": {\"color\": \"#2a3f5f\"}, \"geo\": {\"bgcolor\": \"white\", \"lakecolor\": \"white\", \"landcolor\": \"#E5ECF6\", \"showlakes\": true, \"showland\": true, \"subunitcolor\": \"white\"}, \"hoverlabel\": {\"align\": \"left\"}, \"hovermode\": \"closest\", \"mapbox\": {\"style\": \"light\"}, \"paper_bgcolor\": \"white\", \"plot_bgcolor\": \"#E5ECF6\", \"polar\": {\"angularaxis\": {\"gridcolor\": \"white\", \"linecolor\": \"white\", \"ticks\": \"\"}, \"bgcolor\": \"#E5ECF6\", \"radialaxis\": {\"gridcolor\": \"white\", \"linecolor\": \"white\", \"ticks\": \"\"}}, \"scene\": {\"xaxis\": {\"backgroundcolor\": \"#E5ECF6\", \"gridcolor\": \"white\", \"gridwidth\": 2, \"linecolor\": \"white\", \"showbackground\": true, \"ticks\": \"\", \"zerolinecolor\": \"white\"}, \"yaxis\": {\"backgroundcolor\": \"#E5ECF6\", \"gridcolor\": \"white\", \"gridwidth\": 2, \"linecolor\": \"white\", \"showbackground\": true, \"ticks\": \"\", \"zerolinecolor\": \"white\"}, \"zaxis\": {\"backgroundcolor\": \"#E5ECF6\", \"gridcolor\": \"white\", \"gridwidth\": 2, \"linecolor\": \"white\", \"showbackground\": true, \"ticks\": \"\", \"zerolinecolor\": \"white\"}}, \"shapedefaults\": {\"line\": {\"color\": \"#2a3f5f\"}}, \"ternary\": {\"aaxis\": {\"gridcolor\": \"white\", \"linecolor\": \"white\", \"ticks\": \"\"}, \"baxis\": {\"gridcolor\": \"white\", \"linecolor\": \"white\", \"ticks\": \"\"}, \"bgcolor\": \"#E5ECF6\", \"caxis\": {\"gridcolor\": \"white\", \"linecolor\": \"white\", \"ticks\": \"\"}}, \"title\": {\"x\": 0.05}, \"xaxis\": {\"automargin\": true, \"gridcolor\": \"white\", \"linecolor\": \"white\", \"ticks\": \"\", \"title\": {\"standoff\": 15}, \"zerolinecolor\": \"white\", \"zerolinewidth\": 2}, \"yaxis\": {\"automargin\": true, \"gridcolor\": \"white\", \"linecolor\": \"white\", \"ticks\": \"\", \"title\": {\"standoff\": 15}, \"zerolinecolor\": \"white\", \"zerolinewidth\": 2}}}, \"title\": {\"text\": \"Ruby-throated Hummingbirds Observed in Texas in 2019 by Month\"}, \"updatemenus\": [{\"buttons\": [{\"args\": [null, {\"frame\": {\"duration\": 500, \"redraw\": true}, \"fromcurrent\": true, \"mode\": \"immediate\", \"transition\": {\"duration\": 500, \"easing\": \"linear\"}}], \"label\": \"&#9654;\", \"method\": \"animate\"}, {\"args\": [[null], {\"frame\": {\"duration\": 0, \"redraw\": true}, \"fromcurrent\": true, \"mode\": \"immediate\", \"transition\": {\"duration\": 0, \"easing\": \"linear\"}}], \"label\": \"&#9724;\", \"method\": \"animate\"}], \"direction\": \"left\", \"pad\": {\"r\": 10, \"t\": 70}, \"showactive\": false, \"type\": \"buttons\", \"x\": 0.1, \"xanchor\": \"right\", \"y\": 0, \"yanchor\": \"top\"}]},                        {\"responsive\": true}                    ).then(function(){\n",
       "                            Plotly.addFrames('439fcc13-090f-483b-ad57-38830bb91753', [{\"data\": [{\"hovertemplate\": \"<b>%{hovertext}</b><br><br>Season=Winter<br>month=January<br>Latitude=%{lat}<br>Longitude=%{lon}<extra></extra>\", \"hovertext\": [\"Estero Llano Grande SP WBC (LTC 054)\", \"Orwig Home\", \"Boggy Bayou Nature Park\", \"Bentsen-Rio Grande Val. SP--HQ Buildings area\", \"Estero Llano Grande SP WBC (LTC 054)\", \"Estero Llano Grande SP WBC (LTC 054)\", \"My Yard\", \"Estero Llano Grande SP WBC (LTC 054)\", \"Estero Llano Grande SP WBC (LTC 054)\", \"US-TX-Dickinson-Cedar Drive\", \"Orwig Home\", \"Estero Llano Grande SP WBC (LTC 054)\", \"Orwig Home\", \"Lake Jackson--108 Any Way St\", \"Goose Island SP (CTC 048)\", \"Estero Llano Grande SP WBC (LTC 054)\", \"Estero Llano Grande SP WBC (LTC 054)\", \"Estero Llano Grande SP WBC (LTC 054)\", \"Estero Llano Grande SP--Tropical Zone\", \"Estero Llano Grande SP WBC (LTC 054)\", \"Bentsen-Rio Grande Val. SP WBC (Mission) (LTC 069)\", \"Goose Island SP--Campground area\", \"Estero Llano Grande SP--Tropical Zone\", \"Goose Island SP--Campground area\", \"Bentsen-Rio Grande Val. SP--HQ Buildings area\", \"Bentsen-Rio Grande Val. SP WBC (Mission) (LTC 069)\", \"Bentsen-Rio Grande Val. SP--HQ Buildings area\", \"Estero Llano Grande SP WBC (LTC 054)\", \"Estero Llano Grande SP WBC (LTC 054)\", \"The Inn At Chachalaca Bend, Los Fresnos, Texas, US (26.087, -97.441)\", \"Home Lake James Edinburg\"], \"lat\": [26.1258695, 29.766149199999997, 28.4563683, 26.185605499999998, 26.1258695, 26.1258695, 27.768763500000002, 26.1258695, 26.1258695, 29.461652, 29.766149199999997, 26.1258695, 29.766149199999997, 29.050792200000004, 28.13255, 26.1258695, 26.1258695, 26.1258695, 26.124385999999998, 26.1258695, 26.1838822, 28.137621000000003, 26.124385999999998, 28.137621000000003, 26.185605499999998, 26.1838822, 26.185605499999998, 26.1258695, 26.1258695, 26.0872009, 26.2814494], \"legendgroup\": \"Winter\", \"lon\": [-97.95727190000001, -95.56874599999999, -96.4115819, -98.37993979999999, -97.95727190000001, -97.95727190000001, -97.3954983, -97.95727190000001, -97.95727190000001, -95.064423, -95.56874599999999, -97.95727190000001, -95.56874599999999, -95.4531814, -96.985052, -97.95727190000001, -97.95727190000001, -97.95727190000001, -97.95856479999999, -97.95727190000001, -98.3796179, -96.98890859999999, -97.95856479999999, -96.98890859999999, -98.37993979999999, -98.3796179, -98.37993979999999, -97.95727190000001, -97.95727190000001, -97.44110570000001, -98.2018798], \"marker\": {\"color\": \"#636efa\", \"size\": [26.1258695, 29.766149199999997, 28.4563683, 26.185605499999998, 26.1258695, 26.1258695, 27.768763500000002, 26.1258695, 26.1258695, 29.461652, 29.766149199999997, 26.1258695, 29.766149199999997, 29.050792200000004, 28.13255, 26.1258695, 26.1258695, 26.1258695, 26.124385999999998, 26.1258695, 26.1838822, 28.137621000000003, 26.124385999999998, 28.137621000000003, 26.185605499999998, 26.1838822, 26.185605499999998, 26.1258695, 26.1258695, 26.0872009, 26.2814494], \"sizemode\": \"area\", \"sizeref\": 0.34383577000000004}, \"mode\": \"markers\", \"name\": \"Winter\", \"showlegend\": true, \"subplot\": \"mapbox\", \"type\": \"scattermapbox\"}], \"name\": \"January\"}, {\"data\": [{\"hovertemplate\": \"<b>%{hovertext}</b><br><br>Season=Winter<br>month=February<br>Latitude=%{lat}<br>Longitude=%{lon}<extra></extra>\", \"hovertext\": [\"Estero Llano Grande SP WBC (LTC 054)\", \"Brazoria Co., Brian and Jennifer Kolthammer\", \"Estero Llano Grande SP WBC (LTC 054)\", \"Goose Island SP\", \"Laguna Vista Nature Trail\", \"Laguna Vista Nature Trail\", \"Home Lake James Edinburg\", \"Quinta Mazatlan WBC (LTC 063)\", \"Estero Llano Grande SP WBC (LTC 054)\", \"Estero Llano Grande SP--Tropical Zone\", \"Quinta Mazatlan WBC (LTC 063)\", \"Laguna Vista Nature Trail\", \"Estero Llano Grande SP WBC (LTC 054)\", \"Estero Llano Grande SP WBC (LTC 054)\", \"Goose Island SP (CTC 048)\", \"337 Stephens Loop, Lake City, Texas, US (28.085, -97.883)\", \"LiveOakLa\", \"11818 Bayhurst Dr, Bunker Hill Village US-TX (29.7619,-95.5306)\", \"Quinta Mazatlan WBC (LTC 063)\", \"Bentsen-Rio Grande Val. SP WBC (Mission) (LTC 069)\", \"Bentsen-Rio Grande Val. SP--HQ Buildings area\", \"Saintsgirl\", \"Bentsen-Rio Grande Val. SP WBC (Mission) (LTC 069)\", \"Goose Island SP (CTC 048)\", \"Bentsen-Rio Grande Val. SP WBC (Mission) (LTC 069)\", \"Saintsgirl\", \"Laguna Vista Nature Trail\"], \"lat\": [26.1258695, 29.0598026, 26.1258695, 28.128155, 26.1009755, 26.1009755, 26.2814494, 26.176479999999998, 26.1258695, 26.124385999999998, 26.176479999999998, 26.1009755, 26.1258695, 26.1258695, 28.13255, 28.084635600000002, 29.0458712, 29.761896999999998, 26.176479999999998, 26.1838822, 26.185605499999998, 25.9375635, 26.1838822, 28.1312394, 26.1838822, 25.9375635, 26.1009755], \"legendgroup\": \"Winter\", \"lon\": [-97.95727190000001, -95.4653642, -97.95727190000001, -96.990557, -97.2987504, -97.2987504, -98.2018798, -98.22940940000001, -97.95727190000001, -97.95856479999999, -98.22940940000001, -97.2987504, -97.95727190000001, -97.95727190000001, -96.985052, -97.8825777, -95.4340611, -95.530567, -98.22940940000001, -98.3796179, -98.37993979999999, -97.5161371, -98.3796179, -96.98413509999999, -98.3796179, -97.5161371, -97.2987504], \"marker\": {\"color\": \"#636efa\", \"size\": [26.1258695, 29.0598026, 26.1258695, 28.128155, 26.1009755, 26.1009755, 26.2814494, 26.176479999999998, 26.1258695, 26.124385999999998, 26.176479999999998, 26.1009755, 26.1258695, 26.1258695, 28.13255, 28.084635600000002, 29.0458712, 29.761896999999998, 26.176479999999998, 26.1838822, 26.185605499999998, 25.9375635, 26.1838822, 28.1312394, 26.1838822, 25.9375635, 26.1009755], \"sizemode\": \"area\", \"sizeref\": 0.34383577000000004}, \"mode\": \"markers\", \"name\": \"Winter\", \"showlegend\": true, \"subplot\": \"mapbox\", \"type\": \"scattermapbox\"}], \"name\": \"February\"}, {\"data\": [{\"hovertemplate\": \"<b>%{hovertext}</b><br><br>Season=Spring<br>month=March<br>Latitude=%{lat}<br>Longitude=%{lon}<extra></extra>\", \"hovertext\": [\"Fulton--Linda S. Castro Nature Sanctuary\", \"Bentsen-Rio Grande Val. SP--HQ Buildings area\", \"Bentsen-Rio Grande Val. SP--HQ Buildings area\", \"Zitkovic house\", \"South Padre Is.--Birding and Nature Center\", \"South Padre Is.--WBC/Conv. Center/Laguna Madre Trail (LTC 035)\", \"Goose Island SP--Campground area\", \"Goose Island SP--Campground area\", \"King Ranch Visitor Center\", \"Bentsen-Rio Grande Val. SP--HQ Buildings area\", \"Estero Llano Grande SP WBC (LTC 054)\", \"Estero Llano Grande SP WBC (LTC 054)\", \"N Damron St Tuleta Texas\", \"Katy Prairie--Hebert rd.--W. of Pattison Rd.\", \"Fulton--Henderson Habitat\", \"Goose Island SP (CTC 048)\", \"Home\", \"Saintsgirl\", \"Casa Santa Ana B&B\", \"Galveston--Lafitte's Cove (UTC 068)\", \"Goose Island SP (CTC 048)\", \"212 S Lee St, Alvin US-TX (29.4221,-95.2489)\", \"Glenbrook Valley - Sims Bayou, Houston\", \"McAllen--E.Houston Ave. Red-crowned Parrot roost\", \"16258 Stoltje Drive, Conroe, Texas, US (30.292, -95.32)\", \"Junker Home:  \\n4923 Clover Lane, Pearland, Texas, US (29.549, -95.34)\", \"South Padre Is.--WBC/Conv. Center/Laguna Madre Trail (LTC 035)\", \"503 Shadberry Dr\", \"1--Horizontal Heavens: Blanco/Comal County\", \"Home\", \"Galveston--Lafitte's Cove (UTC 068)\"], \"lat\": [28.0740695, 26.185605499999998, 26.185605499999998, 31.343255300000003, 26.137485899999998, 26.140091199999997, 28.137621000000003, 28.137621000000003, 27.519937300000002, 26.185605499999998, 26.1258695, 26.1258695, 28.572951899999996, 29.932176199999997, 28.0570929, 28.13255, 32.497437, 25.9375635, 26.082362699999997, 29.2169006, 28.13255, 29.422140999999996, 29.677775099999998, 26.195214399999998, 30.2924374, 29.549428999999996, 26.140091199999997, 30.2299065, 29.9445229, 32.497437, 29.2169006], \"legendgroup\": \"Spring\", \"lon\": [-97.0416845, -98.37993979999999, -98.37993979999999, -93.8551184, -97.1735573, -97.1748233, -96.98890859999999, -96.98890859999999, -97.8960156, -98.37993979999999, -97.95727190000001, -97.95727190000001, -97.7944136, -95.914979, -97.0440656, -96.985052, -95.424573, -97.5161371, -98.12891450000001, -94.93490159999999, -96.985052, -95.24885400000001, -95.2810818, -98.2214856, -95.320284, -95.3401683, -97.1748233, -95.550102, -98.407588, -95.424573, -94.93490159999999], \"marker\": {\"color\": \"#EF553B\", \"size\": [28.0740695, 26.185605499999998, 26.185605499999998, 31.343255300000003, 26.137485899999998, 26.140091199999997, 28.137621000000003, 28.137621000000003, 27.519937300000002, 26.185605499999998, 26.1258695, 26.1258695, 28.572951899999996, 29.932176199999997, 28.0570929, 28.13255, 32.497437, 25.9375635, 26.082362699999997, 29.2169006, 28.13255, 29.422140999999996, 29.677775099999998, 26.195214399999998, 30.2924374, 29.549428999999996, 26.140091199999997, 30.2299065, 29.9445229, 32.497437, 29.2169006], \"sizemode\": \"area\", \"sizeref\": 0.34383577000000004}, \"mode\": \"markers\", \"name\": \"Spring\", \"showlegend\": true, \"subplot\": \"mapbox\", \"type\": \"scattermapbox\"}], \"name\": \"March\"}, {\"data\": [{\"hovertemplate\": \"<b>%{hovertext}</b><br><br>Season=Spring<br>month=April<br>Latitude=%{lat}<br>Longitude=%{lon}<extra></extra>\", \"hovertext\": [\"Austin--Chez Ross (2017-2019) (private)\", \"4596 Kurtz Rd, Sealy US-TX (29.7979,-96.1390)\", \"Oliveira Park, Brownsville\", \"Goose Island SP (CTC 048)\", \"4571 S US Highway 36, Milano US-TX (30.6569,-96.8160)\", \"Sherwood neighborhood\", \"Anahuac NWR--Skillern Tract (E.Bay)(UTC 050)\", \"Painted Bunting Ranchito (private)\", \"Quintana Neotropical Bird Sanctuary (UTC 121)\", \"N Damron St Tuleta Texas\", \"North Creek Loop, Comfort, TX\", \"Galveston--Lafitte's Cove (UTC 068)\", \"Sabine Woods (UTC 026)\", \"3412 Binnacle Way, Galveston, Texas, US (29.219, -94.934)\", \"Home in Bullard\", \"US-Texas-Denton-518 Northridge Street - 33.241x-97.139\", \"Pedernales Falls State Park, Cypress Mill US-TX (30.3101,-98.2477)\", \"11608 Colmar Street, Dallas, Texas, US (32.852, -96.697)\", \"16910 Hamilton Pool Rd, Dripping Springs US-TX (30.2924,-98.0278)\", \"Clear Creek Village\", \"Anahuac NWR--Shoveler Pond Loop\", \"South Padre Is.--WBC/Conv. Center/Laguna Madre Trail (LTC 035)\", \"Junker Home:  \\n4923 Clover Lane, Pearland, Texas, US (29.549, -95.34)\", \"Private Residence, Oak Ridge Dr, Marble Falls US-TX (30.5940,-98.2562)\", \"16258 Stoltje Drive, Conroe, Texas, US (30.292, -95.32)\", \"Lake Travis\", \"Bamberger Ranch Preserve (Selah)\", \"25 N4020 Rd, Boswell, OK 74727\", \"4041 Wisteria Trl, Midlothian US-TX (32.5319,-96.9409)\", \"9311 Dancove Drive, San Antonio, Texas, US (29.523, -98.675)\"], \"lat\": [30.366685999999998, 29.797945000000002, 25.937428399999998, 28.13255, 30.656858000000003, 31.3245417, 29.6643945, 30.217526, 28.933622600000003, 28.572951899999996, 29.984551, 29.2169006, 29.698407300000003, 29.2188983, 32.038109000000006, 33.241348699999996, 30.310090000000002, 32.852000800000006, 30.292434000000004, 29.5050386, 29.609993, 26.140091199999997, 29.549428999999996, 30.593954999999998, 30.2924374, 30.4365005, 30.193, 33.665479600000005, 32.531884000000005, 29.522686699999998], \"legendgroup\": \"Spring\", \"lon\": [-97.64873659999999, -96.139039, -97.52159, -96.985052, -96.81598699999999, -94.7369136, -94.4222546, -97.415436, -95.30872459999999, -97.7944136, -98.908509, -94.93490159999999, -93.94817950000001, -94.93440890000001, -95.30169000000001, -97.139472, -98.247737, -96.6967145, -98.027843, -95.1222247, -94.551912, -97.1748233, -95.3401683, -98.256159, -95.320284, -97.93699649999999, -98.464, -95.4188634, -96.940927, -98.67499699999999], \"marker\": {\"color\": \"#EF553B\", \"size\": [30.366685999999998, 29.797945000000002, 25.937428399999998, 28.13255, 30.656858000000003, 31.3245417, 29.6643945, 30.217526, 28.933622600000003, 28.572951899999996, 29.984551, 29.2169006, 29.698407300000003, 29.2188983, 32.038109000000006, 33.241348699999996, 30.310090000000002, 32.852000800000006, 30.292434000000004, 29.5050386, 29.609993, 26.140091199999997, 29.549428999999996, 30.593954999999998, 30.2924374, 30.4365005, 30.193, 33.665479600000005, 32.531884000000005, 29.522686699999998], \"sizemode\": \"area\", \"sizeref\": 0.34383577000000004}, \"mode\": \"markers\", \"name\": \"Spring\", \"showlegend\": true, \"subplot\": \"mapbox\", \"type\": \"scattermapbox\"}], \"name\": \"April\"}, {\"data\": [{\"hovertemplate\": \"<b>%{hovertext}</b><br><br>Season=Spring<br>month=May<br>Latitude=%{lat}<br>Longitude=%{lon}<extra></extra>\", \"hovertext\": [\"Birdfeeder And Woods Sassafras Lane, Silsbee, Texas, US (30.413, -94.22)\", \"Univ. of Texas, San Antonio\", \"South Padre Is.--WBC/Conv. Center/Laguna Madre Trail (LTC 035)\", \"Plano Outdoor Learning Ctr./Woodruff Pk N.\", \"Birdfeeder And Woods Sassafras Lane, Silsbee, Texas, US (30.413, -94.22)\", \"Beaumont, North End, home\", \"Personal location\", \"Heart of the Hills Fisheries Ctr. (Sign in at office)(HOTW 069)\", \"141 Private Road 4023, Gilmer US-TX (32.7386,-94.9824)\", \"Caillouet home in Frisco, Tx\", \"Clear Creek Village\", \"Katy Prairie--Jack Road\", \"Whitehouse Cemetery, (town of) Whitehouse\", \"People 75169, Wills Point US-TX (32.8520,-95.9942)\", \"Jefe House\", \"Concordia University Texas, Austin US-TX (30.4197,-97.8383)\", \"412 Muckleroy St, Nacogdoches US-TX (31.5917,-94.6343)\", \"520 Sarah Anne Street, Nacogdoches, Texas, US (31.639, -94.648)\", \"Haw Branch Estate\", \"3650 CR 437 Cherokee, TX\", \"426 Cody Ln, Nacogdoches US-TX (31.5566,-94.6908)\", \"Home\", \"412 Muckleroy St, Nacogdoches US-TX (31.5917,-94.6343)\", \"Providence Subdivision\", \"6214 Mondean St, San Antonio US-TX (29.5355,-98.6087)\", \"Riverpark Nature Trails (Sugar Land)\", \"Brazos Co. House, Texas\", \" Terracewood yard\", \"Gattis School Rd pond/fields\", \"23758 Squirrel Rd, New Ulm, TX 78950\\n\", \"Ahlgren Yard (Private Neighborhood)\"], \"lat\": [30.413378299999998, 29.5843599, 26.140091199999997, 33.036488899999995, 30.413378299999998, 30.101845899999997, 25.941046399999998, 30.1574845, 32.738607, 33.1396893, 29.5050386, 29.9671297, 32.2216852, 32.852025, 26.2183205, 30.419665000000002, 31.591711, 31.639064500000003, 33.3294526, 30.9627136, 31.556579, 29.993332000000002, 31.591711, 29.682, 29.535546000000004, 29.5772196, 30.5921424, 31.6371967, 30.4973631, 29.8987465, 30.095508000000002], \"legendgroup\": \"Spring\", \"lon\": [-94.21957809999999, -98.615199, -97.1748233, -96.6640522, -94.21957809999999, -94.11274909999999, -97.4947894, -99.34810999999999, -94.982446, -96.9186831, -95.1222247, -95.81897740000001, -95.2136657, -95.99418299999999, -97.6850381, -97.838321, -94.63427800000001, -94.6482095, -96.69492240000001, -98.6809022, -94.690822, -95.6265, -94.63427800000001, -95.64399999999999, -98.608708, -95.67773220000001, -96.4047503, -94.6277493, -97.59517220000001, -96.4632075, -95.715047], \"marker\": {\"color\": \"#EF553B\", \"size\": [30.413378299999998, 29.5843599, 26.140091199999997, 33.036488899999995, 30.413378299999998, 30.101845899999997, 25.941046399999998, 30.1574845, 32.738607, 33.1396893, 29.5050386, 29.9671297, 32.2216852, 32.852025, 26.2183205, 30.419665000000002, 31.591711, 31.639064500000003, 33.3294526, 30.9627136, 31.556579, 29.993332000000002, 31.591711, 29.682, 29.535546000000004, 29.5772196, 30.5921424, 31.6371967, 30.4973631, 29.8987465, 30.095508000000002], \"sizemode\": \"area\", \"sizeref\": 0.34383577000000004}, \"mode\": \"markers\", \"name\": \"Spring\", \"showlegend\": true, \"subplot\": \"mapbox\", \"type\": \"scattermapbox\"}], \"name\": \"May\"}, {\"data\": [{\"hovertemplate\": \"<b>%{hovertext}</b><br><br>Season=Summer<br>month=June<br>Latitude=%{lat}<br>Longitude=%{lon}<extra></extra>\", \"hovertext\": [\"residence\", \"426 Cody Ln, Nacogdoches US-TX (31.5566,-94.6908)\", \"(30.519, -95.591)\", \"426 Cody Ln, Nacogdoches US-TX (31.5566,-94.6908)\", \"W.G. Jones State Forest (UTC 036)\", \"McKinney\", \"Roland Farm, Collin\", \"4213 Crestfield Dr, Richardson US-TX (33.0046,-96.6472)\", \"Poi Dog Farm\", \"16258 Stoltje Drive, Conroe, Texas, US (30.292, -95.32)\", \"4706 Misty Ranch Drive, Spring, Texas, US (30.081, -95.367)\", \"Yard\", \"US-TX-Pasadena-4515 Olive Green Ct\", \"424 Margaret Drive, Marshall, Texas, US (32.574, -94.434)\", \"Clear Creek Village\", \"78070, Spring Branch US-TX (29.8872,-98.4331)\", \"Riverpark Nature Trails (Sugar Land)\", \"503 Shadberry Dr\", \"stakeout Mexican Violetear, RR 1051 nr. Reagan Wells (2019)\", \"Sam and Judy's Haven\", \"Home\", \"Home, Warren, TX\", \"Caillouet home in Frisco, Tx\", \"Clear Creek Village\", \"Clear Creek Village\", \"17522 County Road 221, Buffalo, Texas, US (31.513, -95.941)\", \"11705 Hornsby Street\", \"Home\", \"Clear Creek Village\", \"Lake Pflugerville\"], \"lat\": [30.7741955, 31.556579, 30.5187033, 31.556579, 30.235563, 33.1976204, 33.2781711, 33.004575, 32.82262, 30.2924374, 30.081106800000004, 32.4734858, 29.61233, 32.574414600000004, 29.5050386, 29.887195000000002, 29.5772196, 30.2299065, 29.512874, 33.504585399999996, 32.5319446, 30.582505100000002, 33.1396893, 29.5050386, 29.5050386, 31.513170799999997, 30.3853843, 32.5319446, 29.5050386, 30.436908000000003], \"legendgroup\": \"Summer\", \"lon\": [-96.3004017, -94.690822, -95.59096629999999, -94.690822, -95.4852676, -96.6152725, -96.64923909999999, -96.647243, -96.15535, -95.320284, -95.3669404, -97.4121152, -95.112571, -94.4340975, -95.1222247, -98.43313, -95.67773220000001, -95.550102, -99.8111926, -94.5831616, -97.29627159999998, -94.3820402, -96.9186831, -95.1222247, -95.1222247, -95.9413635, -97.680881, -97.29627159999998, -95.1222247, -97.5692797], \"marker\": {\"color\": \"#00cc96\", \"size\": [30.7741955, 31.556579, 30.5187033, 31.556579, 30.235563, 33.1976204, 33.2781711, 33.004575, 32.82262, 30.2924374, 30.081106800000004, 32.4734858, 29.61233, 32.574414600000004, 29.5050386, 29.887195000000002, 29.5772196, 30.2299065, 29.512874, 33.504585399999996, 32.5319446, 30.582505100000002, 33.1396893, 29.5050386, 29.5050386, 31.513170799999997, 30.3853843, 32.5319446, 29.5050386, 30.436908000000003], \"sizemode\": \"area\", \"sizeref\": 0.34383577000000004}, \"mode\": \"markers\", \"name\": \"Summer\", \"showlegend\": true, \"subplot\": \"mapbox\", \"type\": \"scattermapbox\"}], \"name\": \"June\"}, {\"data\": [{\"hovertemplate\": \"<b>%{hovertext}</b><br><br>Season=Summer<br>month=July<br>Latitude=%{lat}<br>Longitude=%{lon}<extra></extra>\", \"hovertext\": [\"17423 W. Blooming Rose Ct.\", \"Canon Yeomans Trl\", \"Clear Creek Village\", \"County Road 971\", \"US-TX-Pasadena-4515 Olive Green Ct\", \"Monaghen Property\", \"Ward-Rutledge Farm (Cavanaugh Ranch, private)\", \"Laurie's Bird Country Cafe\", \"17423 W. Blooming Rose Ct.\", \"Sherwood neighborhood\", \"Langsbury Dr\", \"Dogwood Canyon Audubon Ctr\", \"Mckinney Roughs Park (HOTE 034)\", \"Home: 8324 Londonderry Ln, Dallas US-TX (32.7985,-96.6965)\", \"78070, Spring Branch US-TX (29.8872,-98.4331)\", \"Cibolo Nature Ctr. (HOTE 078)\", \"US-TX-Pasadena-4515 Olive Green Ct\", \"Peckerwood Garden (Limited Access)\", \"Abby\\u2019s house, Sherman US-TX\", \"17423 W. Blooming Rose Ct.\", \"Sherwood neighborhood\", \"BellaVita Neighborhood (access limited)\", \"Austin--Chez Ross (2017-2019) (private)\", \"120 Trails End\", \"Sherwood neighborhood\", \"Sherwood neighborhood\", \"Yard\", \"Yard\", \"Langsbury Dr\", \"Sherwood neighborhood\", \"22111 Shady Heath Ln, Katy US-TX (29.7076,-95.7639)\"], \"lat\": [30.005118, 30.156819, 29.5050386, 33.318382, 29.61233, 33.0252809, 31.865526199999998, 33.72225, 30.005118, 31.3245417, 29.829078000000003, 32.6134962, 30.1365541, 32.798519, 29.887195000000002, 29.7812891, 29.61233, 30.056038399999995, 33.616252, 30.005118, 31.3245417, 29.5614783, 30.366685999999998, 32.2479457, 31.3245417, 31.3245417, 32.4734858, 32.4734858, 29.829078000000003, 31.3245417, 29.7076], \"legendgroup\": \"Summer\", \"lon\": [-95.6898288, -97.829092, -95.1222247, -96.628764, -95.112571, -96.267322, -96.7702255, -96.64319499999999, -95.6898288, -94.7369136, -95.683289, -96.9711471, -97.45941640000001, -96.696478, -98.43313, -98.7096262, -95.112571, -96.03836059999999, -96.674848, -95.6898288, -94.7369136, -95.22873179999999, -97.64873659999999, -96.099098, -94.7369136, -94.7369136, -97.4121152, -97.4121152, -95.683289, -94.7369136, -95.763944], \"marker\": {\"color\": \"#00cc96\", \"size\": [30.005118, 30.156819, 29.5050386, 33.318382, 29.61233, 33.0252809, 31.865526199999998, 33.72225, 30.005118, 31.3245417, 29.829078000000003, 32.6134962, 30.1365541, 32.798519, 29.887195000000002, 29.7812891, 29.61233, 30.056038399999995, 33.616252, 30.005118, 31.3245417, 29.5614783, 30.366685999999998, 32.2479457, 31.3245417, 31.3245417, 32.4734858, 32.4734858, 29.829078000000003, 31.3245417, 29.7076], \"sizemode\": \"area\", \"sizeref\": 0.34383577000000004}, \"mode\": \"markers\", \"name\": \"Summer\", \"showlegend\": true, \"subplot\": \"mapbox\", \"type\": \"scattermapbox\"}], \"name\": \"July\"}, {\"data\": [{\"hovertemplate\": \"<b>%{hovertext}</b><br><br>Season=Summer<br>month=August<br>Latitude=%{lat}<br>Longitude=%{lon}<extra></extra>\", \"hovertext\": [\"Grapevine Lake--Oak Grove Pk\", \"Peckerwood Garden (Limited Access)\", \"Laurie's Bird Country Cafe\", \"Home, Austin US-TX (30.1797,-97.8040)\", \"Bee Creek Park / Anderson Arboretum\", \"TX-COL-Greensboro/Alma Area\", \"DS Backyard\", \"My yard McKinney, TX\", \"DS Backyard\", \"Caillouet home in Frisco, Tx\", \"Providence Subdivision\", \"Saintsgirl\", \"Providence Subdivision\", \"Major House\", \"Providence Subdivision\", \"Monaghen Property\", \"801 Green Street, Rio Vista, Texas, US (32.225, -97.368)\", \"1--Horizontal Heavens: Blanco/Comal County\", \"1--Horizontal Heavens: Blanco/Comal County\", \"New Territory, Fort Bend Co, TX\", \"Tour 18\", \"My house in Brackettville\", \"7103\\u20137149 County Road Z, Kress US-TX (34.3836,-101.7594)\", \"Villa Villekulla (Jeremy & Nathan's House)\", \"Sandstone Area\", \"Purvis Farms\", \"269 Hallmark Path, San Antonio, Texas, US Private Area\", \"My house in Brackettville\", \"New Territory, Fort Bend Co, TX\", \"269 Hallmark Path, San Antonio, Texas, US Private Area\", \"100-198 Parkglen Drive, San Antonio, Texas, US (29.502, -98.513)\"], \"lat\": [32.96604310000001, 30.056038399999995, 33.72225, 30.179713, 30.601929700000003, 33.0894562, 32.88341, 33.195331, 32.88341, 33.1396893, 29.682, 25.9375635, 29.682, 30.6738788, 29.682, 33.0252809, 32.2254223, 29.9445229, 29.9445229, 29.591445899999997, 33.04762, 29.319527700000002, 34.383577, 31.550646, 32.2631911, 29.8364968, 29.1840124, 29.319527700000002, 29.591445899999997, 29.1840124, 29.5022167], \"legendgroup\": \"Summer\", \"lon\": [-97.09360600000001, -96.03836059999999, -96.64319499999999, -97.803965, -96.3061845, -96.70921329999999, -97.275125, -96.69930500000001, -97.275125, -96.9186831, -95.64399999999999, -97.5161371, -95.64399999999999, -96.3262682, -95.64399999999999, -96.267322, -97.3679873, -98.407588, -98.407588, -95.6654692, -97.164588, -100.4116973, -101.759371, -97.201001, -99.798527, -97.7613692, -98.5040419, -100.4116973, -95.6654692, -98.5040419, -98.5133678], \"marker\": {\"color\": \"#00cc96\", \"size\": [32.96604310000001, 30.056038399999995, 33.72225, 30.179713, 30.601929700000003, 33.0894562, 32.88341, 33.195331, 32.88341, 33.1396893, 29.682, 25.9375635, 29.682, 30.6738788, 29.682, 33.0252809, 32.2254223, 29.9445229, 29.9445229, 29.591445899999997, 33.04762, 29.319527700000002, 34.383577, 31.550646, 32.2631911, 29.8364968, 29.1840124, 29.319527700000002, 29.591445899999997, 29.1840124, 29.5022167], \"sizemode\": \"area\", \"sizeref\": 0.34383577000000004}, \"mode\": \"markers\", \"name\": \"Summer\", \"showlegend\": true, \"subplot\": \"mapbox\", \"type\": \"scattermapbox\"}], \"name\": \"August\"}, {\"data\": [{\"hovertemplate\": \"<b>%{hovertext}</b><br><br>Season=Fall<br>month=September<br>Latitude=%{lat}<br>Longitude=%{lon}<extra></extra>\", \"hovertext\": [\"Sherwood neighborhood\", \"269 Hallmark Path, San Antonio, Texas, US Private Area\", \"Home\", \"Brazos Co. House, Texas\", \"1111 Waller Co_My Farm\", \"Edith L. Moore Nature Sanctuary (UTC 094)\", \"218 Sandpiper Drive, Portland, Texas, US (27.882, -97.305)\", \"17423 W. Blooming Rose Ct.\", \"Our Backyard\", \"377 Highland Dr, Harper US-TX (30.2287,-99.1999)\", \"Creekside Estates, League City US-TX (29.4976,-95.1452)\", \"22111 Shady Heath Ln, Katy US-TX (29.7076,-95.7639)\", \"Meadow Green Subdivision\", \"North Creek Loop, Comfort, TX\", \"Caillouet home in Frisco, Tx\", \"269 Hallmark Path, San Antonio, Texas, US Private Area\", \"Sherwood neighborhood\", \"22111 Shady Heath Ln, Katy US-TX (29.7076,-95.7639)\", \"Yard - Northwest Hills\", \"US-Texas-Kennedale-713 Woodlea Lane - 32.653x-97.229 - Apr 30, 2017 5:51 PM\", \"110 Royal Oaks Dr, Rockport US-TX (28.0514,-97.0508)\", \"Caddo Lake SP (PPW-E 089)\", \"269 Hallmark Path, San Antonio, Texas, US (29.185, -98.504)\", \"210 West Zenith Avenue, Temple, Texas, US (31.122, -97.334)\", \"Hazel Bazemore Park Hawkwatch Platform\", \"235 S Keswick Ct, Sugar Land US-TX (29.6101,-95.5975)\", \"US-TX-Houston-12800 Briar Forest Dr - 29.7572x-95.6148\", \"My house in Brackettville\", \"17423 W. Blooming Rose Ct.\", \"Clear Creek Village\"], \"lat\": [31.3245417, 29.1840124, 29.585062, 30.5921424, 29.983293100000004, 29.771794500000002, 27.882257899999995, 30.005118, 29.5387498, 30.228659999999998, 29.497588, 29.7076, 29.761388899999996, 29.984551, 33.1396893, 29.1840124, 31.3245417, 29.7076, 30.359211900000002, 32.6525663, 28.051432000000002, 32.6924823, 29.184577700000002, 31.1221402, 27.866055100000004, 29.610055, 29.75716, 29.319527700000002, 30.005118, 29.5050386], \"legendgroup\": \"Fall\", \"lon\": [-94.7369136, -98.5040419, -98.26095, -96.4047503, -96.0048522, -95.5695572, -97.3050741, -95.6898288, -95.1757018, -99.19985799999999, -95.145198, -95.763944, -95.7701062, -98.908509, -96.9186831, -98.5040419, -94.7369136, -95.763944, -97.7832556, -97.22918320000001, -97.05076600000001, -94.1768217, -98.5044581, -97.33449250000001, -97.6427346, -95.597527, -95.61485, -100.4116973, -95.6898288, -95.1222247], \"marker\": {\"color\": \"#ab63fa\", \"size\": [31.3245417, 29.1840124, 29.585062, 30.5921424, 29.983293100000004, 29.771794500000002, 27.882257899999995, 30.005118, 29.5387498, 30.228659999999998, 29.497588, 29.7076, 29.761388899999996, 29.984551, 33.1396893, 29.1840124, 31.3245417, 29.7076, 30.359211900000002, 32.6525663, 28.051432000000002, 32.6924823, 29.184577700000002, 31.1221402, 27.866055100000004, 29.610055, 29.75716, 29.319527700000002, 30.005118, 29.5050386], \"sizemode\": \"area\", \"sizeref\": 0.34383577000000004}, \"mode\": \"markers\", \"name\": \"Fall\", \"showlegend\": true, \"subplot\": \"mapbox\", \"type\": \"scattermapbox\"}], \"name\": \"September\"}, {\"data\": [{\"hovertemplate\": \"<b>%{hovertext}</b><br><br>Season=Fall<br>month=October<br>Latitude=%{lat}<br>Longitude=%{lon}<extra></extra>\", \"hovertext\": [\"Canyon Lake--Dam & Nature Trl below dam (HOTE 073)\", \"Robyn\", \"Sherwood neighborhood\", \"Sherwood neighborhood\", \"7314 Ravenswood Rd, Granbury US-TX (32.3838,-97.6473)\", \"9800 North Taylor Road, McAllen, Texas, US (26.298, -98.262)\", \"South Llano River State Park, Junction US-TX (30.4465,-99.7980)\", \"Commons Ford Ranch Metro Park\", \"Oakwell Farms (Sherborne Wood)\", \"17423 W. Blooming Rose Ct.\", \"Hazel Bazemore Park (CTC 078)\", \"Our Backyard\", \"Our Backyard\", \"Quintana Neotropical Bird Sanctuary (UTC 121)\", \"US-TX-Houston-12800 Briar Forest Dr - 29.7572x-95.6148\", \"Habitat 715\", \"Missouri City US-TX (29.5865,-95.5756)\", \"515 Gilchrist Ave, College Station US-TX (30.6240,-96.3198)\", \"Olds Creek Bird Sanctuary\", \"Beaumont, North End, home\", \"Lake Waxahachie western cove (Yard)\", \"Windsor Park\", \"Backyard\", \"DDD Olds Creek Dr\", \"Greenwood Forest Subdivision\", \"New Territory, Fort Bend Co, TX\", \"Habitat 715\", \"my back yard\", \"Edinburg Scenic Wetlands WBC (LTC 061)\", \"Residence\", \"Ortego Home (private)\"], \"lat\": [29.869340500000003, 27.688933000000002, 31.3245417, 31.3245417, 32.383841, 26.297903299999998, 30.446485, 30.3373826, 29.5073885, 30.005118, 27.8669646, 29.5387498, 29.5387498, 28.933622600000003, 29.75716, 32.362962100000004, 29.58652, 30.623996999999996, 30.621146799999998, 30.101845899999997, 32.339782, 33.4708958, 30.308463500000002, 30.618894, 30.0798262, 29.591445899999997, 32.362962100000004, 25.9587545, 26.2905822, 29.9871597, 28.734173100000003], \"legendgroup\": \"Fall\", \"lon\": [-98.1964445, -97.348499, -94.7369136, -94.7369136, -97.647283, -98.2624814, -99.79796999999999, -97.89307590000001, -98.4237783, -95.6898288, -97.6418281, -95.1757018, -95.1757018, -95.30872459999999, -95.61485, -94.8729944, -95.575564, -96.319806, -103.9823824, -94.11274909999999, -96.8435686, -101.95623499999999, -97.98522120000001, -103.982375, -99.2208572, -95.6654692, -94.8729944, -97.5762002, -98.13519090000001, -94.01883959999999, -97.13716509999999], \"marker\": {\"color\": \"#ab63fa\", \"size\": [29.869340500000003, 27.688933000000002, 31.3245417, 31.3245417, 32.383841, 26.297903299999998, 30.446485, 30.3373826, 29.5073885, 30.005118, 27.8669646, 29.5387498, 29.5387498, 28.933622600000003, 29.75716, 32.362962100000004, 29.58652, 30.623996999999996, 30.621146799999998, 30.101845899999997, 32.339782, 33.4708958, 30.308463500000002, 30.618894, 30.0798262, 29.591445899999997, 32.362962100000004, 25.9587545, 26.2905822, 29.9871597, 28.734173100000003], \"sizemode\": \"area\", \"sizeref\": 0.34383577000000004}, \"mode\": \"markers\", \"name\": \"Fall\", \"showlegend\": true, \"subplot\": \"mapbox\", \"type\": \"scattermapbox\"}], \"name\": \"October\"}, {\"data\": [{\"hovertemplate\": \"<b>%{hovertext}</b><br><br>Season=Fall<br>month=November<br>Latitude=%{lat}<br>Longitude=%{lon}<extra></extra>\", \"hovertext\": [\"Residence\", \"Valley land fund migration bird sanctuary\", \"Riverpark Nature Trails (Sugar Land)\", \"Creekside Estates, League City US-TX (29.4976,-95.1452)\", \"Knolle Farm Ranch\", \"Creekside Estates, League City US-TX (29.4976,-95.1452)\", \"South Padre Is.--WBC/Conv. Center/Laguna Madre Trail (LTC 035)\", \"South Padre Is.--WBC/Conv. Center/Laguna Madre Trail (LTC 035)\", \"Hugh Ramsey Park (Harlingen Arroyo Colorado) WBC (LTC 026)\", \"Estero Llano Grande SP--Tropical Zone\", \"Estero Llano Grande SP--Tropical Zone\", \"Greenwood Forest Subdivision\", \"Greenwood Forest Subdivision\", \"Estero Llano Grande SP WBC (LTC 054)\", \"South Padre Is.--Birding and Nature Center\", \"South Padre Is.--WBC/Conv. Center/Laguna Madre Trail (LTC 035)\", \"Quintana Neotropical Bird Sanctuary (UTC 121)\", \"South Padre Is.--WBC/Conv. Center/Laguna Madre Trail (LTC 035)\", \"Riverpark Nature Trails (Sugar Land)\", \"Edinburg Scenic Wetlands WBC (LTC 061)\", \"Estero Llano Grande SP WBC (LTC 054)\", \"Jones yard, Progreso Lakes\", \"107 St Mary St, Bay City US-TX (28.6880,-95.9726)\", \"Hugh Ramsey Park (Harlingen Arroyo Colorado) WBC (LTC 026)\", \"Willow Waterhole Greenspace\", \"Quinta Mazatlan WBC (LTC 063)\", \"US-TX-Pasadena-4515 Olive Green Ct\", \"South Padre Is.--Valley Land Fund lots (LTC 036)\", \"Estero Llano Grande SP WBC (LTC 054)\", \"US-TX-Pasadena-4515 Olive Green Ct\"], \"lat\": [29.9871597, 26.13622, 29.5772196, 29.497588, 27.975509999999996, 29.497588, 26.140091199999997, 26.140091199999997, 26.1857402, 26.124385999999998, 26.124385999999998, 30.0798262, 30.0798262, 26.1258695, 26.137485899999998, 26.140091199999997, 28.933622600000003, 26.140091199999997, 29.5772196, 26.2905822, 26.1258695, 26.0631898, 28.688012, 26.1857402, 29.650204300000002, 26.176479999999998, 29.61233, 26.0987595, 26.1258695, 29.61233], \"legendgroup\": \"Fall\", \"lon\": [-94.01883959999999, -97.168739, -95.67773220000001, -95.145198, -97.822608, -95.145198, -97.1748233, -97.1748233, -97.6641657, -97.95856479999999, -97.95856479999999, -99.2208572, -99.2208572, -97.95727190000001, -97.1735573, -97.1748233, -95.30872459999999, -97.1748233, -95.67773220000001, -98.13519090000001, -97.95727190000001, -97.9658912, -95.97256, -97.6641657, -95.4725647, -98.22940940000001, -95.112571, -97.1674004, -97.95727190000001, -95.112571], \"marker\": {\"color\": \"#ab63fa\", \"size\": [29.9871597, 26.13622, 29.5772196, 29.497588, 27.975509999999996, 29.497588, 26.140091199999997, 26.140091199999997, 26.1857402, 26.124385999999998, 26.124385999999998, 30.0798262, 30.0798262, 26.1258695, 26.137485899999998, 26.140091199999997, 28.933622600000003, 26.140091199999997, 29.5772196, 26.2905822, 26.1258695, 26.0631898, 28.688012, 26.1857402, 29.650204300000002, 26.176479999999998, 29.61233, 26.0987595, 26.1258695, 29.61233], \"sizemode\": \"area\", \"sizeref\": 0.34383577000000004}, \"mode\": \"markers\", \"name\": \"Fall\", \"showlegend\": true, \"subplot\": \"mapbox\", \"type\": \"scattermapbox\"}], \"name\": \"November\"}, {\"data\": [{\"hovertemplate\": \"<b>%{hovertext}</b><br><br>Season=Fall<br>month=December<br>Latitude=%{lat}<br>Longitude=%{lon}<extra></extra>\", \"hovertext\": [\"Packery Channel Park (CTC 064)\", \"119 West Sheeps-Head Street, South Padre Island, Texas, US (26.099, -97.168)\", \"78596, Weslaco US-TX (26.1251,-97.9559)\", \"Beaumont, North End, home\", \"Clear Creek Village\", \"Estero Llano Grande SP WBC (LTC 054)\", \"Estero Llano Grande SP WBC (LTC 054)\", \"Estero Llano Grande SP WBC (LTC 054)\", \"Clear Creek Village\", \"1411 Magnolia Bend W, Baytown US-TX (29.8043,-94.8357)\", \"Estero Llano Grande SP WBC (LTC 054)\", \"Jones yard, Progreso Lakes\", \"Bentsen-Rio Grande Val. SP WBC (Mission) (LTC 069)\", \"US-TX-Pasadena-4515 Olive Green Ct\", \"US-TX-Pasadena-4515 Olive Green Ct\", \"Selkirk Island area \", \"2578\\u20132586 Bentsen State Park Rd 43, Mission US-TX (26.1863,-98.3794)\", \"Estero Llano Grande SP WBC (LTC 054)\", \"Casa Santa Ana B&B\", \"US-TX-Pasadena-4515 Olive Green Ct\", \"Estero Llano Grande SP WBC (LTC 054)\", \"Estero Llano Grande SP WBC (LTC 054)\", \"Henricks Backyard\", \"Estero Llano Grande SP WBC (LTC 054)\", \"US-TX-Pasadena-4515 Olive Green Ct\", \"Laguna Vista Nature Trail\", \"US-TX-Pasadena-4515 Olive Green Ct\", \"Estero Llano Grande SP WBC (LTC 054)\", \"100\\u2013198 Daisy St, Weslaco US-TX (26.1498,-97.9597)\", \"100\\u2013198 Daisy St, Weslaco US-TX (26.1498,-97.9597)\", \"100\\u2013198 Daisy St, Weslaco US-TX (26.1498,-97.9597)\"], \"lat\": [27.626499600000006, 26.0987595, 26.125087, 30.101845899999997, 29.5050386, 26.1258695, 26.1258695, 26.1258695, 29.5050386, 29.804307, 26.1258695, 26.0631898, 26.1838822, 29.61233, 29.61233, 28.767997700000002, 26.186251000000002, 26.1258695, 26.082362699999997, 29.61233, 26.1258695, 26.1258695, 29.531278600000004, 26.1258695, 29.61233, 26.1009755, 29.61233, 26.1258695, 26.149772, 26.149772, 26.149772], \"legendgroup\": \"Fall\", \"lon\": [-97.22043690000001, -97.16778599999999, -97.955863, -94.11274909999999, -95.1222247, -97.95727190000001, -97.95727190000001, -97.95727190000001, -95.1222247, -94.83568100000001, -97.95727190000001, -97.9658912, -98.3796179, -95.112571, -95.112571, -96.0005522, -98.379359, -97.95727190000001, -98.12891450000001, -95.112571, -97.95727190000001, -97.95727190000001, -95.1957932, -97.95727190000001, -95.112571, -97.2987504, -95.112571, -97.95727190000001, -97.959743, -97.959743, -97.959743], \"marker\": {\"color\": \"#ab63fa\", \"size\": [27.626499600000006, 26.0987595, 26.125087, 30.101845899999997, 29.5050386, 26.1258695, 26.1258695, 26.1258695, 29.5050386, 29.804307, 26.1258695, 26.0631898, 26.1838822, 29.61233, 29.61233, 28.767997700000002, 26.186251000000002, 26.1258695, 26.082362699999997, 29.61233, 26.1258695, 26.1258695, 29.531278600000004, 26.1258695, 29.61233, 26.1009755, 29.61233, 26.1258695, 26.149772, 26.149772, 26.149772], \"sizemode\": \"area\", \"sizeref\": 0.34383577000000004}, \"mode\": \"markers\", \"name\": \"Fall\", \"showlegend\": true, \"subplot\": \"mapbox\", \"type\": \"scattermapbox\"}], \"name\": \"December\"}]);\n",
       "                        }).then(function(){\n",
       "                            \n",
       "var gd = document.getElementById('439fcc13-090f-483b-ad57-38830bb91753');\n",
       "var x = new MutationObserver(function (mutations, observer) {{\n",
       "        var display = window.getComputedStyle(gd).display;\n",
       "        if (!display || display === 'none') {{\n",
       "            console.log([gd, 'removed!']);\n",
       "            Plotly.purge(gd);\n",
       "            observer.disconnect();\n",
       "        }}\n",
       "}});\n",
       "\n",
       "// Listen for the removal of the full notebook cells\n",
       "var notebookContainer = gd.closest('#notebook-container');\n",
       "if (notebookContainer) {{\n",
       "    x.observe(notebookContainer, {childList: true});\n",
       "}}\n",
       "\n",
       "// Listen for the clearing of the current output cell\n",
       "var outputEl = gd.closest('.output');\n",
       "if (outputEl) {{\n",
       "    x.observe(outputEl, {childList: true});\n",
       "}}\n",
       "\n",
       "                        })                };                });            </script>        </div>"
      ]
     },
     "metadata": {},
     "output_type": "display_data"
    }
   ],
   "source": [
    "px.set_mapbox_access_token(mapbox_token)\n",
    "\n",
    "fig = px.scatter_mapbox(\n",
    "    humming_bird_df,\n",
    "    lat=\"Latitude\",\n",
    "    lon=\"Longitude\",\n",
    "    hover_name=\"Location Name\",\n",
    "    color=\"Season\",\n",
    "    size=\"Latitude\",\n",
    "    animation_frame=\"month\",\n",
    "    color_continuous_scale=px.colors.cyclical.Edge,\n",
    "    size_max=10,\n",
    "    height=750,\n",
    "    mapbox_style=\"stamen-terrain\",\n",
    "    zoom=4.5,\n",
    "    title=f\"Ruby-throated Hummingbirds Observed in Texas in 2019 by Month\",\n",
    ")\n",
    "\n",
    "fig.show()"
   ]
  },
  {
   "cell_type": "code",
   "execution_count": null,
   "metadata": {},
   "outputs": [],
   "source": []
  }
 ],
 "metadata": {
  "environment": {
   "name": "common-cpu.m54",
   "type": "gcloud",
   "uri": "gcr.io/deeplearning-platform-release/base-cpu:m54"
  },
  "kernelspec": {
   "display_name": "Python 3",
   "language": "python",
   "name": "python3"
  },
  "language_info": {
   "codemirror_mode": {
    "name": "ipython",
    "version": 3
   },
   "file_extension": ".py",
   "mimetype": "text/x-python",
   "name": "python",
   "nbconvert_exporter": "python",
   "pygments_lexer": "ipython3",
   "version": "3.7.8"
  }
 },
 "nbformat": 4,
 "nbformat_minor": 4
}
